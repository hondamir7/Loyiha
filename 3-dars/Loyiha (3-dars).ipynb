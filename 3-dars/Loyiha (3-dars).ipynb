{
 "cells": [
  {
   "cell_type": "markdown",
   "metadata": {},
   "source": [
    "#2-dars"
   ]
  },
  {
   "cell_type": "code",
   "execution_count": 1,
   "metadata": {},
   "outputs": [],
   "source": [
    "import pandas as pd\n"
   ]
  },
  {
   "cell_type": "code",
   "execution_count": 4,
   "metadata": {},
   "outputs": [],
   "source": [
    "df=pd.read_csv(\"Telefon turini aniqlash 2.csv\")"
   ]
  },
  {
   "cell_type": "code",
   "execution_count": 5,
   "metadata": {},
   "outputs": [
    {
     "data": {
      "text/html": [
       "<div>\n",
       "<style scoped>\n",
       "    .dataframe tbody tr th:only-of-type {\n",
       "        vertical-align: middle;\n",
       "    }\n",
       "\n",
       "    .dataframe tbody tr th {\n",
       "        vertical-align: top;\n",
       "    }\n",
       "\n",
       "    .dataframe thead th {\n",
       "        text-align: right;\n",
       "    }\n",
       "</style>\n",
       "<table border=\"1\" class=\"dataframe\">\n",
       "  <thead>\n",
       "    <tr style=\"text-align: right;\">\n",
       "      <th></th>\n",
       "      <th>battereya_hajmi</th>\n",
       "      <th>blutus</th>\n",
       "      <th>protsessor_tezligi</th>\n",
       "      <th>ikkita simkartalik</th>\n",
       "      <th>Oldi_kamera</th>\n",
       "      <th>4G</th>\n",
       "      <th>Ichki_xotira</th>\n",
       "      <th>tel_ingichgaligi</th>\n",
       "      <th>Rangi</th>\n",
       "      <th>Vazni</th>\n",
       "      <th>...</th>\n",
       "      <th>Qurilma xajmi(pix)</th>\n",
       "      <th>Qurilma ekran kengligi(pix)</th>\n",
       "      <th>ram</th>\n",
       "      <th>Qurilma xajmi(cm)</th>\n",
       "      <th>Qurilma ekran kengligi(cm)</th>\n",
       "      <th>Bir_quvvatlashdagi gaplashish</th>\n",
       "      <th>3g</th>\n",
       "      <th>sensorli</th>\n",
       "      <th>wifi</th>\n",
       "      <th>telefon_turi</th>\n",
       "    </tr>\n",
       "  </thead>\n",
       "  <tbody>\n",
       "    <tr>\n",
       "      <th>0</th>\n",
       "      <td>842</td>\n",
       "      <td>0</td>\n",
       "      <td>2.2</td>\n",
       "      <td>0</td>\n",
       "      <td>1</td>\n",
       "      <td>0</td>\n",
       "      <td>7</td>\n",
       "      <td>0.6</td>\n",
       "      <td>Qizil</td>\n",
       "      <td>188</td>\n",
       "      <td>...</td>\n",
       "      <td>20.0</td>\n",
       "      <td>756.0</td>\n",
       "      <td>2549</td>\n",
       "      <td>9.0</td>\n",
       "      <td>7.0</td>\n",
       "      <td>19</td>\n",
       "      <td>0</td>\n",
       "      <td>0</td>\n",
       "      <td>1</td>\n",
       "      <td>1</td>\n",
       "    </tr>\n",
       "  </tbody>\n",
       "</table>\n",
       "<p>1 rows × 22 columns</p>\n",
       "</div>"
      ],
      "text/plain": [
       "   battereya_hajmi  blutus  protsessor_tezligi  ikkita simkartalik  \\\n",
       "0              842       0                 2.2                   0   \n",
       "\n",
       "   Oldi_kamera  4G  Ichki_xotira  tel_ingichgaligi  Rangi  Vazni  ...  \\\n",
       "0            1   0             7               0.6  Qizil    188  ...   \n",
       "\n",
       "   Qurilma xajmi(pix)  Qurilma ekran kengligi(pix)   ram  Qurilma xajmi(cm)  \\\n",
       "0                20.0                        756.0  2549                9.0   \n",
       "\n",
       "   Qurilma ekran kengligi(cm)  Bir_quvvatlashdagi gaplashish  3g  sensorli  \\\n",
       "0                         7.0                             19   0         0   \n",
       "\n",
       "   wifi  telefon_turi  \n",
       "0     1             1  \n",
       "\n",
       "[1 rows x 22 columns]"
      ]
     },
     "execution_count": 5,
     "metadata": {},
     "output_type": "execute_result"
    }
   ],
   "source": [
    "df.head(1)"
   ]
  },
  {
   "cell_type": "code",
   "execution_count": 6,
   "metadata": {},
   "outputs": [
    {
     "data": {
      "text/plain": [
       "<bound method DataFrame.info of       battereya_hajmi  blutus  protsessor_tezligi  ikkita simkartalik  \\\n",
       "0                 842       0                 2.2                   0   \n",
       "1                1021       1                 0.5                   1   \n",
       "2                 563       1                 0.5                   1   \n",
       "3                 615       1                 2.5                   0   \n",
       "4                1821       1                 1.2                   0   \n",
       "...               ...     ...                 ...                 ...   \n",
       "1995              794       1                 0.5                   1   \n",
       "1996             1965       1                 2.6                   1   \n",
       "1997             1911       0                 0.9                   1   \n",
       "1998             1512       0                 0.9                   0   \n",
       "1999              510       1                 2.0                   1   \n",
       "\n",
       "      Oldi_kamera  4G  Ichki_xotira  tel_ingichgaligi      Rangi  Vazni  ...  \\\n",
       "0               1   0             7               0.6      Qizil    188  ...   \n",
       "1               0   1            53               0.7     Yashil    136  ...   \n",
       "2               2   1            41               0.9      Sariq    145  ...   \n",
       "3               0   0            10               0.8  Jigarrang    131  ...   \n",
       "4              13   1            44               0.6         Oq    141  ...   \n",
       "...           ...  ..           ...               ...        ...    ...  ...   \n",
       "1995            0   1             2               0.8       Qora    106  ...   \n",
       "1996            0   0            39               0.2       Qora    187  ...   \n",
       "1997            1   1            36               0.7       Qora    108  ...   \n",
       "1998            4   1            46               0.1       Qora    145  ...   \n",
       "1999            5   1            45               0.9       Qora    168  ...   \n",
       "\n",
       "      Qurilma xajmi(pix)  Qurilma ekran kengligi(pix)   ram  \\\n",
       "0                   20.0                        756.0  2549   \n",
       "1                  905.0                       1988.0  2631   \n",
       "2                 1263.0                       1716.0  2603   \n",
       "3                 1216.0                       1786.0  2769   \n",
       "4                 1208.0                       1212.0  1411   \n",
       "...                  ...                          ...   ...   \n",
       "1995              1222.0                       1890.0   668   \n",
       "1996               915.0                       1965.0  2032   \n",
       "1997               868.0                       1632.0  3057   \n",
       "1998               336.0                        670.0   869   \n",
       "1999               483.0                        754.0  3919   \n",
       "\n",
       "      Qurilma xajmi(cm)  Qurilma ekran kengligi(cm)  \\\n",
       "0                   9.0                         7.0   \n",
       "1                  17.0                         3.0   \n",
       "2                  11.0                         2.0   \n",
       "3                  16.0                         8.0   \n",
       "4                   8.0                         2.0   \n",
       "...                 ...                         ...   \n",
       "1995               13.0                         4.0   \n",
       "1996               11.0                        10.0   \n",
       "1997                9.0                         1.0   \n",
       "1998               18.0                        10.0   \n",
       "1999               19.0                         4.0   \n",
       "\n",
       "      Bir_quvvatlashdagi gaplashish  3g  sensorli  wifi  telefon_turi  \n",
       "0                                19   0         0     1             1  \n",
       "1                                 7   1         1     0             2  \n",
       "2                                 9   1         1     0             2  \n",
       "3                                11   1         0     0             2  \n",
       "4                                15   1         1     0             1  \n",
       "...                             ...  ..       ...   ...           ...  \n",
       "1995                             19   1         1     0             0  \n",
       "1996                             16   1         1     1             2  \n",
       "1997                              5   1         1     0             3  \n",
       "1998                             19   1         1     1             0  \n",
       "1999                              2   1         1     1             3  \n",
       "\n",
       "[2000 rows x 22 columns]>"
      ]
     },
     "execution_count": 6,
     "metadata": {},
     "output_type": "execute_result"
    }
   ],
   "source": [
    "df.info"
   ]
  },
  {
   "cell_type": "code",
   "execution_count": 7,
   "metadata": {},
   "outputs": [
    {
     "data": {
      "text/plain": [
       "battereya_hajmi                  0\n",
       "blutus                           0\n",
       "protsessor_tezligi               0\n",
       "ikkita simkartalik               0\n",
       "Oldi_kamera                      0\n",
       "4G                               0\n",
       "Ichki_xotira                     0\n",
       "tel_ingichgaligi                 3\n",
       "Rangi                            0\n",
       "Vazni                            0\n",
       "Protsessor yadrolari soni        1\n",
       "Asosiy kamera                    2\n",
       "Qurilma xajmi(pix)               2\n",
       "Qurilma ekran kengligi(pix)      3\n",
       "ram                              0\n",
       "Qurilma xajmi(cm)                1\n",
       "Qurilma ekran kengligi(cm)       1\n",
       "Bir_quvvatlashdagi gaplashish    0\n",
       "3g                               0\n",
       "sensorli                         0\n",
       "wifi                             0\n",
       "telefon_turi                     0\n",
       "dtype: int64"
      ]
     },
     "execution_count": 7,
     "metadata": {},
     "output_type": "execute_result"
    }
   ],
   "source": [
    "df.isnull().sum()"
   ]
  },
  {
   "cell_type": "code",
   "execution_count": 8,
   "metadata": {},
   "outputs": [
    {
     "data": {
      "text/plain": [
       "<bound method NDFrame.tail of       battereya_hajmi  blutus  protsessor_tezligi  ikkita simkartalik  \\\n",
       "0                 842       0                 2.2                   0   \n",
       "1                1021       1                 0.5                   1   \n",
       "2                 563       1                 0.5                   1   \n",
       "3                 615       1                 2.5                   0   \n",
       "4                1821       1                 1.2                   0   \n",
       "...               ...     ...                 ...                 ...   \n",
       "1995              794       1                 0.5                   1   \n",
       "1996             1965       1                 2.6                   1   \n",
       "1997             1911       0                 0.9                   1   \n",
       "1998             1512       0                 0.9                   0   \n",
       "1999              510       1                 2.0                   1   \n",
       "\n",
       "      Oldi_kamera  4G  Ichki_xotira  tel_ingichgaligi      Rangi  Vazni  ...  \\\n",
       "0               1   0             7               0.6      Qizil    188  ...   \n",
       "1               0   1            53               0.7     Yashil    136  ...   \n",
       "2               2   1            41               0.9      Sariq    145  ...   \n",
       "3               0   0            10               0.8  Jigarrang    131  ...   \n",
       "4              13   1            44               0.6         Oq    141  ...   \n",
       "...           ...  ..           ...               ...        ...    ...  ...   \n",
       "1995            0   1             2               0.8       Qora    106  ...   \n",
       "1996            0   0            39               0.2       Qora    187  ...   \n",
       "1997            1   1            36               0.7       Qora    108  ...   \n",
       "1998            4   1            46               0.1       Qora    145  ...   \n",
       "1999            5   1            45               0.9       Qora    168  ...   \n",
       "\n",
       "      Qurilma xajmi(pix)  Qurilma ekran kengligi(pix)   ram  \\\n",
       "0                   20.0                        756.0  2549   \n",
       "1                  905.0                       1988.0  2631   \n",
       "2                 1263.0                       1716.0  2603   \n",
       "3                 1216.0                       1786.0  2769   \n",
       "4                 1208.0                       1212.0  1411   \n",
       "...                  ...                          ...   ...   \n",
       "1995              1222.0                       1890.0   668   \n",
       "1996               915.0                       1965.0  2032   \n",
       "1997               868.0                       1632.0  3057   \n",
       "1998               336.0                        670.0   869   \n",
       "1999               483.0                        754.0  3919   \n",
       "\n",
       "      Qurilma xajmi(cm)  Qurilma ekran kengligi(cm)  \\\n",
       "0                   9.0                         7.0   \n",
       "1                  17.0                         3.0   \n",
       "2                  11.0                         2.0   \n",
       "3                  16.0                         8.0   \n",
       "4                   8.0                         2.0   \n",
       "...                 ...                         ...   \n",
       "1995               13.0                         4.0   \n",
       "1996               11.0                        10.0   \n",
       "1997                9.0                         1.0   \n",
       "1998               18.0                        10.0   \n",
       "1999               19.0                         4.0   \n",
       "\n",
       "      Bir_quvvatlashdagi gaplashish  3g  sensorli  wifi  telefon_turi  \n",
       "0                                19   0         0     1             1  \n",
       "1                                 7   1         1     0             2  \n",
       "2                                 9   1         1     0             2  \n",
       "3                                11   1         0     0             2  \n",
       "4                                15   1         1     0             1  \n",
       "...                             ...  ..       ...   ...           ...  \n",
       "1995                             19   1         1     0             0  \n",
       "1996                             16   1         1     1             2  \n",
       "1997                              5   1         1     0             3  \n",
       "1998                             19   1         1     1             0  \n",
       "1999                              2   1         1     1             3  \n",
       "\n",
       "[2000 rows x 22 columns]>"
      ]
     },
     "execution_count": 8,
     "metadata": {},
     "output_type": "execute_result"
    }
   ],
   "source": [
    "df.tail"
   ]
  },
  {
   "cell_type": "code",
   "execution_count": 9,
   "metadata": {},
   "outputs": [
    {
     "data": {
      "text/plain": [
       "['battereya_hajmi',\n",
       " 'blutus',\n",
       " 'protsessor_tezligi',\n",
       " 'ikkita simkartalik',\n",
       " 'Oldi_kamera',\n",
       " '4G',\n",
       " 'Ichki_xotira',\n",
       " 'tel_ingichgaligi',\n",
       " 'Rangi',\n",
       " 'Vazni',\n",
       " 'Protsessor yadrolari soni',\n",
       " 'Asosiy kamera',\n",
       " 'Qurilma xajmi(pix)',\n",
       " 'Qurilma ekran kengligi(pix)',\n",
       " 'ram',\n",
       " 'Qurilma xajmi(cm)',\n",
       " 'Qurilma ekran kengligi(cm)',\n",
       " 'Bir_quvvatlashdagi gaplashish',\n",
       " '3g',\n",
       " 'sensorli',\n",
       " 'wifi',\n",
       " 'telefon_turi']"
      ]
     },
     "execution_count": 9,
     "metadata": {},
     "output_type": "execute_result"
    }
   ],
   "source": [
    "df.columns.tolist()"
   ]
  },
  {
   "cell_type": "code",
   "execution_count": 10,
   "metadata": {},
   "outputs": [
    {
     "data": {
      "text/html": [
       "<div>\n",
       "<style scoped>\n",
       "    .dataframe tbody tr th:only-of-type {\n",
       "        vertical-align: middle;\n",
       "    }\n",
       "\n",
       "    .dataframe tbody tr th {\n",
       "        vertical-align: top;\n",
       "    }\n",
       "\n",
       "    .dataframe thead th {\n",
       "        text-align: right;\n",
       "    }\n",
       "</style>\n",
       "<table border=\"1\" class=\"dataframe\">\n",
       "  <thead>\n",
       "    <tr style=\"text-align: right;\">\n",
       "      <th></th>\n",
       "      <th>battereya_hajmi</th>\n",
       "      <th>blutus</th>\n",
       "      <th>protsessor_tezligi</th>\n",
       "      <th>ikkita simkartalik</th>\n",
       "      <th>Oldi_kamera</th>\n",
       "      <th>4G</th>\n",
       "      <th>Ichki_xotira</th>\n",
       "      <th>tel_ingichgaligi</th>\n",
       "      <th>Vazni</th>\n",
       "      <th>Protsessor yadrolari soni</th>\n",
       "      <th>...</th>\n",
       "      <th>Qurilma xajmi(pix)</th>\n",
       "      <th>Qurilma ekran kengligi(pix)</th>\n",
       "      <th>ram</th>\n",
       "      <th>Qurilma xajmi(cm)</th>\n",
       "      <th>Qurilma ekran kengligi(cm)</th>\n",
       "      <th>Bir_quvvatlashdagi gaplashish</th>\n",
       "      <th>3g</th>\n",
       "      <th>sensorli</th>\n",
       "      <th>wifi</th>\n",
       "      <th>telefon_turi</th>\n",
       "    </tr>\n",
       "  </thead>\n",
       "  <tbody>\n",
       "    <tr>\n",
       "      <th>count</th>\n",
       "      <td>2000.000000</td>\n",
       "      <td>2000.0000</td>\n",
       "      <td>2000.000000</td>\n",
       "      <td>2000.000000</td>\n",
       "      <td>2000.000000</td>\n",
       "      <td>2000.000000</td>\n",
       "      <td>2000.000000</td>\n",
       "      <td>1997.000000</td>\n",
       "      <td>2000.000000</td>\n",
       "      <td>1999.00000</td>\n",
       "      <td>...</td>\n",
       "      <td>1998.000000</td>\n",
       "      <td>1997.000000</td>\n",
       "      <td>2000.000000</td>\n",
       "      <td>1999.000000</td>\n",
       "      <td>1999.000000</td>\n",
       "      <td>2000.000000</td>\n",
       "      <td>2000.000000</td>\n",
       "      <td>2000.000000</td>\n",
       "      <td>2000.000000</td>\n",
       "      <td>2000.000000</td>\n",
       "    </tr>\n",
       "    <tr>\n",
       "      <th>mean</th>\n",
       "      <td>1238.518500</td>\n",
       "      <td>0.4950</td>\n",
       "      <td>1.522250</td>\n",
       "      <td>0.509500</td>\n",
       "      <td>4.309500</td>\n",
       "      <td>0.521500</td>\n",
       "      <td>32.046500</td>\n",
       "      <td>0.501803</td>\n",
       "      <td>140.249000</td>\n",
       "      <td>4.51976</td>\n",
       "      <td>...</td>\n",
       "      <td>645.416416</td>\n",
       "      <td>1251.328493</td>\n",
       "      <td>2124.213000</td>\n",
       "      <td>12.308154</td>\n",
       "      <td>5.768384</td>\n",
       "      <td>11.011000</td>\n",
       "      <td>0.761500</td>\n",
       "      <td>0.503000</td>\n",
       "      <td>0.507000</td>\n",
       "      <td>1.500000</td>\n",
       "    </tr>\n",
       "    <tr>\n",
       "      <th>std</th>\n",
       "      <td>439.418206</td>\n",
       "      <td>0.5001</td>\n",
       "      <td>0.816004</td>\n",
       "      <td>0.500035</td>\n",
       "      <td>4.341444</td>\n",
       "      <td>0.499662</td>\n",
       "      <td>18.145715</td>\n",
       "      <td>0.288519</td>\n",
       "      <td>35.399655</td>\n",
       "      <td>2.28817</td>\n",
       "      <td>...</td>\n",
       "      <td>443.871085</td>\n",
       "      <td>432.235268</td>\n",
       "      <td>1084.732044</td>\n",
       "      <td>4.213650</td>\n",
       "      <td>4.357048</td>\n",
       "      <td>5.463955</td>\n",
       "      <td>0.426273</td>\n",
       "      <td>0.500116</td>\n",
       "      <td>0.500076</td>\n",
       "      <td>1.118314</td>\n",
       "    </tr>\n",
       "    <tr>\n",
       "      <th>min</th>\n",
       "      <td>501.000000</td>\n",
       "      <td>0.0000</td>\n",
       "      <td>0.500000</td>\n",
       "      <td>0.000000</td>\n",
       "      <td>0.000000</td>\n",
       "      <td>0.000000</td>\n",
       "      <td>2.000000</td>\n",
       "      <td>0.100000</td>\n",
       "      <td>80.000000</td>\n",
       "      <td>1.00000</td>\n",
       "      <td>...</td>\n",
       "      <td>0.000000</td>\n",
       "      <td>500.000000</td>\n",
       "      <td>256.000000</td>\n",
       "      <td>5.000000</td>\n",
       "      <td>0.000000</td>\n",
       "      <td>2.000000</td>\n",
       "      <td>0.000000</td>\n",
       "      <td>0.000000</td>\n",
       "      <td>0.000000</td>\n",
       "      <td>0.000000</td>\n",
       "    </tr>\n",
       "    <tr>\n",
       "      <th>25%</th>\n",
       "      <td>851.750000</td>\n",
       "      <td>0.0000</td>\n",
       "      <td>0.700000</td>\n",
       "      <td>0.000000</td>\n",
       "      <td>1.000000</td>\n",
       "      <td>0.000000</td>\n",
       "      <td>16.000000</td>\n",
       "      <td>0.200000</td>\n",
       "      <td>109.000000</td>\n",
       "      <td>3.00000</td>\n",
       "      <td>...</td>\n",
       "      <td>283.250000</td>\n",
       "      <td>875.000000</td>\n",
       "      <td>1207.500000</td>\n",
       "      <td>9.000000</td>\n",
       "      <td>2.000000</td>\n",
       "      <td>6.000000</td>\n",
       "      <td>1.000000</td>\n",
       "      <td>0.000000</td>\n",
       "      <td>0.000000</td>\n",
       "      <td>0.750000</td>\n",
       "    </tr>\n",
       "    <tr>\n",
       "      <th>50%</th>\n",
       "      <td>1226.000000</td>\n",
       "      <td>0.0000</td>\n",
       "      <td>1.500000</td>\n",
       "      <td>1.000000</td>\n",
       "      <td>3.000000</td>\n",
       "      <td>1.000000</td>\n",
       "      <td>32.000000</td>\n",
       "      <td>0.500000</td>\n",
       "      <td>141.000000</td>\n",
       "      <td>4.00000</td>\n",
       "      <td>...</td>\n",
       "      <td>565.500000</td>\n",
       "      <td>1247.000000</td>\n",
       "      <td>2146.500000</td>\n",
       "      <td>12.000000</td>\n",
       "      <td>5.000000</td>\n",
       "      <td>11.000000</td>\n",
       "      <td>1.000000</td>\n",
       "      <td>1.000000</td>\n",
       "      <td>1.000000</td>\n",
       "      <td>1.500000</td>\n",
       "    </tr>\n",
       "    <tr>\n",
       "      <th>75%</th>\n",
       "      <td>1615.250000</td>\n",
       "      <td>1.0000</td>\n",
       "      <td>2.200000</td>\n",
       "      <td>1.000000</td>\n",
       "      <td>7.000000</td>\n",
       "      <td>1.000000</td>\n",
       "      <td>48.000000</td>\n",
       "      <td>0.800000</td>\n",
       "      <td>170.000000</td>\n",
       "      <td>7.00000</td>\n",
       "      <td>...</td>\n",
       "      <td>947.750000</td>\n",
       "      <td>1633.000000</td>\n",
       "      <td>3064.500000</td>\n",
       "      <td>16.000000</td>\n",
       "      <td>9.000000</td>\n",
       "      <td>16.000000</td>\n",
       "      <td>1.000000</td>\n",
       "      <td>1.000000</td>\n",
       "      <td>1.000000</td>\n",
       "      <td>2.250000</td>\n",
       "    </tr>\n",
       "    <tr>\n",
       "      <th>max</th>\n",
       "      <td>1998.000000</td>\n",
       "      <td>1.0000</td>\n",
       "      <td>3.000000</td>\n",
       "      <td>1.000000</td>\n",
       "      <td>19.000000</td>\n",
       "      <td>1.000000</td>\n",
       "      <td>64.000000</td>\n",
       "      <td>1.000000</td>\n",
       "      <td>200.000000</td>\n",
       "      <td>8.00000</td>\n",
       "      <td>...</td>\n",
       "      <td>1960.000000</td>\n",
       "      <td>1998.000000</td>\n",
       "      <td>3998.000000</td>\n",
       "      <td>19.000000</td>\n",
       "      <td>18.000000</td>\n",
       "      <td>20.000000</td>\n",
       "      <td>1.000000</td>\n",
       "      <td>1.000000</td>\n",
       "      <td>1.000000</td>\n",
       "      <td>3.000000</td>\n",
       "    </tr>\n",
       "  </tbody>\n",
       "</table>\n",
       "<p>8 rows × 21 columns</p>\n",
       "</div>"
      ],
      "text/plain": [
       "       battereya_hajmi     blutus  protsessor_tezligi  ikkita simkartalik  \\\n",
       "count      2000.000000  2000.0000         2000.000000         2000.000000   \n",
       "mean       1238.518500     0.4950            1.522250            0.509500   \n",
       "std         439.418206     0.5001            0.816004            0.500035   \n",
       "min         501.000000     0.0000            0.500000            0.000000   \n",
       "25%         851.750000     0.0000            0.700000            0.000000   \n",
       "50%        1226.000000     0.0000            1.500000            1.000000   \n",
       "75%        1615.250000     1.0000            2.200000            1.000000   \n",
       "max        1998.000000     1.0000            3.000000            1.000000   \n",
       "\n",
       "       Oldi_kamera           4G  Ichki_xotira  tel_ingichgaligi        Vazni  \\\n",
       "count  2000.000000  2000.000000   2000.000000       1997.000000  2000.000000   \n",
       "mean      4.309500     0.521500     32.046500          0.501803   140.249000   \n",
       "std       4.341444     0.499662     18.145715          0.288519    35.399655   \n",
       "min       0.000000     0.000000      2.000000          0.100000    80.000000   \n",
       "25%       1.000000     0.000000     16.000000          0.200000   109.000000   \n",
       "50%       3.000000     1.000000     32.000000          0.500000   141.000000   \n",
       "75%       7.000000     1.000000     48.000000          0.800000   170.000000   \n",
       "max      19.000000     1.000000     64.000000          1.000000   200.000000   \n",
       "\n",
       "       Protsessor yadrolari soni  ...  Qurilma xajmi(pix)  \\\n",
       "count                 1999.00000  ...         1998.000000   \n",
       "mean                     4.51976  ...          645.416416   \n",
       "std                      2.28817  ...          443.871085   \n",
       "min                      1.00000  ...            0.000000   \n",
       "25%                      3.00000  ...          283.250000   \n",
       "50%                      4.00000  ...          565.500000   \n",
       "75%                      7.00000  ...          947.750000   \n",
       "max                      8.00000  ...         1960.000000   \n",
       "\n",
       "       Qurilma ekran kengligi(pix)          ram  Qurilma xajmi(cm)  \\\n",
       "count                  1997.000000  2000.000000        1999.000000   \n",
       "mean                   1251.328493  2124.213000          12.308154   \n",
       "std                     432.235268  1084.732044           4.213650   \n",
       "min                     500.000000   256.000000           5.000000   \n",
       "25%                     875.000000  1207.500000           9.000000   \n",
       "50%                    1247.000000  2146.500000          12.000000   \n",
       "75%                    1633.000000  3064.500000          16.000000   \n",
       "max                    1998.000000  3998.000000          19.000000   \n",
       "\n",
       "       Qurilma ekran kengligi(cm)  Bir_quvvatlashdagi gaplashish           3g  \\\n",
       "count                 1999.000000                    2000.000000  2000.000000   \n",
       "mean                     5.768384                      11.011000     0.761500   \n",
       "std                      4.357048                       5.463955     0.426273   \n",
       "min                      0.000000                       2.000000     0.000000   \n",
       "25%                      2.000000                       6.000000     1.000000   \n",
       "50%                      5.000000                      11.000000     1.000000   \n",
       "75%                      9.000000                      16.000000     1.000000   \n",
       "max                     18.000000                      20.000000     1.000000   \n",
       "\n",
       "          sensorli         wifi  telefon_turi  \n",
       "count  2000.000000  2000.000000   2000.000000  \n",
       "mean      0.503000     0.507000      1.500000  \n",
       "std       0.500116     0.500076      1.118314  \n",
       "min       0.000000     0.000000      0.000000  \n",
       "25%       0.000000     0.000000      0.750000  \n",
       "50%       1.000000     1.000000      1.500000  \n",
       "75%       1.000000     1.000000      2.250000  \n",
       "max       1.000000     1.000000      3.000000  \n",
       "\n",
       "[8 rows x 21 columns]"
      ]
     },
     "execution_count": 10,
     "metadata": {},
     "output_type": "execute_result"
    }
   ],
   "source": [
    "#statistik tahlil\n",
    "\n",
    "df.describe()"
   ]
  },
  {
   "cell_type": "code",
   "execution_count": 14,
   "metadata": {},
   "outputs": [],
   "source": [
    "import numpy as np"
   ]
  },
  {
   "cell_type": "code",
   "execution_count": 11,
   "metadata": {},
   "outputs": [
    {
     "data": {
      "text/plain": [
       "[<matplotlib.lines.Line2D at 0x1203386d0>]"
      ]
     },
     "execution_count": 11,
     "metadata": {},
     "output_type": "execute_result"
    },
    {
     "data": {
      "image/png": "[encoded data removed]",
      "text/plain": [
       "<Figure size 640x480 with 1 Axes>"
      ]
     },
     "metadata": {},
     "output_type": "display_data"
    }
   ],
   "source": [
    "import matplotlib.pyplot as plt\n",
    "plt.plot([1, 2, 3, 4], [1, 4, 9, 16])"
   ]
  },
  {
   "cell_type": "code",
   "execution_count": 12,
   "metadata": {},
   "outputs": [
    {
     "data": {
      "image/png": "[encoded data removed]",
      "text/plain": [
       "<Figure size 640x480 with 1 Axes>"
      ]
     },
     "metadata": {},
     "output_type": "display_data"
    }
   ],
   "source": [
    "plt.plot([1, 2, 3, 4], [1, 4, 9, 16], 'ro')\n",
    "plt.axis((0, 6, 0, 20))\n",
    "plt.show()"
   ]
  },
  {
   "cell_type": "code",
   "execution_count": 15,
   "metadata": {},
   "outputs": [
    {
     "data": {
      "image/png": "[encoded data removed]",
      "text/plain": [
       "<Figure size 640x480 with 1 Axes>"
      ]
     },
     "metadata": {},
     "output_type": "display_data"
    }
   ],
   "source": [
    "data = {'a': np.arange(50),\n",
    "        'c': np.random.randint(0, 50, 50),\n",
    "        'd': np.random.randn(50)}\n",
    "data['b'] = data['a'] + 10 * np.random.randn(50)\n",
    "data['d'] = np.abs(data['d']) * 100\n",
    "\n",
    "plt.scatter('a', 'b', c='c', s='d', data=data)\n",
    "plt.xlabel('a ning qiymalari')\n",
    "plt.ylabel('b ning qiymatlari')\n",
    "plt.show()"
   ]
  },
  {
   "cell_type": "code",
   "execution_count": 16,
   "metadata": {},
   "outputs": [
    {
     "data": {
      "text/plain": [
       "<seaborn.axisgrid.FacetGrid at 0x12a6ad610>"
      ]
     },
     "execution_count": 16,
     "metadata": {},
     "output_type": "execute_result"
    },
    {
     "data": {
      "image/png": "[encoded data removed]",
      "text/plain": [
       "<Figure size 591.625x500 with 1 Axes>"
      ]
     },
     "metadata": {},
     "output_type": "display_data"
    }
   ],
   "source": [
    "import seaborn as sns\n",
    "sns.set_theme(style=\"whitegrid\")\n",
    "\n",
    "# Load the example planets dataset\n",
    "planets = sns.load_dataset(\"planets\")\n",
    "\n",
    "cmap = sns.cubehelix_palette(rot=-.2, as_cmap=True)\n",
    "g = sns.relplot(\n",
    "    data=planets,\n",
    "    x=\"distance\", y=\"orbital_period\",\n",
    "    hue=\"year\", size=\"mass\",\n",
    "    palette=cmap, sizes=(10, 200),\n",
    ")\n",
    "g.set(xscale=\"log\", yscale=\"log\")\n",
    "g.ax.xaxis.grid(True, \"minor\", linewidth=.25)\n",
    "g.ax.yaxis.grid(True, \"minor\", linewidth=.25)\n",
    "g.despine(left=True, bottom=True)"
   ]
  },
  {
   "cell_type": "code",
   "execution_count": 17,
   "metadata": {},
   "outputs": [
    {
     "data": {
      "text/plain": [
       "<Axes: xlabel='Vazni', ylabel='telefon_turi'>"
      ]
     },
     "execution_count": 17,
     "metadata": {},
     "output_type": "execute_result"
    },
    {
     "data": {
      "image/png": "[encoded data removed]",
      "text/plain": [
       "<Figure size 640x480 with 1 Axes>"
      ]
     },
     "metadata": {},
     "output_type": "display_data"
    }
   ],
   "source": [
    "sns.barplot(data=df,x='Vazni',y='telefon_turi')"
   ]
  },
  {
   "cell_type": "code",
   "execution_count": 18,
   "metadata": {},
   "outputs": [
    {
     "data": {
      "text/plain": [
       "<Axes: xlabel='telefon_turi', ylabel='Count'>"
      ]
     },
     "execution_count": 18,
     "metadata": {},
     "output_type": "execute_result"
    },
    {
     "data": {
      "image/png": "[encoded data removed]",
      "text/plain": [
       "<Figure size 640x480 with 1 Axes>"
      ]
     },
     "metadata": {},
     "output_type": "display_data"
    }
   ],
   "source": [
    "sns.histplot(data=df, x=\"telefon_turi\")"
   ]
  },
  {
   "cell_type": "code",
   "execution_count": 19,
   "metadata": {},
   "outputs": [
    {
     "data": {
      "image/png": "[encoded data removed]",
      "text/plain": [
       "<Figure size 1000x600 with 1 Axes>"
      ]
     },
     "metadata": {},
     "output_type": "display_data"
    }
   ],
   "source": [
    "plt.figure(figsize=(10, 6))\n",
    "sns.heatmap(df.isnull(), cbar=False, cmap='Reds')\n",
    "\n",
    "plt.title('Missing Values Heatmap')\n",
    "plt.show()"
   ]
  },
  {
   "cell_type": "code",
   "execution_count": 20,
   "metadata": {},
   "outputs": [
    {
     "data": {
      "image/png": "[encoded data removed]",
      "text/plain": [
       "<Figure size 1000x600 with 1 Axes>"
      ]
     },
     "metadata": {},
     "output_type": "display_data"
    }
   ],
   "source": [
    "missing_values = df.isnull().sum()\n",
    "\n",
    "missing_values = missing_values[missing_values > 0]\n",
    "\n",
    "# Bar plot\n",
    "plt.figure(figsize=(10, 6))\n",
    "missing_values.plot(kind='bar', color='skyblue')\n",
    "\n",
    "plt.title('Missing Values per Column')\n",
    "plt.xlabel('Columns')\n",
    "plt.ylabel('Number of Missing Values')\n",
    "plt.xticks(rotation=45)\n",
    "plt.show()"
   ]
  },
  {
   "cell_type": "markdown",
   "metadata": {},
   "source": [
    "#3-dars"
   ]
  },
  {
   "cell_type": "markdown",
   "metadata": {},
   "source": [
    "1-ML loyiha"
   ]
  },
  {
   "cell_type": "code",
   "execution_count": 11,
   "metadata": {},
   "outputs": [
    {
     "name": "stdout",
     "output_type": "stream",
     "text": [
      "Defaulting to user installation because normal site-packages is not writeable\n",
      "Requirement already satisfied: pandas in /Users/hondamir/Library/Python/3.9/lib/python/site-packages (2.2.3)\n",
      "Requirement already satisfied: numpy>=1.22.4 in /Users/hondamir/Library/Python/3.9/lib/python/site-packages (from pandas) (2.0.2)\n",
      "Requirement already satisfied: python-dateutil>=2.8.2 in /Users/hondamir/Library/Python/3.9/lib/python/site-packages (from pandas) (2.9.0.post0)\n",
      "Requirement already satisfied: pytz>=2020.1 in /Users/hondamir/Library/Python/3.9/lib/python/site-packages (from pandas) (2024.2)\n",
      "Requirement already satisfied: tzdata>=2022.7 in /Users/hondamir/Library/Python/3.9/lib/python/site-packages (from pandas) (2024.2)\n",
      "Requirement already satisfied: six>=1.5 in /Library/Developer/CommandLineTools/Library/Frameworks/Python3.framework/Versions/3.9/lib/python3.9/site-packages (from python-dateutil>=2.8.2->pandas) (1.15.0)\n",
      "\u001b[33mWARNING: You are using pip version 21.2.4; however, version 24.3.1 is available.\n",
      "You should consider upgrading via the '/Library/Developer/CommandLineTools/usr/bin/python3 -m pip install --upgrade pip' command.\u001b[0m\n",
      "Note: you may need to restart the kernel to use updated packages.\n"
     ]
    }
   ],
   "source": [
    "%pip install pandas"
   ]
  },
  {
   "cell_type": "code",
   "execution_count": 12,
   "metadata": {},
   "outputs": [
    {
     "name": "stdout",
     "output_type": "stream",
     "text": [
      "Defaulting to user installation because normal site-packages is not writeable\n",
      "Requirement already satisfied: numpy in /Users/hondamir/Library/Python/3.9/lib/python/site-packages (2.0.2)\n",
      "\u001b[33mWARNING: You are using pip version 21.2.4; however, version 24.3.1 is available.\n",
      "You should consider upgrading via the '/Library/Developer/CommandLineTools/usr/bin/python3 -m pip install --upgrade pip' command.\u001b[0m\n",
      "Note: you may need to restart the kernel to use updated packages.\n"
     ]
    }
   ],
   "source": [
    "%pip install numpy"
   ]
  },
  {
   "cell_type": "code",
   "execution_count": 13,
   "metadata": {},
   "outputs": [
    {
     "name": "stdout",
     "output_type": "stream",
     "text": [
      "Defaulting to user installation because normal site-packages is not writeable\n",
      "Requirement already satisfied: seaborn in /Users/hondamir/Library/Python/3.9/lib/python/site-packages (0.13.2)\n",
      "Requirement already satisfied: numpy!=1.24.0,>=1.20 in /Users/hondamir/Library/Python/3.9/lib/python/site-packages (from seaborn) (2.0.2)\n",
      "Requirement already satisfied: pandas>=1.2 in /Users/hondamir/Library/Python/3.9/lib/python/site-packages (from seaborn) (2.2.3)\n",
      "Requirement already satisfied: matplotlib!=3.6.1,>=3.4 in /Users/hondamir/Library/Python/3.9/lib/python/site-packages (from seaborn) (3.9.4)\n",
      "Requirement already satisfied: pyparsing>=2.3.1 in /Users/hondamir/Library/Python/3.9/lib/python/site-packages (from matplotlib!=3.6.1,>=3.4->seaborn) (3.2.1)\n",
      "Requirement already satisfied: fonttools>=4.22.0 in /Users/hondamir/Library/Python/3.9/lib/python/site-packages (from matplotlib!=3.6.1,>=3.4->seaborn) (4.55.3)\n",
      "Requirement already satisfied: cycler>=0.10 in /Users/hondamir/Library/Python/3.9/lib/python/site-packages (from matplotlib!=3.6.1,>=3.4->seaborn) (0.12.1)\n",
      "Requirement already satisfied: contourpy>=1.0.1 in /Users/hondamir/Library/Python/3.9/lib/python/site-packages (from matplotlib!=3.6.1,>=3.4->seaborn) (1.3.0)\n",
      "Requirement already satisfied: python-dateutil>=2.7 in /Users/hondamir/Library/Python/3.9/lib/python/site-packages (from matplotlib!=3.6.1,>=3.4->seaborn) (2.9.0.post0)\n",
      "Requirement already satisfied: importlib-resources>=3.2.0 in /Users/hondamir/Library/Python/3.9/lib/python/site-packages (from matplotlib!=3.6.1,>=3.4->seaborn) (6.4.5)\n",
      "Requirement already satisfied: pillow>=8 in /Users/hondamir/Library/Python/3.9/lib/python/site-packages (from matplotlib!=3.6.1,>=3.4->seaborn) (11.0.0)\n",
      "Requirement already satisfied: packaging>=20.0 in /Users/hondamir/Library/Python/3.9/lib/python/site-packages (from matplotlib!=3.6.1,>=3.4->seaborn) (24.2)\n",
      "Requirement already satisfied: kiwisolver>=1.3.1 in /Users/hondamir/Library/Python/3.9/lib/python/site-packages (from matplotlib!=3.6.1,>=3.4->seaborn) (1.4.7)\n",
      "Requirement already satisfied: zipp>=3.1.0 in /Users/hondamir/Library/Python/3.9/lib/python/site-packages (from importlib-resources>=3.2.0->matplotlib!=3.6.1,>=3.4->seaborn) (3.21.0)\n",
      "Requirement already satisfied: pytz>=2020.1 in /Users/hondamir/Library/Python/3.9/lib/python/site-packages (from pandas>=1.2->seaborn) (2024.2)\n",
      "Requirement already satisfied: tzdata>=2022.7 in /Users/hondamir/Library/Python/3.9/lib/python/site-packages (from pandas>=1.2->seaborn) (2024.2)\n",
      "Requirement already satisfied: six>=1.5 in /Library/Developer/CommandLineTools/Library/Frameworks/Python3.framework/Versions/3.9/lib/python3.9/site-packages (from python-dateutil>=2.7->matplotlib!=3.6.1,>=3.4->seaborn) (1.15.0)\n",
      "\u001b[33mWARNING: You are using pip version 21.2.4; however, version 24.3.1 is available.\n",
      "You should consider upgrading via the '/Library/Developer/CommandLineTools/usr/bin/python3 -m pip install --upgrade pip' command.\u001b[0m\n",
      "Note: you may need to restart the kernel to use updated packages.\n"
     ]
    }
   ],
   "source": [
    "%pip install seaborn"
   ]
  },
  {
   "cell_type": "code",
   "execution_count": 14,
   "metadata": {},
   "outputs": [
    {
     "name": "stdout",
     "output_type": "stream",
     "text": [
      "Defaulting to user installation because normal site-packages is not writeable\n",
      "Requirement already satisfied: matplotlib in /Users/hondamir/Library/Python/3.9/lib/python/site-packages (3.9.4)\n",
      "Requirement already satisfied: fonttools>=4.22.0 in /Users/hondamir/Library/Python/3.9/lib/python/site-packages (from matplotlib) (4.55.3)\n",
      "Requirement already satisfied: cycler>=0.10 in /Users/hondamir/Library/Python/3.9/lib/python/site-packages (from matplotlib) (0.12.1)\n",
      "Requirement already satisfied: python-dateutil>=2.7 in /Users/hondamir/Library/Python/3.9/lib/python/site-packages (from matplotlib) (2.9.0.post0)\n",
      "Requirement already satisfied: numpy>=1.23 in /Users/hondamir/Library/Python/3.9/lib/python/site-packages (from matplotlib) (2.0.2)\n",
      "Requirement already satisfied: importlib-resources>=3.2.0 in /Users/hondamir/Library/Python/3.9/lib/python/site-packages (from matplotlib) (6.4.5)\n",
      "Requirement already satisfied: pyparsing>=2.3.1 in /Users/hondamir/Library/Python/3.9/lib/python/site-packages (from matplotlib) (3.2.1)\n",
      "Requirement already satisfied: contourpy>=1.0.1 in /Users/hondamir/Library/Python/3.9/lib/python/site-packages (from matplotlib) (1.3.0)\n",
      "Requirement already satisfied: packaging>=20.0 in /Users/hondamir/Library/Python/3.9/lib/python/site-packages (from matplotlib) (24.2)\n",
      "Requirement already satisfied: pillow>=8 in /Users/hondamir/Library/Python/3.9/lib/python/site-packages (from matplotlib) (11.0.0)\n",
      "Requirement already satisfied: kiwisolver>=1.3.1 in /Users/hondamir/Library/Python/3.9/lib/python/site-packages (from matplotlib) (1.4.7)\n",
      "Requirement already satisfied: zipp>=3.1.0 in /Users/hondamir/Library/Python/3.9/lib/python/site-packages (from importlib-resources>=3.2.0->matplotlib) (3.21.0)\n",
      "Requirement already satisfied: six>=1.5 in /Library/Developer/CommandLineTools/Library/Frameworks/Python3.framework/Versions/3.9/lib/python3.9/site-packages (from python-dateutil>=2.7->matplotlib) (1.15.0)\n",
      "\u001b[33mWARNING: You are using pip version 21.2.4; however, version 24.3.1 is available.\n",
      "You should consider upgrading via the '/Library/Developer/CommandLineTools/usr/bin/python3 -m pip install --upgrade pip' command.\u001b[0m\n",
      "Note: you may need to restart the kernel to use updated packages.\n"
     ]
    }
   ],
   "source": [
    "%pip install matplotlib"
   ]
  },
  {
   "cell_type": "code",
   "execution_count": 15,
   "metadata": {},
   "outputs": [],
   "source": [
    "import pandas as pd\n",
    "import numpy as np\n",
    "import seaborn as sbs\n",
    "import matplotlib.pyplot as plt"
   ]
  },
  {
   "cell_type": "code",
   "execution_count": 17,
   "metadata": {},
   "outputs": [],
   "source": [
    "#pandas\n",
    "#datani vscodega olish\n",
    "\n",
    "df=pd.read_csv(\"Telefon turini aniqlash.csv\")"
   ]
  },
  {
   "cell_type": "code",
   "execution_count": 19,
   "metadata": {},
   "outputs": [
    {
     "data": {
      "text/html": [
       "<div>\n",
       "<style scoped>\n",
       "    .dataframe tbody tr th:only-of-type {\n",
       "        vertical-align: middle;\n",
       "    }\n",
       "\n",
       "    .dataframe tbody tr th {\n",
       "        vertical-align: top;\n",
       "    }\n",
       "\n",
       "    .dataframe thead th {\n",
       "        text-align: right;\n",
       "    }\n",
       "</style>\n",
       "<table border=\"1\" class=\"dataframe\">\n",
       "  <thead>\n",
       "    <tr style=\"text-align: right;\">\n",
       "      <th></th>\n",
       "      <th>battereya_hajmi</th>\n",
       "      <th>blutus</th>\n",
       "      <th>protsessor_tezligi</th>\n",
       "      <th>ikkita simkartalik</th>\n",
       "      <th>Oldi_kamera</th>\n",
       "      <th>4G</th>\n",
       "      <th>Ichki_xotira</th>\n",
       "      <th>tel_ingichgaligi</th>\n",
       "      <th>Rangi</th>\n",
       "      <th>Vazni</th>\n",
       "      <th>...</th>\n",
       "      <th>Qurilma xajmi(pix)</th>\n",
       "      <th>Qurilma ekran kengligi(pix)</th>\n",
       "      <th>ram</th>\n",
       "      <th>Qurilma xajmi(cm)</th>\n",
       "      <th>Qurilma ekran kengligi(cm)</th>\n",
       "      <th>Bir_quvvatlashdagi gaplashish</th>\n",
       "      <th>3g</th>\n",
       "      <th>sensorli</th>\n",
       "      <th>wifi</th>\n",
       "      <th>telefon_turi</th>\n",
       "    </tr>\n",
       "  </thead>\n",
       "  <tbody>\n",
       "    <tr>\n",
       "      <th>0</th>\n",
       "      <td>842</td>\n",
       "      <td>0</td>\n",
       "      <td>2.2</td>\n",
       "      <td>0</td>\n",
       "      <td>1</td>\n",
       "      <td>0</td>\n",
       "      <td>7</td>\n",
       "      <td>0.6</td>\n",
       "      <td>Qizil</td>\n",
       "      <td>188</td>\n",
       "      <td>...</td>\n",
       "      <td>20.0</td>\n",
       "      <td>756.0</td>\n",
       "      <td>2549</td>\n",
       "      <td>9.0</td>\n",
       "      <td>7.0</td>\n",
       "      <td>19</td>\n",
       "      <td>0</td>\n",
       "      <td>0</td>\n",
       "      <td>1</td>\n",
       "      <td>1</td>\n",
       "    </tr>\n",
       "    <tr>\n",
       "      <th>1</th>\n",
       "      <td>1021</td>\n",
       "      <td>1</td>\n",
       "      <td>0.5</td>\n",
       "      <td>1</td>\n",
       "      <td>0</td>\n",
       "      <td>1</td>\n",
       "      <td>53</td>\n",
       "      <td>0.7</td>\n",
       "      <td>Yashil</td>\n",
       "      <td>136</td>\n",
       "      <td>...</td>\n",
       "      <td>905.0</td>\n",
       "      <td>1988.0</td>\n",
       "      <td>2631</td>\n",
       "      <td>17.0</td>\n",
       "      <td>3.0</td>\n",
       "      <td>7</td>\n",
       "      <td>1</td>\n",
       "      <td>1</td>\n",
       "      <td>0</td>\n",
       "      <td>2</td>\n",
       "    </tr>\n",
       "    <tr>\n",
       "      <th>2</th>\n",
       "      <td>563</td>\n",
       "      <td>1</td>\n",
       "      <td>0.5</td>\n",
       "      <td>1</td>\n",
       "      <td>2</td>\n",
       "      <td>1</td>\n",
       "      <td>41</td>\n",
       "      <td>0.9</td>\n",
       "      <td>Sariq</td>\n",
       "      <td>145</td>\n",
       "      <td>...</td>\n",
       "      <td>1263.0</td>\n",
       "      <td>1716.0</td>\n",
       "      <td>2603</td>\n",
       "      <td>11.0</td>\n",
       "      <td>2.0</td>\n",
       "      <td>9</td>\n",
       "      <td>1</td>\n",
       "      <td>1</td>\n",
       "      <td>0</td>\n",
       "      <td>2</td>\n",
       "    </tr>\n",
       "    <tr>\n",
       "      <th>3</th>\n",
       "      <td>615</td>\n",
       "      <td>1</td>\n",
       "      <td>2.5</td>\n",
       "      <td>0</td>\n",
       "      <td>0</td>\n",
       "      <td>0</td>\n",
       "      <td>10</td>\n",
       "      <td>0.8</td>\n",
       "      <td>Jigarrang</td>\n",
       "      <td>131</td>\n",
       "      <td>...</td>\n",
       "      <td>1216.0</td>\n",
       "      <td>1786.0</td>\n",
       "      <td>2769</td>\n",
       "      <td>16.0</td>\n",
       "      <td>8.0</td>\n",
       "      <td>11</td>\n",
       "      <td>1</td>\n",
       "      <td>0</td>\n",
       "      <td>0</td>\n",
       "      <td>2</td>\n",
       "    </tr>\n",
       "    <tr>\n",
       "      <th>4</th>\n",
       "      <td>1821</td>\n",
       "      <td>1</td>\n",
       "      <td>1.2</td>\n",
       "      <td>0</td>\n",
       "      <td>13</td>\n",
       "      <td>1</td>\n",
       "      <td>44</td>\n",
       "      <td>0.6</td>\n",
       "      <td>Oq</td>\n",
       "      <td>141</td>\n",
       "      <td>...</td>\n",
       "      <td>1208.0</td>\n",
       "      <td>1212.0</td>\n",
       "      <td>1411</td>\n",
       "      <td>8.0</td>\n",
       "      <td>2.0</td>\n",
       "      <td>15</td>\n",
       "      <td>1</td>\n",
       "      <td>1</td>\n",
       "      <td>0</td>\n",
       "      <td>1</td>\n",
       "    </tr>\n",
       "  </tbody>\n",
       "</table>\n",
       "<p>5 rows × 22 columns</p>\n",
       "</div>"
      ],
      "text/plain": [
       "   battereya_hajmi  blutus  protsessor_tezligi  ikkita simkartalik  \\\n",
       "0              842       0                 2.2                   0   \n",
       "1             1021       1                 0.5                   1   \n",
       "2              563       1                 0.5                   1   \n",
       "3              615       1                 2.5                   0   \n",
       "4             1821       1                 1.2                   0   \n",
       "\n",
       "   Oldi_kamera  4G  Ichki_xotira  tel_ingichgaligi      Rangi  Vazni  ...  \\\n",
       "0            1   0             7               0.6      Qizil    188  ...   \n",
       "1            0   1            53               0.7     Yashil    136  ...   \n",
       "2            2   1            41               0.9      Sariq    145  ...   \n",
       "3            0   0            10               0.8  Jigarrang    131  ...   \n",
       "4           13   1            44               0.6         Oq    141  ...   \n",
       "\n",
       "   Qurilma xajmi(pix)  Qurilma ekran kengligi(pix)   ram  Qurilma xajmi(cm)  \\\n",
       "0                20.0                        756.0  2549                9.0   \n",
       "1               905.0                       1988.0  2631               17.0   \n",
       "2              1263.0                       1716.0  2603               11.0   \n",
       "3              1216.0                       1786.0  2769               16.0   \n",
       "4              1208.0                       1212.0  1411                8.0   \n",
       "\n",
       "   Qurilma ekran kengligi(cm)  Bir_quvvatlashdagi gaplashish  3g  sensorli  \\\n",
       "0                         7.0                             19   0         0   \n",
       "1                         3.0                              7   1         1   \n",
       "2                         2.0                              9   1         1   \n",
       "3                         8.0                             11   1         0   \n",
       "4                         2.0                             15   1         1   \n",
       "\n",
       "   wifi  telefon_turi  \n",
       "0     1             1  \n",
       "1     0             2  \n",
       "2     0             2  \n",
       "3     0             2  \n",
       "4     0             1  \n",
       "\n",
       "[5 rows x 22 columns]"
      ]
     },
     "execution_count": 19,
     "metadata": {},
     "output_type": "execute_result"
    }
   ],
   "source": [
    "#datani tekshirish\n",
    "\n",
    "df.head()"
   ]
  },
  {
   "cell_type": "code",
   "execution_count": 20,
   "metadata": {},
   "outputs": [
    {
     "data": {
      "text/html": [
       "<div>\n",
       "<style scoped>\n",
       "    .dataframe tbody tr th:only-of-type {\n",
       "        vertical-align: middle;\n",
       "    }\n",
       "\n",
       "    .dataframe tbody tr th {\n",
       "        vertical-align: top;\n",
       "    }\n",
       "\n",
       "    .dataframe thead th {\n",
       "        text-align: right;\n",
       "    }\n",
       "</style>\n",
       "<table border=\"1\" class=\"dataframe\">\n",
       "  <thead>\n",
       "    <tr style=\"text-align: right;\">\n",
       "      <th></th>\n",
       "      <th>battereya_hajmi</th>\n",
       "      <th>blutus</th>\n",
       "      <th>protsessor_tezligi</th>\n",
       "      <th>ikkita simkartalik</th>\n",
       "      <th>Oldi_kamera</th>\n",
       "      <th>4G</th>\n",
       "      <th>Ichki_xotira</th>\n",
       "      <th>tel_ingichgaligi</th>\n",
       "      <th>Rangi</th>\n",
       "      <th>Vazni</th>\n",
       "      <th>...</th>\n",
       "      <th>Qurilma xajmi(pix)</th>\n",
       "      <th>Qurilma ekran kengligi(pix)</th>\n",
       "      <th>ram</th>\n",
       "      <th>Qurilma xajmi(cm)</th>\n",
       "      <th>Qurilma ekran kengligi(cm)</th>\n",
       "      <th>Bir_quvvatlashdagi gaplashish</th>\n",
       "      <th>3g</th>\n",
       "      <th>sensorli</th>\n",
       "      <th>wifi</th>\n",
       "      <th>telefon_turi</th>\n",
       "    </tr>\n",
       "  </thead>\n",
       "  <tbody>\n",
       "    <tr>\n",
       "      <th>1995</th>\n",
       "      <td>794</td>\n",
       "      <td>1</td>\n",
       "      <td>0.5</td>\n",
       "      <td>1</td>\n",
       "      <td>0</td>\n",
       "      <td>1</td>\n",
       "      <td>2</td>\n",
       "      <td>0.8</td>\n",
       "      <td>Qora</td>\n",
       "      <td>106</td>\n",
       "      <td>...</td>\n",
       "      <td>1222.0</td>\n",
       "      <td>1890.0</td>\n",
       "      <td>668</td>\n",
       "      <td>13.0</td>\n",
       "      <td>4.0</td>\n",
       "      <td>19</td>\n",
       "      <td>1</td>\n",
       "      <td>1</td>\n",
       "      <td>0</td>\n",
       "      <td>0</td>\n",
       "    </tr>\n",
       "    <tr>\n",
       "      <th>1996</th>\n",
       "      <td>1965</td>\n",
       "      <td>1</td>\n",
       "      <td>2.6</td>\n",
       "      <td>1</td>\n",
       "      <td>0</td>\n",
       "      <td>0</td>\n",
       "      <td>39</td>\n",
       "      <td>0.2</td>\n",
       "      <td>Qora</td>\n",
       "      <td>187</td>\n",
       "      <td>...</td>\n",
       "      <td>915.0</td>\n",
       "      <td>1965.0</td>\n",
       "      <td>2032</td>\n",
       "      <td>11.0</td>\n",
       "      <td>10.0</td>\n",
       "      <td>16</td>\n",
       "      <td>1</td>\n",
       "      <td>1</td>\n",
       "      <td>1</td>\n",
       "      <td>2</td>\n",
       "    </tr>\n",
       "    <tr>\n",
       "      <th>1997</th>\n",
       "      <td>1911</td>\n",
       "      <td>0</td>\n",
       "      <td>0.9</td>\n",
       "      <td>1</td>\n",
       "      <td>1</td>\n",
       "      <td>1</td>\n",
       "      <td>36</td>\n",
       "      <td>0.7</td>\n",
       "      <td>Qora</td>\n",
       "      <td>108</td>\n",
       "      <td>...</td>\n",
       "      <td>868.0</td>\n",
       "      <td>1632.0</td>\n",
       "      <td>3057</td>\n",
       "      <td>9.0</td>\n",
       "      <td>1.0</td>\n",
       "      <td>5</td>\n",
       "      <td>1</td>\n",
       "      <td>1</td>\n",
       "      <td>0</td>\n",
       "      <td>3</td>\n",
       "    </tr>\n",
       "    <tr>\n",
       "      <th>1998</th>\n",
       "      <td>1512</td>\n",
       "      <td>0</td>\n",
       "      <td>0.9</td>\n",
       "      <td>0</td>\n",
       "      <td>4</td>\n",
       "      <td>1</td>\n",
       "      <td>46</td>\n",
       "      <td>0.1</td>\n",
       "      <td>Qora</td>\n",
       "      <td>145</td>\n",
       "      <td>...</td>\n",
       "      <td>336.0</td>\n",
       "      <td>670.0</td>\n",
       "      <td>869</td>\n",
       "      <td>18.0</td>\n",
       "      <td>10.0</td>\n",
       "      <td>19</td>\n",
       "      <td>1</td>\n",
       "      <td>1</td>\n",
       "      <td>1</td>\n",
       "      <td>0</td>\n",
       "    </tr>\n",
       "    <tr>\n",
       "      <th>1999</th>\n",
       "      <td>510</td>\n",
       "      <td>1</td>\n",
       "      <td>2.0</td>\n",
       "      <td>1</td>\n",
       "      <td>5</td>\n",
       "      <td>1</td>\n",
       "      <td>45</td>\n",
       "      <td>0.9</td>\n",
       "      <td>Qora</td>\n",
       "      <td>168</td>\n",
       "      <td>...</td>\n",
       "      <td>483.0</td>\n",
       "      <td>754.0</td>\n",
       "      <td>3919</td>\n",
       "      <td>19.0</td>\n",
       "      <td>4.0</td>\n",
       "      <td>2</td>\n",
       "      <td>1</td>\n",
       "      <td>1</td>\n",
       "      <td>1</td>\n",
       "      <td>3</td>\n",
       "    </tr>\n",
       "  </tbody>\n",
       "</table>\n",
       "<p>5 rows × 22 columns</p>\n",
       "</div>"
      ],
      "text/plain": [
       "      battereya_hajmi  blutus  protsessor_tezligi  ikkita simkartalik  \\\n",
       "1995              794       1                 0.5                   1   \n",
       "1996             1965       1                 2.6                   1   \n",
       "1997             1911       0                 0.9                   1   \n",
       "1998             1512       0                 0.9                   0   \n",
       "1999              510       1                 2.0                   1   \n",
       "\n",
       "      Oldi_kamera  4G  Ichki_xotira  tel_ingichgaligi Rangi  Vazni  ...  \\\n",
       "1995            0   1             2               0.8  Qora    106  ...   \n",
       "1996            0   0            39               0.2  Qora    187  ...   \n",
       "1997            1   1            36               0.7  Qora    108  ...   \n",
       "1998            4   1            46               0.1  Qora    145  ...   \n",
       "1999            5   1            45               0.9  Qora    168  ...   \n",
       "\n",
       "      Qurilma xajmi(pix)  Qurilma ekran kengligi(pix)   ram  \\\n",
       "1995              1222.0                       1890.0   668   \n",
       "1996               915.0                       1965.0  2032   \n",
       "1997               868.0                       1632.0  3057   \n",
       "1998               336.0                        670.0   869   \n",
       "1999               483.0                        754.0  3919   \n",
       "\n",
       "      Qurilma xajmi(cm)  Qurilma ekran kengligi(cm)  \\\n",
       "1995               13.0                         4.0   \n",
       "1996               11.0                        10.0   \n",
       "1997                9.0                         1.0   \n",
       "1998               18.0                        10.0   \n",
       "1999               19.0                         4.0   \n",
       "\n",
       "      Bir_quvvatlashdagi gaplashish  3g  sensorli  wifi  telefon_turi  \n",
       "1995                             19   1         1     0             0  \n",
       "1996                             16   1         1     1             2  \n",
       "1997                              5   1         1     0             3  \n",
       "1998                             19   1         1     1             0  \n",
       "1999                              2   1         1     1             3  \n",
       "\n",
       "[5 rows x 22 columns]"
      ]
     },
     "execution_count": 20,
     "metadata": {},
     "output_type": "execute_result"
    }
   ],
   "source": [
    "df.tail()"
   ]
  },
  {
   "cell_type": "code",
   "execution_count": 21,
   "metadata": {},
   "outputs": [
    {
     "data": {
      "text/plain": [
       "0       2.2\n",
       "1       0.5\n",
       "2       0.5\n",
       "3       2.5\n",
       "4       1.2\n",
       "       ... \n",
       "1995    0.5\n",
       "1996    2.6\n",
       "1997    0.9\n",
       "1998    0.9\n",
       "1999    2.0\n",
       "Name: protsessor_tezligi, Length: 2000, dtype: float64"
      ]
     },
     "execution_count": 21,
     "metadata": {},
     "output_type": "execute_result"
    }
   ],
   "source": [
    "#ustunni tekshirish\n",
    "\n",
    "df[\"protsessor_tezligi\"]"
   ]
  },
  {
   "cell_type": "code",
   "execution_count": 22,
   "metadata": {},
   "outputs": [],
   "source": [
    "#yangi input(feature) yaratish\n",
    "\n",
    "df[\"protsessor_tezligi_ratio\"]=df[\"protsessor_tezligi\"]/100"
   ]
  },
  {
   "cell_type": "code",
   "execution_count": 23,
   "metadata": {},
   "outputs": [
    {
     "data": {
      "text/html": [
       "<div>\n",
       "<style scoped>\n",
       "    .dataframe tbody tr th:only-of-type {\n",
       "        vertical-align: middle;\n",
       "    }\n",
       "\n",
       "    .dataframe tbody tr th {\n",
       "        vertical-align: top;\n",
       "    }\n",
       "\n",
       "    .dataframe thead th {\n",
       "        text-align: right;\n",
       "    }\n",
       "</style>\n",
       "<table border=\"1\" class=\"dataframe\">\n",
       "  <thead>\n",
       "    <tr style=\"text-align: right;\">\n",
       "      <th></th>\n",
       "      <th>battereya_hajmi</th>\n",
       "      <th>blutus</th>\n",
       "      <th>protsessor_tezligi</th>\n",
       "      <th>ikkita simkartalik</th>\n",
       "      <th>Oldi_kamera</th>\n",
       "      <th>4G</th>\n",
       "      <th>Ichki_xotira</th>\n",
       "      <th>tel_ingichgaligi</th>\n",
       "      <th>Rangi</th>\n",
       "      <th>Vazni</th>\n",
       "      <th>...</th>\n",
       "      <th>Qurilma ekran kengligi(pix)</th>\n",
       "      <th>ram</th>\n",
       "      <th>Qurilma xajmi(cm)</th>\n",
       "      <th>Qurilma ekran kengligi(cm)</th>\n",
       "      <th>Bir_quvvatlashdagi gaplashish</th>\n",
       "      <th>3g</th>\n",
       "      <th>sensorli</th>\n",
       "      <th>wifi</th>\n",
       "      <th>telefon_turi</th>\n",
       "      <th>protsessor_tezligi_ratio</th>\n",
       "    </tr>\n",
       "  </thead>\n",
       "  <tbody>\n",
       "    <tr>\n",
       "      <th>0</th>\n",
       "      <td>842</td>\n",
       "      <td>0</td>\n",
       "      <td>2.2</td>\n",
       "      <td>0</td>\n",
       "      <td>1</td>\n",
       "      <td>0</td>\n",
       "      <td>7</td>\n",
       "      <td>0.6</td>\n",
       "      <td>Qizil</td>\n",
       "      <td>188</td>\n",
       "      <td>...</td>\n",
       "      <td>756.0</td>\n",
       "      <td>2549</td>\n",
       "      <td>9.0</td>\n",
       "      <td>7.0</td>\n",
       "      <td>19</td>\n",
       "      <td>0</td>\n",
       "      <td>0</td>\n",
       "      <td>1</td>\n",
       "      <td>1</td>\n",
       "      <td>0.022</td>\n",
       "    </tr>\n",
       "  </tbody>\n",
       "</table>\n",
       "<p>1 rows × 23 columns</p>\n",
       "</div>"
      ],
      "text/plain": [
       "   battereya_hajmi  blutus  protsessor_tezligi  ikkita simkartalik  \\\n",
       "0              842       0                 2.2                   0   \n",
       "\n",
       "   Oldi_kamera  4G  Ichki_xotira  tel_ingichgaligi  Rangi  Vazni  ...  \\\n",
       "0            1   0             7               0.6  Qizil    188  ...   \n",
       "\n",
       "   Qurilma ekran kengligi(pix)   ram  Qurilma xajmi(cm)  \\\n",
       "0                        756.0  2549                9.0   \n",
       "\n",
       "   Qurilma ekran kengligi(cm)  Bir_quvvatlashdagi gaplashish  3g  sensorli  \\\n",
       "0                         7.0                             19   0         0   \n",
       "\n",
       "   wifi  telefon_turi  protsessor_tezligi_ratio  \n",
       "0     1             1                     0.022  \n",
       "\n",
       "[1 rows x 23 columns]"
      ]
     },
     "execution_count": 23,
     "metadata": {},
     "output_type": "execute_result"
    }
   ],
   "source": [
    "df.head(1)"
   ]
  },
  {
   "cell_type": "code",
   "execution_count": 25,
   "metadata": {},
   "outputs": [],
   "source": [
    "#keraksiz ustunni tahslab yuborish\n",
    "\n",
    "df.drop(\"protsessor_tezligi_ratio\", axis=1, inplace=True)"
   ]
  },
  {
   "cell_type": "code",
   "execution_count": 26,
   "metadata": {},
   "outputs": [
    {
     "data": {
      "text/html": [
       "<div>\n",
       "<style scoped>\n",
       "    .dataframe tbody tr th:only-of-type {\n",
       "        vertical-align: middle;\n",
       "    }\n",
       "\n",
       "    .dataframe tbody tr th {\n",
       "        vertical-align: top;\n",
       "    }\n",
       "\n",
       "    .dataframe thead th {\n",
       "        text-align: right;\n",
       "    }\n",
       "</style>\n",
       "<table border=\"1\" class=\"dataframe\">\n",
       "  <thead>\n",
       "    <tr style=\"text-align: right;\">\n",
       "      <th></th>\n",
       "      <th>battereya_hajmi</th>\n",
       "      <th>blutus</th>\n",
       "      <th>protsessor_tezligi</th>\n",
       "      <th>ikkita simkartalik</th>\n",
       "      <th>Oldi_kamera</th>\n",
       "      <th>4G</th>\n",
       "      <th>Ichki_xotira</th>\n",
       "      <th>tel_ingichgaligi</th>\n",
       "      <th>Rangi</th>\n",
       "      <th>Vazni</th>\n",
       "      <th>...</th>\n",
       "      <th>Qurilma xajmi(pix)</th>\n",
       "      <th>Qurilma ekran kengligi(pix)</th>\n",
       "      <th>ram</th>\n",
       "      <th>Qurilma xajmi(cm)</th>\n",
       "      <th>Qurilma ekran kengligi(cm)</th>\n",
       "      <th>Bir_quvvatlashdagi gaplashish</th>\n",
       "      <th>3g</th>\n",
       "      <th>sensorli</th>\n",
       "      <th>wifi</th>\n",
       "      <th>telefon_turi</th>\n",
       "    </tr>\n",
       "  </thead>\n",
       "  <tbody>\n",
       "    <tr>\n",
       "      <th>0</th>\n",
       "      <td>842</td>\n",
       "      <td>0</td>\n",
       "      <td>2.2</td>\n",
       "      <td>0</td>\n",
       "      <td>1</td>\n",
       "      <td>0</td>\n",
       "      <td>7</td>\n",
       "      <td>0.6</td>\n",
       "      <td>Qizil</td>\n",
       "      <td>188</td>\n",
       "      <td>...</td>\n",
       "      <td>20.0</td>\n",
       "      <td>756.0</td>\n",
       "      <td>2549</td>\n",
       "      <td>9.0</td>\n",
       "      <td>7.0</td>\n",
       "      <td>19</td>\n",
       "      <td>0</td>\n",
       "      <td>0</td>\n",
       "      <td>1</td>\n",
       "      <td>1</td>\n",
       "    </tr>\n",
       "    <tr>\n",
       "      <th>1</th>\n",
       "      <td>1021</td>\n",
       "      <td>1</td>\n",
       "      <td>0.5</td>\n",
       "      <td>1</td>\n",
       "      <td>0</td>\n",
       "      <td>1</td>\n",
       "      <td>53</td>\n",
       "      <td>0.7</td>\n",
       "      <td>Yashil</td>\n",
       "      <td>136</td>\n",
       "      <td>...</td>\n",
       "      <td>905.0</td>\n",
       "      <td>1988.0</td>\n",
       "      <td>2631</td>\n",
       "      <td>17.0</td>\n",
       "      <td>3.0</td>\n",
       "      <td>7</td>\n",
       "      <td>1</td>\n",
       "      <td>1</td>\n",
       "      <td>0</td>\n",
       "      <td>2</td>\n",
       "    </tr>\n",
       "    <tr>\n",
       "      <th>2</th>\n",
       "      <td>563</td>\n",
       "      <td>1</td>\n",
       "      <td>0.5</td>\n",
       "      <td>1</td>\n",
       "      <td>2</td>\n",
       "      <td>1</td>\n",
       "      <td>41</td>\n",
       "      <td>0.9</td>\n",
       "      <td>Sariq</td>\n",
       "      <td>145</td>\n",
       "      <td>...</td>\n",
       "      <td>1263.0</td>\n",
       "      <td>1716.0</td>\n",
       "      <td>2603</td>\n",
       "      <td>11.0</td>\n",
       "      <td>2.0</td>\n",
       "      <td>9</td>\n",
       "      <td>1</td>\n",
       "      <td>1</td>\n",
       "      <td>0</td>\n",
       "      <td>2</td>\n",
       "    </tr>\n",
       "    <tr>\n",
       "      <th>3</th>\n",
       "      <td>615</td>\n",
       "      <td>1</td>\n",
       "      <td>2.5</td>\n",
       "      <td>0</td>\n",
       "      <td>0</td>\n",
       "      <td>0</td>\n",
       "      <td>10</td>\n",
       "      <td>0.8</td>\n",
       "      <td>Jigarrang</td>\n",
       "      <td>131</td>\n",
       "      <td>...</td>\n",
       "      <td>1216.0</td>\n",
       "      <td>1786.0</td>\n",
       "      <td>2769</td>\n",
       "      <td>16.0</td>\n",
       "      <td>8.0</td>\n",
       "      <td>11</td>\n",
       "      <td>1</td>\n",
       "      <td>0</td>\n",
       "      <td>0</td>\n",
       "      <td>2</td>\n",
       "    </tr>\n",
       "    <tr>\n",
       "      <th>4</th>\n",
       "      <td>1821</td>\n",
       "      <td>1</td>\n",
       "      <td>1.2</td>\n",
       "      <td>0</td>\n",
       "      <td>13</td>\n",
       "      <td>1</td>\n",
       "      <td>44</td>\n",
       "      <td>0.6</td>\n",
       "      <td>Oq</td>\n",
       "      <td>141</td>\n",
       "      <td>...</td>\n",
       "      <td>1208.0</td>\n",
       "      <td>1212.0</td>\n",
       "      <td>1411</td>\n",
       "      <td>8.0</td>\n",
       "      <td>2.0</td>\n",
       "      <td>15</td>\n",
       "      <td>1</td>\n",
       "      <td>1</td>\n",
       "      <td>0</td>\n",
       "      <td>1</td>\n",
       "    </tr>\n",
       "  </tbody>\n",
       "</table>\n",
       "<p>5 rows × 22 columns</p>\n",
       "</div>"
      ],
      "text/plain": [
       "   battereya_hajmi  blutus  protsessor_tezligi  ikkita simkartalik  \\\n",
       "0              842       0                 2.2                   0   \n",
       "1             1021       1                 0.5                   1   \n",
       "2              563       1                 0.5                   1   \n",
       "3              615       1                 2.5                   0   \n",
       "4             1821       1                 1.2                   0   \n",
       "\n",
       "   Oldi_kamera  4G  Ichki_xotira  tel_ingichgaligi      Rangi  Vazni  ...  \\\n",
       "0            1   0             7               0.6      Qizil    188  ...   \n",
       "1            0   1            53               0.7     Yashil    136  ...   \n",
       "2            2   1            41               0.9      Sariq    145  ...   \n",
       "3            0   0            10               0.8  Jigarrang    131  ...   \n",
       "4           13   1            44               0.6         Oq    141  ...   \n",
       "\n",
       "   Qurilma xajmi(pix)  Qurilma ekran kengligi(pix)   ram  Qurilma xajmi(cm)  \\\n",
       "0                20.0                        756.0  2549                9.0   \n",
       "1               905.0                       1988.0  2631               17.0   \n",
       "2              1263.0                       1716.0  2603               11.0   \n",
       "3              1216.0                       1786.0  2769               16.0   \n",
       "4              1208.0                       1212.0  1411                8.0   \n",
       "\n",
       "   Qurilma ekran kengligi(cm)  Bir_quvvatlashdagi gaplashish  3g  sensorli  \\\n",
       "0                         7.0                             19   0         0   \n",
       "1                         3.0                              7   1         1   \n",
       "2                         2.0                              9   1         1   \n",
       "3                         8.0                             11   1         0   \n",
       "4                         2.0                             15   1         1   \n",
       "\n",
       "   wifi  telefon_turi  \n",
       "0     1             1  \n",
       "1     0             2  \n",
       "2     0             2  \n",
       "3     0             2  \n",
       "4     0             1  \n",
       "\n",
       "[5 rows x 22 columns]"
      ]
     },
     "execution_count": 26,
     "metadata": {},
     "output_type": "execute_result"
    }
   ],
   "source": [
    "df.head()"
   ]
  },
  {
   "cell_type": "code",
   "execution_count": 29,
   "metadata": {},
   "outputs": [
    {
     "name": "stdout",
     "output_type": "stream",
     "text": [
      "<class 'pandas.core.frame.DataFrame'>\n",
      "RangeIndex: 2000 entries, 0 to 1999\n",
      "Data columns (total 22 columns):\n",
      " #   Column                         Non-Null Count  Dtype  \n",
      "---  ------                         --------------  -----  \n",
      " 0   battereya_hajmi                2000 non-null   int64  \n",
      " 1   blutus                         2000 non-null   int64  \n",
      " 2   protsessor_tezligi             2000 non-null   float64\n",
      " 3   ikkita simkartalik             2000 non-null   int64  \n",
      " 4   Oldi_kamera                    2000 non-null   int64  \n",
      " 5   4G                             2000 non-null   int64  \n",
      " 6   Ichki_xotira                   2000 non-null   int64  \n",
      " 7   tel_ingichgaligi               1997 non-null   float64\n",
      " 8   Rangi                          2000 non-null   object \n",
      " 9   Vazni                          2000 non-null   int64  \n",
      " 10  Protsessor yadrolari soni      1999 non-null   float64\n",
      " 11  Asosiy kamera                  1998 non-null   float64\n",
      " 12  Qurilma xajmi(pix)             1998 non-null   float64\n",
      " 13  Qurilma ekran kengligi(pix)    1997 non-null   float64\n",
      " 14  ram                            2000 non-null   int64  \n",
      " 15  Qurilma xajmi(cm)              1999 non-null   float64\n",
      " 16  Qurilma ekran kengligi(cm)     1999 non-null   float64\n",
      " 17  Bir_quvvatlashdagi gaplashish  2000 non-null   int64  \n",
      " 18  3g                             2000 non-null   int64  \n",
      " 19  sensorli                       2000 non-null   int64  \n",
      " 20  wifi                           2000 non-null   int64  \n",
      " 21  telefon_turi                   2000 non-null   int64  \n",
      "dtypes: float64(8), int64(13), object(1)\n",
      "memory usage: 343.9+ KB\n"
     ]
    }
   ],
   "source": [
    "#data haqida umumiy malumot olish\n",
    "\n",
    "df.info()"
   ]
  },
  {
   "cell_type": "code",
   "execution_count": 30,
   "metadata": {},
   "outputs": [
    {
     "data": {
      "text/plain": [
       "(2000, 22)"
      ]
     },
     "execution_count": 30,
     "metadata": {},
     "output_type": "execute_result"
    }
   ],
   "source": [
    "df.shape"
   ]
  },
  {
   "cell_type": "code",
   "execution_count": 32,
   "metadata": {},
   "outputs": [
    {
     "data": {
      "text/html": [
       "<div>\n",
       "<style scoped>\n",
       "    .dataframe tbody tr th:only-of-type {\n",
       "        vertical-align: middle;\n",
       "    }\n",
       "\n",
       "    .dataframe tbody tr th {\n",
       "        vertical-align: top;\n",
       "    }\n",
       "\n",
       "    .dataframe thead th {\n",
       "        text-align: right;\n",
       "    }\n",
       "</style>\n",
       "<table border=\"1\" class=\"dataframe\">\n",
       "  <thead>\n",
       "    <tr style=\"text-align: right;\">\n",
       "      <th></th>\n",
       "      <th>battereya_hajmi</th>\n",
       "      <th>blutus</th>\n",
       "      <th>protsessor_tezligi</th>\n",
       "      <th>ikkita simkartalik</th>\n",
       "      <th>Oldi_kamera</th>\n",
       "      <th>4G</th>\n",
       "      <th>Ichki_xotira</th>\n",
       "      <th>tel_ingichgaligi</th>\n",
       "      <th>Vazni</th>\n",
       "      <th>Protsessor yadrolari soni</th>\n",
       "      <th>...</th>\n",
       "      <th>Qurilma xajmi(pix)</th>\n",
       "      <th>Qurilma ekran kengligi(pix)</th>\n",
       "      <th>ram</th>\n",
       "      <th>Qurilma xajmi(cm)</th>\n",
       "      <th>Qurilma ekran kengligi(cm)</th>\n",
       "      <th>Bir_quvvatlashdagi gaplashish</th>\n",
       "      <th>3g</th>\n",
       "      <th>sensorli</th>\n",
       "      <th>wifi</th>\n",
       "      <th>telefon_turi</th>\n",
       "    </tr>\n",
       "  </thead>\n",
       "  <tbody>\n",
       "    <tr>\n",
       "      <th>count</th>\n",
       "      <td>2000.000000</td>\n",
       "      <td>2000.0000</td>\n",
       "      <td>2000.000000</td>\n",
       "      <td>2000.000000</td>\n",
       "      <td>2000.000000</td>\n",
       "      <td>2000.000000</td>\n",
       "      <td>2000.000000</td>\n",
       "      <td>1997.000000</td>\n",
       "      <td>2000.000000</td>\n",
       "      <td>1999.00000</td>\n",
       "      <td>...</td>\n",
       "      <td>1998.000000</td>\n",
       "      <td>1997.000000</td>\n",
       "      <td>2000.000000</td>\n",
       "      <td>1999.000000</td>\n",
       "      <td>1999.000000</td>\n",
       "      <td>2000.000000</td>\n",
       "      <td>2000.000000</td>\n",
       "      <td>2000.000000</td>\n",
       "      <td>2000.000000</td>\n",
       "      <td>2000.000000</td>\n",
       "    </tr>\n",
       "    <tr>\n",
       "      <th>mean</th>\n",
       "      <td>1238.518500</td>\n",
       "      <td>0.4950</td>\n",
       "      <td>1.522250</td>\n",
       "      <td>0.509500</td>\n",
       "      <td>4.309500</td>\n",
       "      <td>0.521500</td>\n",
       "      <td>32.046500</td>\n",
       "      <td>0.501803</td>\n",
       "      <td>140.249000</td>\n",
       "      <td>4.51976</td>\n",
       "      <td>...</td>\n",
       "      <td>645.416416</td>\n",
       "      <td>1251.328493</td>\n",
       "      <td>2124.213000</td>\n",
       "      <td>12.308154</td>\n",
       "      <td>5.768384</td>\n",
       "      <td>11.011000</td>\n",
       "      <td>0.761500</td>\n",
       "      <td>0.503000</td>\n",
       "      <td>0.507000</td>\n",
       "      <td>1.500000</td>\n",
       "    </tr>\n",
       "    <tr>\n",
       "      <th>std</th>\n",
       "      <td>439.418206</td>\n",
       "      <td>0.5001</td>\n",
       "      <td>0.816004</td>\n",
       "      <td>0.500035</td>\n",
       "      <td>4.341444</td>\n",
       "      <td>0.499662</td>\n",
       "      <td>18.145715</td>\n",
       "      <td>0.288519</td>\n",
       "      <td>35.399655</td>\n",
       "      <td>2.28817</td>\n",
       "      <td>...</td>\n",
       "      <td>443.871085</td>\n",
       "      <td>432.235268</td>\n",
       "      <td>1084.732044</td>\n",
       "      <td>4.213650</td>\n",
       "      <td>4.357048</td>\n",
       "      <td>5.463955</td>\n",
       "      <td>0.426273</td>\n",
       "      <td>0.500116</td>\n",
       "      <td>0.500076</td>\n",
       "      <td>1.118314</td>\n",
       "    </tr>\n",
       "    <tr>\n",
       "      <th>min</th>\n",
       "      <td>501.000000</td>\n",
       "      <td>0.0000</td>\n",
       "      <td>0.500000</td>\n",
       "      <td>0.000000</td>\n",
       "      <td>0.000000</td>\n",
       "      <td>0.000000</td>\n",
       "      <td>2.000000</td>\n",
       "      <td>0.100000</td>\n",
       "      <td>80.000000</td>\n",
       "      <td>1.00000</td>\n",
       "      <td>...</td>\n",
       "      <td>0.000000</td>\n",
       "      <td>500.000000</td>\n",
       "      <td>256.000000</td>\n",
       "      <td>5.000000</td>\n",
       "      <td>0.000000</td>\n",
       "      <td>2.000000</td>\n",
       "      <td>0.000000</td>\n",
       "      <td>0.000000</td>\n",
       "      <td>0.000000</td>\n",
       "      <td>0.000000</td>\n",
       "    </tr>\n",
       "    <tr>\n",
       "      <th>25%</th>\n",
       "      <td>851.750000</td>\n",
       "      <td>0.0000</td>\n",
       "      <td>0.700000</td>\n",
       "      <td>0.000000</td>\n",
       "      <td>1.000000</td>\n",
       "      <td>0.000000</td>\n",
       "      <td>16.000000</td>\n",
       "      <td>0.200000</td>\n",
       "      <td>109.000000</td>\n",
       "      <td>3.00000</td>\n",
       "      <td>...</td>\n",
       "      <td>283.250000</td>\n",
       "      <td>875.000000</td>\n",
       "      <td>1207.500000</td>\n",
       "      <td>9.000000</td>\n",
       "      <td>2.000000</td>\n",
       "      <td>6.000000</td>\n",
       "      <td>1.000000</td>\n",
       "      <td>0.000000</td>\n",
       "      <td>0.000000</td>\n",
       "      <td>0.750000</td>\n",
       "    </tr>\n",
       "    <tr>\n",
       "      <th>50%</th>\n",
       "      <td>1226.000000</td>\n",
       "      <td>0.0000</td>\n",
       "      <td>1.500000</td>\n",
       "      <td>1.000000</td>\n",
       "      <td>3.000000</td>\n",
       "      <td>1.000000</td>\n",
       "      <td>32.000000</td>\n",
       "      <td>0.500000</td>\n",
       "      <td>141.000000</td>\n",
       "      <td>4.00000</td>\n",
       "      <td>...</td>\n",
       "      <td>565.500000</td>\n",
       "      <td>1247.000000</td>\n",
       "      <td>2146.500000</td>\n",
       "      <td>12.000000</td>\n",
       "      <td>5.000000</td>\n",
       "      <td>11.000000</td>\n",
       "      <td>1.000000</td>\n",
       "      <td>1.000000</td>\n",
       "      <td>1.000000</td>\n",
       "      <td>1.500000</td>\n",
       "    </tr>\n",
       "    <tr>\n",
       "      <th>75%</th>\n",
       "      <td>1615.250000</td>\n",
       "      <td>1.0000</td>\n",
       "      <td>2.200000</td>\n",
       "      <td>1.000000</td>\n",
       "      <td>7.000000</td>\n",
       "      <td>1.000000</td>\n",
       "      <td>48.000000</td>\n",
       "      <td>0.800000</td>\n",
       "      <td>170.000000</td>\n",
       "      <td>7.00000</td>\n",
       "      <td>...</td>\n",
       "      <td>947.750000</td>\n",
       "      <td>1633.000000</td>\n",
       "      <td>3064.500000</td>\n",
       "      <td>16.000000</td>\n",
       "      <td>9.000000</td>\n",
       "      <td>16.000000</td>\n",
       "      <td>1.000000</td>\n",
       "      <td>1.000000</td>\n",
       "      <td>1.000000</td>\n",
       "      <td>2.250000</td>\n",
       "    </tr>\n",
       "    <tr>\n",
       "      <th>max</th>\n",
       "      <td>1998.000000</td>\n",
       "      <td>1.0000</td>\n",
       "      <td>3.000000</td>\n",
       "      <td>1.000000</td>\n",
       "      <td>19.000000</td>\n",
       "      <td>1.000000</td>\n",
       "      <td>64.000000</td>\n",
       "      <td>1.000000</td>\n",
       "      <td>200.000000</td>\n",
       "      <td>8.00000</td>\n",
       "      <td>...</td>\n",
       "      <td>1960.000000</td>\n",
       "      <td>1998.000000</td>\n",
       "      <td>3998.000000</td>\n",
       "      <td>19.000000</td>\n",
       "      <td>18.000000</td>\n",
       "      <td>20.000000</td>\n",
       "      <td>1.000000</td>\n",
       "      <td>1.000000</td>\n",
       "      <td>1.000000</td>\n",
       "      <td>3.000000</td>\n",
       "    </tr>\n",
       "  </tbody>\n",
       "</table>\n",
       "<p>8 rows × 21 columns</p>\n",
       "</div>"
      ],
      "text/plain": [
       "       battereya_hajmi     blutus  protsessor_tezligi  ikkita simkartalik  \\\n",
       "count      2000.000000  2000.0000         2000.000000         2000.000000   \n",
       "mean       1238.518500     0.4950            1.522250            0.509500   \n",
       "std         439.418206     0.5001            0.816004            0.500035   \n",
       "min         501.000000     0.0000            0.500000            0.000000   \n",
       "25%         851.750000     0.0000            0.700000            0.000000   \n",
       "50%        1226.000000     0.0000            1.500000            1.000000   \n",
       "75%        1615.250000     1.0000            2.200000            1.000000   \n",
       "max        1998.000000     1.0000            3.000000            1.000000   \n",
       "\n",
       "       Oldi_kamera           4G  Ichki_xotira  tel_ingichgaligi        Vazni  \\\n",
       "count  2000.000000  2000.000000   2000.000000       1997.000000  2000.000000   \n",
       "mean      4.309500     0.521500     32.046500          0.501803   140.249000   \n",
       "std       4.341444     0.499662     18.145715          0.288519    35.399655   \n",
       "min       0.000000     0.000000      2.000000          0.100000    80.000000   \n",
       "25%       1.000000     0.000000     16.000000          0.200000   109.000000   \n",
       "50%       3.000000     1.000000     32.000000          0.500000   141.000000   \n",
       "75%       7.000000     1.000000     48.000000          0.800000   170.000000   \n",
       "max      19.000000     1.000000     64.000000          1.000000   200.000000   \n",
       "\n",
       "       Protsessor yadrolari soni  ...  Qurilma xajmi(pix)  \\\n",
       "count                 1999.00000  ...         1998.000000   \n",
       "mean                     4.51976  ...          645.416416   \n",
       "std                      2.28817  ...          443.871085   \n",
       "min                      1.00000  ...            0.000000   \n",
       "25%                      3.00000  ...          283.250000   \n",
       "50%                      4.00000  ...          565.500000   \n",
       "75%                      7.00000  ...          947.750000   \n",
       "max                      8.00000  ...         1960.000000   \n",
       "\n",
       "       Qurilma ekran kengligi(pix)          ram  Qurilma xajmi(cm)  \\\n",
       "count                  1997.000000  2000.000000        1999.000000   \n",
       "mean                   1251.328493  2124.213000          12.308154   \n",
       "std                     432.235268  1084.732044           4.213650   \n",
       "min                     500.000000   256.000000           5.000000   \n",
       "25%                     875.000000  1207.500000           9.000000   \n",
       "50%                    1247.000000  2146.500000          12.000000   \n",
       "75%                    1633.000000  3064.500000          16.000000   \n",
       "max                    1998.000000  3998.000000          19.000000   \n",
       "\n",
       "       Qurilma ekran kengligi(cm)  Bir_quvvatlashdagi gaplashish           3g  \\\n",
       "count                 1999.000000                    2000.000000  2000.000000   \n",
       "mean                     5.768384                      11.011000     0.761500   \n",
       "std                      4.357048                       5.463955     0.426273   \n",
       "min                      0.000000                       2.000000     0.000000   \n",
       "25%                      2.000000                       6.000000     1.000000   \n",
       "50%                      5.000000                      11.000000     1.000000   \n",
       "75%                      9.000000                      16.000000     1.000000   \n",
       "max                     18.000000                      20.000000     1.000000   \n",
       "\n",
       "          sensorli         wifi  telefon_turi  \n",
       "count  2000.000000  2000.000000   2000.000000  \n",
       "mean      0.503000     0.507000      1.500000  \n",
       "std       0.500116     0.500076      1.118314  \n",
       "min       0.000000     0.000000      0.000000  \n",
       "25%       0.000000     0.000000      0.750000  \n",
       "50%       1.000000     1.000000      1.500000  \n",
       "75%       1.000000     1.000000      2.250000  \n",
       "max       1.000000     1.000000      3.000000  \n",
       "\n",
       "[8 rows x 21 columns]"
      ]
     },
     "execution_count": 32,
     "metadata": {},
     "output_type": "execute_result"
    }
   ],
   "source": [
    "df.describe()"
   ]
  },
  {
   "cell_type": "markdown",
   "metadata": {},
   "source": [
    "MISSING VALUES"
   ]
  },
  {
   "cell_type": "code",
   "execution_count": null,
   "metadata": {},
   "outputs": [],
   "source": [
    "#Drop\n",
    "\n",
    "df = df.dropna(subset=['Age']) #Age ustunida bo'sh qiymatlarni o'chirish\n",
    "\n",
    "df = df.drop(columns=[\"Age\"]) #Age ustunini o'chirish\n",
    "\n",
    "df = df.drop(columns=[\"Age\", \"Name\"]) #Bir nechta ustunlarni o'chirish\n",
    "\n",
    "df = df.drop(index=[0, 2]) #0 va 2 indexlarni o'chirish"
   ]
  },
  {
   "cell_type": "code",
   "execution_count": null,
   "metadata": {},
   "outputs": [],
   "source": [
    "#Mean\n",
    "\n",
    "df['Age'].fillna(df['Age'].mean(),inplace=True) #Age ustunidagi bo'sh qiymatlarni o'rta arifmetikasi bilan to'ldirish"
   ]
  },
  {
   "cell_type": "code",
   "execution_count": null,
   "metadata": {},
   "outputs": [],
   "source": [
    "#Mode\n",
    "\n",
    "df['Age'].fillna(df['Age'].mode()[0],inplace=True) #Age ustunidagi bo'sh qiymatlarni eng ko'p paydo bo'lgan qiymat bilan to'ldirish"
   ]
  },
  {
   "cell_type": "code",
   "execution_count": null,
   "metadata": {},
   "outputs": [],
   "source": [
    "#Median\n",
    "\n",
    "df['Age'].fillna(df['Age'].median(), inplace=True)  #Age ustunidagi bo'sh qiymatlarni medianasi bilan to'ldirish\n"
   ]
  },
  {
   "cell_type": "code",
   "execution_count": null,
   "metadata": {},
   "outputs": [],
   "source": [
    "#Fixed\n",
    "\n",
    "df['Age'].fillna(4,inplace=True) #Age ustunidagi bo'sh qiymatlarni 4 bilan to'ldirish\n",
    "\n",
    "df['Rangi'].fillna('Qora',inplace=True) #Rangi ustunidagi bo'sh qiymatlarni 'Qora' bilan to'ldirish"
   ]
  },
  {
   "cell_type": "markdown",
   "metadata": {},
   "source": [
    "UYGA VAZIFA #Restart"
   ]
  },
  {
   "cell_type": "code",
   "execution_count": 1,
   "metadata": {},
   "outputs": [],
   "source": [
    "import pandas as pd\n",
    "import numpy as np\n",
    "import seaborn as sns\n",
    "import matplotlib.pyplot as plt"
   ]
  },
  {
   "cell_type": "code",
   "execution_count": 2,
   "metadata": {},
   "outputs": [
    {
     "name": "stderr",
     "output_type": "stream",
     "text": [
      "/var/folders/2n/8mc_gc0j7_b8xfff_rzhf5740000gn/T/ipykernel_12834/719080065.py:1: DtypeWarning: Columns (16) have mixed types. Specify dtype option on import or set low_memory=False.\n",
      "  df=pd.read_csv(\"Corporate Stress.csv\")\n"
     ]
    }
   ],
   "source": [
    "df=pd.read_csv(\"Corporate Stress.csv\")"
   ]
  },
  {
   "cell_type": "code",
   "execution_count": 3,
   "metadata": {},
   "outputs": [
    {
     "name": "stdout",
     "output_type": "stream",
     "text": [
      "<class 'pandas.core.frame.DataFrame'>\n",
      "RangeIndex: 50000 entries, 0 to 49999\n",
      "Data columns (total 30 columns):\n",
      " #   Column                            Non-Null Count  Dtype  \n",
      "---  ------                            --------------  -----  \n",
      " 0   ID                                50000 non-null  int64  \n",
      " 1   Age                               50000 non-null  int64  \n",
      " 2   Gender                            50000 non-null  object \n",
      " 3   Marital_Status                    50000 non-null  object \n",
      " 4   Job_Role                          49999 non-null  object \n",
      " 5   Experience_Years                  50000 non-null  int64  \n",
      " 6   Monthly_Salary_INR                50000 non-null  float64\n",
      " 7   Working_Hours_per_Week            50000 non-null  int64  \n",
      " 8   Commute_Time_Hours                49999 non-null  float64\n",
      " 9   Remote_Work                       50000 non-null  bool   \n",
      " 10  Stress_Level                      49999 non-null  float64\n",
      " 11  Health_Issues                     37459 non-null  object \n",
      " 12  Company_Size                      50000 non-null  object \n",
      " 13  Department                        50000 non-null  object \n",
      " 14  Sleep_Hours                       50000 non-null  float64\n",
      " 15  Physical_Activity_Hours_per_Week  50000 non-null  float64\n",
      " 16  Mental_Health_Leave_Taken         49999 non-null  object \n",
      " 17  Manager_Support_Level             50000 non-null  int64  \n",
      " 18  Work_Pressure_Level               49999 non-null  float64\n",
      " 19  Annual_Leaves_Taken               49999 non-null  float64\n",
      " 20  Work_Life_Balance                 49998 non-null  float64\n",
      " 21  Family_Support_Level              50000 non-null  int64  \n",
      " 22  Job_Satisfaction                  50000 non-null  int64  \n",
      " 23  Performance_Rating                49999 non-null  float64\n",
      " 24  Team_Size                         50000 non-null  int64  \n",
      " 25  Training_Opportunities            50000 non-null  bool   \n",
      " 26  Gender_Bias_Experienced           50000 non-null  bool   \n",
      " 27  Discrimination_Experienced        50000 non-null  bool   \n",
      " 28  Burnout_Symptoms                  50000 non-null  object \n",
      " 29  Location                          50000 non-null  object \n",
      "dtypes: bool(4), float64(9), int64(8), object(9)\n",
      "memory usage: 10.1+ MB\n"
     ]
    }
   ],
   "source": [
    "df.info()"
   ]
  },
  {
   "cell_type": "code",
   "execution_count": 4,
   "metadata": {},
   "outputs": [
    {
     "data": {
      "text/plain": [
       "ID                                      0\n",
       "Age                                     0\n",
       "Gender                                  0\n",
       "Marital_Status                          0\n",
       "Job_Role                                1\n",
       "Experience_Years                        0\n",
       "Monthly_Salary_INR                      0\n",
       "Working_Hours_per_Week                  0\n",
       "Commute_Time_Hours                      1\n",
       "Remote_Work                             0\n",
       "Stress_Level                            1\n",
       "Health_Issues                       12541\n",
       "Company_Size                            0\n",
       "Department                              0\n",
       "Sleep_Hours                             0\n",
       "Physical_Activity_Hours_per_Week        0\n",
       "Mental_Health_Leave_Taken               1\n",
       "Manager_Support_Level                   0\n",
       "Work_Pressure_Level                     1\n",
       "Annual_Leaves_Taken                     1\n",
       "Work_Life_Balance                       2\n",
       "Family_Support_Level                    0\n",
       "Job_Satisfaction                        0\n",
       "Performance_Rating                      1\n",
       "Team_Size                               0\n",
       "Training_Opportunities                  0\n",
       "Gender_Bias_Experienced                 0\n",
       "Discrimination_Experienced              0\n",
       "Burnout_Symptoms                        0\n",
       "Location                                0\n",
       "dtype: int64"
      ]
     },
     "execution_count": 4,
     "metadata": {},
     "output_type": "execute_result"
    }
   ],
   "source": [
    "df.isnull().sum()"
   ]
  },
  {
   "cell_type": "code",
   "execution_count": 5,
   "metadata": {},
   "outputs": [],
   "source": [
    "#drop Health_Issues\n",
    "\n",
    "df = df.drop(columns=[\"Health_Issues\"])"
   ]
  },
  {
   "cell_type": "code",
   "execution_count": 6,
   "metadata": {},
   "outputs": [
    {
     "data": {
      "text/plain": [
       "ID                                  0\n",
       "Age                                 0\n",
       "Gender                              0\n",
       "Marital_Status                      0\n",
       "Job_Role                            1\n",
       "Experience_Years                    0\n",
       "Monthly_Salary_INR                  0\n",
       "Working_Hours_per_Week              0\n",
       "Commute_Time_Hours                  1\n",
       "Remote_Work                         0\n",
       "Stress_Level                        1\n",
       "Company_Size                        0\n",
       "Department                          0\n",
       "Sleep_Hours                         0\n",
       "Physical_Activity_Hours_per_Week    0\n",
       "Mental_Health_Leave_Taken           1\n",
       "Manager_Support_Level               0\n",
       "Work_Pressure_Level                 1\n",
       "Annual_Leaves_Taken                 1\n",
       "Work_Life_Balance                   2\n",
       "Family_Support_Level                0\n",
       "Job_Satisfaction                    0\n",
       "Performance_Rating                  1\n",
       "Team_Size                           0\n",
       "Training_Opportunities              0\n",
       "Gender_Bias_Experienced             0\n",
       "Discrimination_Experienced          0\n",
       "Burnout_Symptoms                    0\n",
       "Location                            0\n",
       "dtype: int64"
      ]
     },
     "execution_count": 6,
     "metadata": {},
     "output_type": "execute_result"
    }
   ],
   "source": [
    "df.isnull().sum()"
   ]
  },
  {
   "cell_type": "code",
   "execution_count": 7,
   "metadata": {},
   "outputs": [
    {
     "data": {
      "text/plain": [
       "array(['Developer', 'Analyst', 'Sales', 'Manager', 'HR', 'Support', nan],\n",
       "      dtype=object)"
      ]
     },
     "execution_count": 7,
     "metadata": {},
     "output_type": "execute_result"
    }
   ],
   "source": [
    "df['Job_Role'].unique()"
   ]
  },
  {
   "cell_type": "code",
   "execution_count": 8,
   "metadata": {},
   "outputs": [
    {
     "name": "stderr",
     "output_type": "stream",
     "text": [
      "/var/folders/2n/8mc_gc0j7_b8xfff_rzhf5740000gn/T/ipykernel_12834/4195963920.py:3: FutureWarning: A value is trying to be set on a copy of a DataFrame or Series through chained assignment using an inplace method.\n",
      "The behavior will change in pandas 3.0. This inplace method will never work because the intermediate object on which we are setting values always behaves as a copy.\n",
      "\n",
      "For example, when doing 'df[col].method(value, inplace=True)', try using 'df.method({col: value}, inplace=True)' or df[col] = df[col].method(value) instead, to perform the operation inplace on the original object.\n",
      "\n",
      "\n",
      "  df['Job_Role'].fillna(df['Job_Role'].mode()[0],inplace=True)\n"
     ]
    }
   ],
   "source": [
    "#Mode [Job_Role]\n",
    "\n",
    "df['Job_Role'].fillna(df['Job_Role'].mode()[0],inplace=True)"
   ]
  },
  {
   "cell_type": "code",
   "execution_count": 11,
   "metadata": {},
   "outputs": [
    {
     "data": {
      "text/plain": [
       "array(['Developer', 'Analyst', 'Sales', 'Manager', 'HR', 'Support'],\n",
       "      dtype=object)"
      ]
     },
     "execution_count": 11,
     "metadata": {},
     "output_type": "execute_result"
    }
   ],
   "source": [
    "df['Job_Role'].unique()"
   ]
  },
  {
   "cell_type": "code",
   "execution_count": 14,
   "metadata": {},
   "outputs": [
    {
     "data": {
      "text/plain": [
       "array([1.72, 0.62, 1.22, 2.03, 1.45, 0.48, 0.23, 2.3 , 0.3 , 1.91, 0.82,\n",
       "       0.07, 0.13, 2.57, 2.59, 2.33, 2.69, 1.78, 1.29, 2.06, 1.87, 2.93,\n",
       "       0.17, 0.39, 0.28, 1.56, 0.18, 2.97, 1.51, 0.99, 1.11, 2.6 , 0.55,\n",
       "       0.21, 2.95, 2.63, 2.27, 1.66, 2.16, 0.19, 1.59, 2.44, 1.43, 0.53,\n",
       "       2.86, 2.48, 1.4 , 0.9 , 2.09, 0.66, 1.54, 1.73, 2.46, 1.69, 1.18,\n",
       "       1.97, 2.58, 1.93, 1.81, 1.09, 2.84, 0.73, 0.98, 2.8 , 1.25, 1.31,\n",
       "       1.06, 1.92, 1.61, 1.35, 1.36, 0.33, 0.24, 2.61, 0.47, 2.82, 0.38,\n",
       "       2.38, 0.67, 1.27, 0.94, 2.49, 2.24, 0.45, 2.91, 2.07, 2.96, 2.81,\n",
       "       2.9 , 0.36, 0.08, 0.7 , 1.71, 2.11, 1.64, 1.76, 0.85, 2.21, 2.65,\n",
       "       2.85, 1.8 , 1.7 , 2.47, 1.05, 1.94, 1.19, 1.07, 1.38, 0.03, 0.05,\n",
       "       1.17, 0.87, 0.88, 2.64, 1.74, 2.88, 1.42, 1.79, 1.68, 0.59, 2.28,\n",
       "       0.54, 2.77, 1.08, 2.89, 1.85, 0.74, 2.87, 1.98, 2.72, 1.24, 0.22,\n",
       "       0.06, 0.15, 0.57, 0.44, 2.36, 0.65, 0.6 , 0.4 , 0.86, 1.82, 2.43,\n",
       "       1.53, 0.56, 1.75, 1.88, 2.41, 1.6 , 1.84, 0.2 , 2.18, 0.61, 2.39,\n",
       "       1.1 , 2.22, 0.27, 2.08, 2.71, 1.37, 1.15, 2.37, 2.5 , 1.55, 2.62,\n",
       "       0.1 , 0.71, 1.48, 0.31, 0.12, 2.94, 1.2 , 1.65, 1.32, 0.78, 1.14,\n",
       "       2.92, 2.45, 2.14, 1.3 , 0.43, 0.04, 1.33, 2.31, 0.93, 0.42, 2.76,\n",
       "       2.54, 0.52, 2.01, 1.52, 1.62, 1.12, 2.73, 0.76, 0.84, 0.11, 1.16,\n",
       "       0.09, 1.46, 1.34, 2.79, 2.23, 0.58, 2.25, 2.4 , 1.02, 1.86, 2.51,\n",
       "       0.46, 0.96, 2.1 , 2.04, 2.15, 2.13, 1.47, 2.66, 1.99, 0.75, 2.75,\n",
       "       1.5 , 0.92, 0.63, 0.51, 2.2 , 0.5 , 0.91, 2.56, 2.78, 0.02, 2.34,\n",
       "       1.26, 1.83, 1.01, 2.19, 0.32, 0.95, 3.  , 2.35, 2.05, 0.77, 2.42,\n",
       "       0.97, 0.35, 0.64, 1.44, 1.49, 2.29, 2.7 , 1.04, 2.67, 0.41, 2.02,\n",
       "       1.95, 1.  , 2.32, 0.68, 2.  , 2.53, 1.57, 0.34, 0.49, 0.81, 2.83,\n",
       "       0.89, 2.55, 0.69, 2.52, 1.21, 0.29, 1.89, 1.77, 1.58, 1.67, 1.96,\n",
       "       2.68, 1.28, 0.79, 0.  , 0.16, 2.26,  nan, 0.72, 0.8 , 1.23, 0.83,\n",
       "       0.14, 0.26, 2.99, 0.25, 2.12, 2.98, 1.13, 1.03, 2.74, 1.41, 0.37,\n",
       "       1.63, 0.01, 2.17, 1.9 , 1.39])"
      ]
     },
     "execution_count": 14,
     "metadata": {},
     "output_type": "execute_result"
    }
   ],
   "source": [
    "df['Commute_Time_Hours'].unique()"
   ]
  },
  {
   "cell_type": "code",
   "execution_count": 15,
   "metadata": {},
   "outputs": [
    {
     "name": "stderr",
     "output_type": "stream",
     "text": [
      "/var/folders/2n/8mc_gc0j7_b8xfff_rzhf5740000gn/T/ipykernel_12834/2482252990.py:3: FutureWarning: A value is trying to be set on a copy of a DataFrame or Series through chained assignment using an inplace method.\n",
      "The behavior will change in pandas 3.0. This inplace method will never work because the intermediate object on which we are setting values always behaves as a copy.\n",
      "\n",
      "For example, when doing 'df[col].method(value, inplace=True)', try using 'df.method({col: value}, inplace=True)' or df[col] = df[col].method(value) instead, to perform the operation inplace on the original object.\n",
      "\n",
      "\n",
      "  df['Commute_Time_Hours'].fillna(df['Commute_Time_Hours'].mean(),inplace=True)\n"
     ]
    }
   ],
   "source": [
    "#Mean [Commute_Time_Hours]\n",
    "\n",
    "df['Commute_Time_Hours'].fillna(df['Commute_Time_Hours'].mean(),inplace=True)"
   ]
  },
  {
   "cell_type": "code",
   "execution_count": 16,
   "metadata": {},
   "outputs": [
    {
     "data": {
      "text/plain": [
       "array([1.72      , 0.62      , 1.22      , 2.03      , 1.45      ,\n",
       "       0.48      , 0.23      , 2.3       , 0.3       , 1.91      ,\n",
       "       0.82      , 0.07      , 0.13      , 2.57      , 2.59      ,\n",
       "       2.33      , 2.69      , 1.78      , 1.29      , 2.06      ,\n",
       "       1.87      , 2.93      , 0.17      , 0.39      , 0.28      ,\n",
       "       1.56      , 0.18      , 2.97      , 1.51      , 0.99      ,\n",
       "       1.11      , 2.6       , 0.55      , 0.21      , 2.95      ,\n",
       "       2.63      , 2.27      , 1.66      , 2.16      , 0.19      ,\n",
       "       1.59      , 2.44      , 1.43      , 0.53      , 2.86      ,\n",
       "       2.48      , 1.4       , 0.9       , 2.09      , 0.66      ,\n",
       "       1.54      , 1.73      , 2.46      , 1.69      , 1.18      ,\n",
       "       1.97      , 2.58      , 1.93      , 1.81      , 1.09      ,\n",
       "       2.84      , 0.73      , 0.98      , 2.8       , 1.25      ,\n",
       "       1.31      , 1.06      , 1.92      , 1.61      , 1.35      ,\n",
       "       1.36      , 0.33      , 0.24      , 2.61      , 0.47      ,\n",
       "       2.82      , 0.38      , 2.38      , 0.67      , 1.27      ,\n",
       "       0.94      , 2.49      , 2.24      , 0.45      , 2.91      ,\n",
       "       2.07      , 2.96      , 2.81      , 2.9       , 0.36      ,\n",
       "       0.08      , 0.7       , 1.71      , 2.11      , 1.64      ,\n",
       "       1.76      , 0.85      , 2.21      , 2.65      , 2.85      ,\n",
       "       1.8       , 1.7       , 2.47      , 1.05      , 1.94      ,\n",
       "       1.19      , 1.07      , 1.38      , 0.03      , 0.05      ,\n",
       "       1.17      , 0.87      , 0.88      , 2.64      , 1.74      ,\n",
       "       2.88      , 1.42      , 1.79      , 1.68      , 0.59      ,\n",
       "       2.28      , 0.54      , 2.77      , 1.08      , 2.89      ,\n",
       "       1.85      , 0.74      , 2.87      , 1.98      , 2.72      ,\n",
       "       1.24      , 0.22      , 0.06      , 0.15      , 0.57      ,\n",
       "       0.44      , 2.36      , 0.65      , 0.6       , 0.4       ,\n",
       "       0.86      , 1.82      , 2.43      , 1.53      , 0.56      ,\n",
       "       1.75      , 1.88      , 2.41      , 1.6       , 1.84      ,\n",
       "       0.2       , 2.18      , 0.61      , 2.39      , 1.1       ,\n",
       "       2.22      , 0.27      , 2.08      , 2.71      , 1.37      ,\n",
       "       1.15      , 2.37      , 2.5       , 1.55      , 2.62      ,\n",
       "       0.1       , 0.71      , 1.48      , 0.31      , 0.12      ,\n",
       "       2.94      , 1.2       , 1.65      , 1.32      , 0.78      ,\n",
       "       1.14      , 2.92      , 2.45      , 2.14      , 1.3       ,\n",
       "       0.43      , 0.04      , 1.33      , 2.31      , 0.93      ,\n",
       "       0.42      , 2.76      , 2.54      , 0.52      , 2.01      ,\n",
       "       1.52      , 1.62      , 1.12      , 2.73      , 0.76      ,\n",
       "       0.84      , 0.11      , 1.16      , 0.09      , 1.46      ,\n",
       "       1.34      , 2.79      , 2.23      , 0.58      , 2.25      ,\n",
       "       2.4       , 1.02      , 1.86      , 2.51      , 0.46      ,\n",
       "       0.96      , 2.1       , 2.04      , 2.15      , 2.13      ,\n",
       "       1.47      , 2.66      , 1.99      , 0.75      , 2.75      ,\n",
       "       1.5       , 0.92      , 0.63      , 0.51      , 2.2       ,\n",
       "       0.5       , 0.91      , 2.56      , 2.78      , 0.02      ,\n",
       "       2.34      , 1.26      , 1.83      , 1.01      , 2.19      ,\n",
       "       0.32      , 0.95      , 3.        , 2.35      , 2.05      ,\n",
       "       0.77      , 2.42      , 0.97      , 0.35      , 0.64      ,\n",
       "       1.44      , 1.49      , 2.29      , 2.7       , 1.04      ,\n",
       "       2.67      , 0.41      , 2.02      , 1.95      , 1.        ,\n",
       "       2.32      , 0.68      , 2.        , 2.53      , 1.57      ,\n",
       "       0.34      , 0.49      , 0.81      , 2.83      , 0.89      ,\n",
       "       2.55      , 0.69      , 2.52      , 1.21      , 0.29      ,\n",
       "       1.89      , 1.77      , 1.58      , 1.67      , 1.96      ,\n",
       "       2.68      , 1.28      , 0.79      , 0.        , 0.16      ,\n",
       "       2.26      , 1.50044081, 0.72      , 0.8       , 1.23      ,\n",
       "       0.83      , 0.14      , 0.26      , 2.99      , 0.25      ,\n",
       "       2.12      , 2.98      , 1.13      , 1.03      , 2.74      ,\n",
       "       1.41      , 0.37      , 1.63      , 0.01      , 2.17      ,\n",
       "       1.9       , 1.39      ])"
      ]
     },
     "execution_count": 16,
     "metadata": {},
     "output_type": "execute_result"
    }
   ],
   "source": [
    "df['Commute_Time_Hours'].unique()"
   ]
  },
  {
   "cell_type": "code",
   "execution_count": 17,
   "metadata": {},
   "outputs": [
    {
     "data": {
      "text/plain": [
       "array([ 0.,  7.,  6.,  8.,  2.,  4.,  1.,  9.,  3., 10.,  5., nan])"
      ]
     },
     "execution_count": 17,
     "metadata": {},
     "output_type": "execute_result"
    }
   ],
   "source": [
    "df['Stress_Level'].unique() "
   ]
  },
  {
   "cell_type": "code",
   "execution_count": 18,
   "metadata": {},
   "outputs": [
    {
     "name": "stderr",
     "output_type": "stream",
     "text": [
      "/var/folders/2n/8mc_gc0j7_b8xfff_rzhf5740000gn/T/ipykernel_12834/1534415137.py:3: FutureWarning: A value is trying to be set on a copy of a DataFrame or Series through chained assignment using an inplace method.\n",
      "The behavior will change in pandas 3.0. This inplace method will never work because the intermediate object on which we are setting values always behaves as a copy.\n",
      "\n",
      "For example, when doing 'df[col].method(value, inplace=True)', try using 'df.method({col: value}, inplace=True)' or df[col] = df[col].method(value) instead, to perform the operation inplace on the original object.\n",
      "\n",
      "\n",
      "  df['Stress_Level'].fillna(df['Stress_Level'].median(),inplace=True)\n"
     ]
    }
   ],
   "source": [
    "#Median [Stress_Level]\n",
    "\n",
    "df['Stress_Level'].fillna(df['Stress_Level'].median(),inplace=True)"
   ]
  },
  {
   "cell_type": "code",
   "execution_count": 19,
   "metadata": {},
   "outputs": [
    {
     "data": {
      "text/plain": [
       "array([ 0.,  7.,  6.,  8.,  2.,  4.,  1.,  9.,  3., 10.,  5.])"
      ]
     },
     "execution_count": 19,
     "metadata": {},
     "output_type": "execute_result"
    }
   ],
   "source": [
    "df['Stress_Level'].unique() "
   ]
  },
  {
   "cell_type": "code",
   "execution_count": 20,
   "metadata": {},
   "outputs": [
    {
     "data": {
      "text/plain": [
       "array(['FALSE', 'TRUE', '1', nan, '0', True, False], dtype=object)"
      ]
     },
     "execution_count": 20,
     "metadata": {},
     "output_type": "execute_result"
    }
   ],
   "source": [
    "df['Mental_Health_Leave_Taken'].unique()"
   ]
  },
  {
   "cell_type": "code",
   "execution_count": 21,
   "metadata": {},
   "outputs": [
    {
     "name": "stderr",
     "output_type": "stream",
     "text": [
      "/var/folders/2n/8mc_gc0j7_b8xfff_rzhf5740000gn/T/ipykernel_12834/1308649737.py:3: FutureWarning: A value is trying to be set on a copy of a DataFrame or Series through chained assignment using an inplace method.\n",
      "The behavior will change in pandas 3.0. This inplace method will never work because the intermediate object on which we are setting values always behaves as a copy.\n",
      "\n",
      "For example, when doing 'df[col].method(value, inplace=True)', try using 'df.method({col: value}, inplace=True)' or df[col] = df[col].method(value) instead, to perform the operation inplace on the original object.\n",
      "\n",
      "\n",
      "  df['Mental_Health_Leave_Taken'].fillna('No',inplace=True)\n"
     ]
    }
   ],
   "source": [
    "#Fixed [Mental_Health_Leave_Taken]\n",
    "\n",
    "df['Mental_Health_Leave_Taken'].fillna('No',inplace=True)"
   ]
  },
  {
   "cell_type": "code",
   "execution_count": 22,
   "metadata": {},
   "outputs": [
    {
     "data": {
      "text/plain": [
       "array(['FALSE', 'TRUE', '1', 'No', '0', True, False], dtype=object)"
      ]
     },
     "execution_count": 22,
     "metadata": {},
     "output_type": "execute_result"
    }
   ],
   "source": [
    "df['Mental_Health_Leave_Taken'].unique()"
   ]
  },
  {
   "cell_type": "code",
   "execution_count": 23,
   "metadata": {},
   "outputs": [
    {
     "data": {
      "text/plain": [
       "ID                                  0\n",
       "Age                                 0\n",
       "Gender                              0\n",
       "Marital_Status                      0\n",
       "Job_Role                            0\n",
       "Experience_Years                    0\n",
       "Monthly_Salary_INR                  0\n",
       "Working_Hours_per_Week              0\n",
       "Commute_Time_Hours                  0\n",
       "Remote_Work                         0\n",
       "Stress_Level                        0\n",
       "Company_Size                        0\n",
       "Department                          0\n",
       "Sleep_Hours                         0\n",
       "Physical_Activity_Hours_per_Week    0\n",
       "Mental_Health_Leave_Taken           0\n",
       "Manager_Support_Level               0\n",
       "Work_Pressure_Level                 1\n",
       "Annual_Leaves_Taken                 1\n",
       "Work_Life_Balance                   2\n",
       "Family_Support_Level                0\n",
       "Job_Satisfaction                    0\n",
       "Performance_Rating                  1\n",
       "Team_Size                           0\n",
       "Training_Opportunities              0\n",
       "Gender_Bias_Experienced             0\n",
       "Discrimination_Experienced          0\n",
       "Burnout_Symptoms                    0\n",
       "Location                            0\n",
       "dtype: int64"
      ]
     },
     "execution_count": 23,
     "metadata": {},
     "output_type": "execute_result"
    }
   ],
   "source": [
    "df.isnull().sum()"
   ]
  },
  {
   "cell_type": "code",
   "execution_count": 24,
   "metadata": {},
   "outputs": [
    {
     "name": "stderr",
     "output_type": "stream",
     "text": [
      "/var/folders/2n/8mc_gc0j7_b8xfff_rzhf5740000gn/T/ipykernel_12834/3569134084.py:6: FutureWarning: A value is trying to be set on a copy of a DataFrame or Series through chained assignment using an inplace method.\n",
      "The behavior will change in pandas 3.0. This inplace method will never work because the intermediate object on which we are setting values always behaves as a copy.\n",
      "\n",
      "For example, when doing 'df[col].method(value, inplace=True)', try using 'df.method({col: value}, inplace=True)' or df[col] = df[col].method(value) instead, to perform the operation inplace on the original object.\n",
      "\n",
      "\n",
      "  df[col].fillna(df[col].mean(), inplace=True)\n"
     ]
    }
   ],
   "source": [
    "missing_col=df.isnull().sum()>0\n",
    "for col in df.columns[missing_col]:\n",
    "    if df[col].dtype=='object':\n",
    "        df[col].fillna(df[col].mode()[0], inplace=True)\n",
    "    else:\n",
    "        df[col].fillna(df[col].mean(), inplace=True)"
   ]
  },
  {
   "cell_type": "code",
   "execution_count": 25,
   "metadata": {},
   "outputs": [
    {
     "data": {
      "text/plain": [
       "ID                                  0\n",
       "Age                                 0\n",
       "Gender                              0\n",
       "Marital_Status                      0\n",
       "Job_Role                            0\n",
       "Experience_Years                    0\n",
       "Monthly_Salary_INR                  0\n",
       "Working_Hours_per_Week              0\n",
       "Commute_Time_Hours                  0\n",
       "Remote_Work                         0\n",
       "Stress_Level                        0\n",
       "Company_Size                        0\n",
       "Department                          0\n",
       "Sleep_Hours                         0\n",
       "Physical_Activity_Hours_per_Week    0\n",
       "Mental_Health_Leave_Taken           0\n",
       "Manager_Support_Level               0\n",
       "Work_Pressure_Level                 0\n",
       "Annual_Leaves_Taken                 0\n",
       "Work_Life_Balance                   0\n",
       "Family_Support_Level                0\n",
       "Job_Satisfaction                    0\n",
       "Performance_Rating                  0\n",
       "Team_Size                           0\n",
       "Training_Opportunities              0\n",
       "Gender_Bias_Experienced             0\n",
       "Discrimination_Experienced          0\n",
       "Burnout_Symptoms                    0\n",
       "Location                            0\n",
       "dtype: int64"
      ]
     },
     "execution_count": 25,
     "metadata": {},
     "output_type": "execute_result"
    }
   ],
   "source": [
    "df.isnull().sum()"
   ]
  }
 ],
 "metadata": {
  "kernelspec": {
   "display_name": "Python 3",
   "language": "python",
   "name": "python3"
  },
  "language_info": {
   "codemirror_mode": {
    "name": "ipython",
    "version": 3
   },
   "file_extension": ".py",
   "mimetype": "text/x-python",
   "name": "python",
   "nbconvert_exporter": "python",
   "pygments_lexer": "ipython3",
   "version": "3.9.6"
  }
 },
 "nbformat": 4,
 "nbformat_minor": 2
}
