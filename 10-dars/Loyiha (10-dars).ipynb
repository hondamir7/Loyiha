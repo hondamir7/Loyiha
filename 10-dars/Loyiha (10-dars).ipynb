{
 "cells": [
  {
   "cell_type": "code",
   "execution_count": null,
   "metadata": {},
   "outputs": [],
   "source": [
    "import pandas as pd\n",
    "import numpy as np\n",
    "import seaborn as sns\n",
    "import matplotlib.pyplot as plt\n",
    "from sklearn.preprocessing import LabelEncoder, StandardScaler, MinMaxScaler, RobustScaler\n",
    "from sklearn.model_selection import train_test_split, KFold, cross_val_score\n",
    "from sklearn.linear_model import LogisticRegression, LinearRegression\n",
    "from sklearn.tree import DecisionTreeClassifier\n",
    "from sklearn.metrics import accuracy_score, mean_squared_error, r2_score\n",
    "from sklearn.ensemble import RandomForestRegressor"
   ]
  },
  {
   "cell_type": "code",
   "execution_count": null,
   "metadata": {},
   "outputs": [],
   "source": [
    "# Load dataset\n",
    "df = pd.read_csv(\"Top Expensive Leagues.csv\")"
   ]
  },
  {
   "cell_type": "code",
   "execution_count": null,
   "metadata": {},
   "outputs": [
    {
     "name": "stdout",
     "output_type": "stream",
     "text": [
      "<class 'pandas.core.frame.DataFrame'>\n",
      "RangeIndex: 700 entries, 0 to 699\n",
      "Data columns (total 10 columns):\n",
      " #   Column                       Non-Null Count  Dtype  \n",
      "---  ------                       --------------  -----  \n",
      " 0   League ID                    700 non-null    object \n",
      " 1   League Name                  700 non-null    object \n",
      " 2   Country                      700 non-null    object \n",
      " 3   Sport                        700 non-null    object \n",
      " 4   Revenue (USD)                700 non-null    float64\n",
      " 5   Average Player Salary (USD)  700 non-null    object \n",
      " 6   Top Team                     700 non-null    object \n",
      " 7   Total Teams                  700 non-null    int64  \n",
      " 8   Founded Year                 700 non-null    float64\n",
      " 9   Viewership                   697 non-null    float64\n",
      "dtypes: float64(3), int64(1), object(6)\n",
      "memory usage: 54.8+ KB\n"
     ]
    }
   ],
   "source": [
    "df.info()"
   ]
  },
  {
   "cell_type": "code",
   "execution_count": null,
   "metadata": {},
   "outputs": [
    {
     "data": {
      "text/plain": [
       "League ID                      0\n",
       "League Name                    0\n",
       "Country                        0\n",
       "Sport                          0\n",
       "Revenue (USD)                  0\n",
       "Average Player Salary (USD)    0\n",
       "Top Team                       0\n",
       "Total Teams                    0\n",
       "Founded Year                   0\n",
       "Viewership                     3\n",
       "dtype: int64"
      ]
     },
     "metadata": {},
     "output_type": "display_data"
    }
   ],
   "source": [
    "df.isnull().sum()"
   ]
  },
  {
   "cell_type": "code",
   "execution_count": null,
   "metadata": {},
   "outputs": [
    {
     "name": "stderr",
     "output_type": "stream",
     "text": [
      "/var/folders/2n/8mc_gc0j7_b8xfff_rzhf5740000gn/T/ipykernel_72253/1380464465.py:3: FutureWarning: A value is trying to be set on a copy of a DataFrame or Series through chained assignment using an inplace method.\n",
      "The behavior will change in pandas 3.0. This inplace method will never work because the intermediate object on which we are setting values always behaves as a copy.\n",
      "\n",
      "For example, when doing 'df[col].method(value, inplace=True)', try using 'df.method({col: value}, inplace=True)' or df[col] = df[col].method(value) instead, to perform the operation inplace on the original object.\n",
      "\n",
      "\n",
      "  df[col].fillna(df[col].mode()[0],inplace=True)\n",
      "/var/folders/2n/8mc_gc0j7_b8xfff_rzhf5740000gn/T/ipykernel_72253/1380464465.py:5: FutureWarning: A value is trying to be set on a copy of a DataFrame or Series through chained assignment using an inplace method.\n",
      "The behavior will change in pandas 3.0. This inplace method will never work because the intermediate object on which we are setting values always behaves as a copy.\n",
      "\n",
      "For example, when doing 'df[col].method(value, inplace=True)', try using 'df.method({col: value}, inplace=True)' or df[col] = df[col].method(value) instead, to perform the operation inplace on the original object.\n",
      "\n",
      "\n",
      "  df[col].fillna(df[col].mean(), inplace=True)\n"
     ]
    }
   ],
   "source": [
    "for col in df.columns:\n",
    "    if df[col].dtype=='object':\n",
    "        df[col].fillna(df[col].mode()[0],inplace=True)\n",
    "    else:\n",
    "        df[col].fillna(df[col].mean(), inplace=True)"
   ]
  },
  {
   "cell_type": "code",
   "execution_count": null,
   "metadata": {},
   "outputs": [],
   "source": [
    "cardinality=df.nunique()"
   ]
  },
  {
   "cell_type": "code",
   "execution_count": null,
   "metadata": {},
   "outputs": [
    {
     "data": {
      "text/plain": [
       "League ID                      700\n",
       "League Name                      8\n",
       "Country                          7\n",
       "Sport                            4\n",
       "Revenue (USD)                  699\n",
       "Average Player Salary (USD)    541\n",
       "Top Team                        27\n",
       "Total Teams                     26\n",
       "Founded Year                   146\n",
       "Viewership                     691\n",
       "dtype: int64"
      ]
     },
     "metadata": {},
     "output_type": "display_data"
    }
   ],
   "source": [
    "cardinality"
   ]
  },
  {
   "cell_type": "code",
   "execution_count": null,
   "metadata": {},
   "outputs": [],
   "source": [
    "for col in df.columns:\n",
    "    if df[col].dtype == 'object':\n",
    "        if cardinality[col] <= 5:\n",
    "            df = pd.get_dummies(df, columns=[col], dtype=int, drop_first=True)\n",
    "        else:\n",
    "            le = LabelEncoder()\n",
    "            df[col] = le.fit_transform(df[col])"
   ]
  },
  {
   "cell_type": "code",
   "execution_count": null,
   "metadata": {},
   "outputs": [
    {
     "name": "stdout",
     "output_type": "stream",
     "text": [
      "<class 'pandas.core.frame.DataFrame'>\n",
      "RangeIndex: 700 entries, 0 to 699\n",
      "Data columns (total 12 columns):\n",
      " #   Column                       Non-Null Count  Dtype  \n",
      "---  ------                       --------------  -----  \n",
      " 0   League ID                    700 non-null    int64  \n",
      " 1   League Name                  700 non-null    int64  \n",
      " 2   Country                      700 non-null    int64  \n",
      " 3   Revenue (USD)                700 non-null    float64\n",
      " 4   Average Player Salary (USD)  700 non-null    int64  \n",
      " 5   Top Team                     700 non-null    int64  \n",
      " 6   Total Teams                  700 non-null    int64  \n",
      " 7   Founded Year                 700 non-null    float64\n",
      " 8   Viewership                   700 non-null    float64\n",
      " 9   Sport_Basketball             700 non-null    int64  \n",
      " 10  Sport_Cricket                700 non-null    int64  \n",
      " 11  Sport_Football               700 non-null    int64  \n",
      "dtypes: float64(3), int64(9)\n",
      "memory usage: 65.8 KB\n"
     ]
    }
   ],
   "source": [
    "df.info()"
   ]
  },
  {
   "cell_type": "code",
   "execution_count": null,
   "metadata": {},
   "outputs": [],
   "source": [
    "num_col=df.select_dtypes(include=['int32','float64']).columns"
   ]
  },
  {
   "cell_type": "code",
   "execution_count": null,
   "metadata": {},
   "outputs": [
    {
     "data": {
      "text/plain": [
       "Index(['Revenue (USD)', 'Founded Year', 'Viewership'], dtype='object')"
      ]
     },
     "metadata": {},
     "output_type": "display_data"
    }
   ],
   "source": [
    "num_col"
   ]
  },
  {
   "cell_type": "code",
   "execution_count": null,
   "metadata": {},
   "outputs": [],
   "source": [
    "scaler=StandardScaler()\n",
    "df[num_col]=scaler.fit_transform(df[num_col])"
   ]
  },
  {
   "cell_type": "code",
   "execution_count": null,
   "metadata": {},
   "outputs": [
    {
     "data": {
      "text/html": [
       "<div>\n",
       "<style scoped>\n",
       "    .dataframe tbody tr th:only-of-type {\n",
       "        vertical-align: middle;\n",
       "    }\n",
       "\n",
       "    .dataframe tbody tr th {\n",
       "        vertical-align: top;\n",
       "    }\n",
       "\n",
       "    .dataframe thead th {\n",
       "        text-align: right;\n",
       "    }\n",
       "</style>\n",
       "<table border=\"1\" class=\"dataframe\">\n",
       "  <thead>\n",
       "    <tr style=\"text-align: right;\">\n",
       "      <th></th>\n",
       "      <th>League ID</th>\n",
       "      <th>League Name</th>\n",
       "      <th>Country</th>\n",
       "      <th>Revenue (USD)</th>\n",
       "      <th>Average Player Salary (USD)</th>\n",
       "      <th>Top Team</th>\n",
       "      <th>Total Teams</th>\n",
       "      <th>Founded Year</th>\n",
       "      <th>Viewership</th>\n",
       "      <th>Sport_Basketball</th>\n",
       "      <th>Sport_Cricket</th>\n",
       "      <th>Sport_Football</th>\n",
       "    </tr>\n",
       "  </thead>\n",
       "  <tbody>\n",
       "    <tr>\n",
       "      <th>0</th>\n",
       "      <td>0</td>\n",
       "      <td>6</td>\n",
       "      <td>0</td>\n",
       "      <td>0.461642</td>\n",
       "      <td>74</td>\n",
       "      <td>15</td>\n",
       "      <td>16</td>\n",
       "      <td>-0.512943</td>\n",
       "      <td>1.644673</td>\n",
       "      <td>0</td>\n",
       "      <td>0</td>\n",
       "      <td>1</td>\n",
       "    </tr>\n",
       "    <tr>\n",
       "      <th>1</th>\n",
       "      <td>1</td>\n",
       "      <td>7</td>\n",
       "      <td>3</td>\n",
       "      <td>1.298311</td>\n",
       "      <td>418</td>\n",
       "      <td>12</td>\n",
       "      <td>13</td>\n",
       "      <td>0.265422</td>\n",
       "      <td>-0.863742</td>\n",
       "      <td>0</td>\n",
       "      <td>0</td>\n",
       "      <td>0</td>\n",
       "    </tr>\n",
       "    <tr>\n",
       "      <th>2</th>\n",
       "      <td>2</td>\n",
       "      <td>1</td>\n",
       "      <td>0</td>\n",
       "      <td>1.686759</td>\n",
       "      <td>179</td>\n",
       "      <td>8</td>\n",
       "      <td>13</td>\n",
       "      <td>0.282529</td>\n",
       "      <td>-0.703038</td>\n",
       "      <td>0</td>\n",
       "      <td>0</td>\n",
       "      <td>0</td>\n",
       "    </tr>\n",
       "    <tr>\n",
       "      <th>3</th>\n",
       "      <td>3</td>\n",
       "      <td>2</td>\n",
       "      <td>5</td>\n",
       "      <td>0.322094</td>\n",
       "      <td>146</td>\n",
       "      <td>4</td>\n",
       "      <td>22</td>\n",
       "      <td>0.453598</td>\n",
       "      <td>-0.072378</td>\n",
       "      <td>0</td>\n",
       "      <td>0</td>\n",
       "      <td>0</td>\n",
       "    </tr>\n",
       "    <tr>\n",
       "      <th>4</th>\n",
       "      <td>4</td>\n",
       "      <td>7</td>\n",
       "      <td>4</td>\n",
       "      <td>0.918621</td>\n",
       "      <td>439</td>\n",
       "      <td>13</td>\n",
       "      <td>16</td>\n",
       "      <td>0.145674</td>\n",
       "      <td>-1.451224</td>\n",
       "      <td>1</td>\n",
       "      <td>0</td>\n",
       "      <td>0</td>\n",
       "    </tr>\n",
       "  </tbody>\n",
       "</table>\n",
       "</div>"
      ],
      "text/plain": [
       "   League ID  League Name  Country  Revenue (USD)  \\\n",
       "0          0            6        0       0.461642   \n",
       "1          1            7        3       1.298311   \n",
       "2          2            1        0       1.686759   \n",
       "3          3            2        5       0.322094   \n",
       "4          4            7        4       0.918621   \n",
       "\n",
       "   Average Player Salary (USD)  Top Team  Total Teams  Founded Year  \\\n",
       "0                           74        15           16     -0.512943   \n",
       "1                          418        12           13      0.265422   \n",
       "2                          179         8           13      0.282529   \n",
       "3                          146         4           22      0.453598   \n",
       "4                          439        13           16      0.145674   \n",
       "\n",
       "   Viewership  Sport_Basketball  Sport_Cricket  Sport_Football  \n",
       "0    1.644673                 0              0               1  \n",
       "1   -0.863742                 0              0               0  \n",
       "2   -0.703038                 0              0               0  \n",
       "3   -0.072378                 0              0               0  \n",
       "4   -1.451224                 1              0               0  "
      ]
     },
     "metadata": {},
     "output_type": "display_data"
    }
   ],
   "source": [
    "df.head()"
   ]
  },
  {
   "cell_type": "code",
   "execution_count": null,
   "metadata": {},
   "outputs": [
    {
     "name": "stdout",
     "output_type": "stream",
     "text": [
      "<class 'pandas.core.frame.DataFrame'>\n",
      "RangeIndex: 700 entries, 0 to 699\n",
      "Data columns (total 12 columns):\n",
      " #   Column                       Non-Null Count  Dtype  \n",
      "---  ------                       --------------  -----  \n",
      " 0   League ID                    700 non-null    int64  \n",
      " 1   League Name                  700 non-null    int64  \n",
      " 2   Country                      700 non-null    int64  \n",
      " 3   Revenue (USD)                700 non-null    float64\n",
      " 4   Average Player Salary (USD)  700 non-null    int64  \n",
      " 5   Top Team                     700 non-null    int64  \n",
      " 6   Total Teams                  700 non-null    int64  \n",
      " 7   Founded Year                 700 non-null    float64\n",
      " 8   Viewership                   700 non-null    float64\n",
      " 9   Sport_Basketball             700 non-null    int64  \n",
      " 10  Sport_Cricket                700 non-null    int64  \n",
      " 11  Sport_Football               700 non-null    int64  \n",
      "dtypes: float64(3), int64(9)\n",
      "memory usage: 65.8 KB\n"
     ]
    }
   ],
   "source": [
    "df.info()"
   ]
  },
  {
   "cell_type": "code",
   "execution_count": null,
   "metadata": {},
   "outputs": [],
   "source": [
    "x=df.drop(columns=['Viewership'])   # inputlarni tanlash"
   ]
  },
  {
   "cell_type": "code",
   "execution_count": null,
   "metadata": {},
   "outputs": [],
   "source": [
    "y=df['Viewership']"
   ]
  },
  {
   "cell_type": "code",
   "execution_count": null,
   "metadata": {},
   "outputs": [],
   "source": [
    "x_train,x_temp,y_train,y_temp=train_test_split(x,y,test_size=0.2,random_state=42)    # Datani qismlarga ajratish\n",
    "x_test,x_val,y_test,y_val=train_test_split(x_temp,y_temp,test_size=0.5,random_state=42)"
   ]
  },
  {
   "cell_type": "code",
   "execution_count": null,
   "metadata": {},
   "outputs": [],
   "source": [
    "model=LinearRegression()\n",
    "linear_model=model.fit(x_train,y_train)\n",
    "y_pred=linear_model.predict(x_test)\n",
    "mse=mean_squared_error(y_test,y_pred)\n",
    "r2=r2_score(y_test,y_pred)"
   ]
  },
  {
   "cell_type": "code",
   "execution_count": null,
   "metadata": {},
   "outputs": [
    {
     "data": {
      "text/plain": [
       "0.8851021690248395"
      ]
     },
     "metadata": {},
     "output_type": "display_data"
    }
   ],
   "source": [
    "mse"
   ]
  },
  {
   "cell_type": "code",
   "execution_count": null,
   "metadata": {},
   "outputs": [
    {
     "data": {
      "text/plain": [
       "0.031564159035777584"
      ]
     },
     "metadata": {},
     "output_type": "display_data"
    }
   ],
   "source": [
    "r2"
   ]
  },
  {
   "cell_type": "code",
   "execution_count": null,
   "metadata": {},
   "outputs": [
    {
     "name": "stdout",
     "output_type": "stream",
     "text": [
      "Cross-Validation Scores: [0.95383824 1.07737359 0.98280102 0.97688835 0.96301788 0.94200463\n",
      " 1.03872007 0.97683812 1.05525275 1.06760891]\n",
      "Mean CV Score: 1.0034343574807436\n"
     ]
    }
   ],
   "source": [
    "kf = KFold(n_splits=10, shuffle=True, random_state=42)  # 5-Fold CV\n",
    "\n",
    "# Perform Cross-Validation\n",
    "cv_scores = cross_val_score(linear_model, x, y, cv=kf, scoring='neg_mean_squared_error')\n",
    "cv_scores = np.sqrt(-cv_scores)\n",
    "\n",
    "print(\"Cross-Validation Scores:\", cv_scores)\n",
    "print(\"Mean CV Score:\", np.mean(cv_scores))"
   ]
  },
  {
   "cell_type": "code",
   "execution_count": null,
   "metadata": {},
   "outputs": [
    {
     "name": "stdout",
     "output_type": "stream",
     "text": [
      "0.1183321884559041\n"
     ]
    }
   ],
   "source": [
    "print(np.mean(cv_scores)-mse)"
   ]
  },
  {
   "cell_type": "markdown",
   "metadata": {},
   "source": [
    "VAZIFA #Restart"
   ]
  },
  {
   "cell_type": "code",
   "execution_count": 1,
   "metadata": {},
   "outputs": [],
   "source": [
    "import pandas as pd\n",
    "import numpy as np\n",
    "import seaborn as sns\n",
    "import matplotlib.pyplot as plt\n",
    "from sklearn.preprocessing import LabelEncoder, StandardScaler, MinMaxScaler, RobustScaler\n",
    "from sklearn.model_selection import train_test_split, KFold, cross_val_score\n",
    "from sklearn.linear_model import LogisticRegression, LinearRegression\n",
    "from sklearn.tree import DecisionTreeClassifier\n",
    "from sklearn.metrics import accuracy_score, mean_squared_error, r2_score\n",
    "from sklearn.ensemble import RandomForestRegressor"
   ]
  },
  {
   "cell_type": "code",
   "execution_count": 2,
   "metadata": {},
   "outputs": [
    {
     "name": "stderr",
     "output_type": "stream",
     "text": [
      "/var/folders/2n/8mc_gc0j7_b8xfff_rzhf5740000gn/T/ipykernel_899/2140832116.py:1: DtypeWarning: Columns (16) have mixed types. Specify dtype option on import or set low_memory=False.\n",
      "  df = pd.read_csv(\"Corporate Stress.csv\")\n"
     ]
    }
   ],
   "source": [
    "df = pd.read_csv(\"Corporate Stress.csv\")"
   ]
  },
  {
   "cell_type": "code",
   "execution_count": 3,
   "metadata": {},
   "outputs": [
    {
     "name": "stdout",
     "output_type": "stream",
     "text": [
      "<class 'pandas.core.frame.DataFrame'>\n",
      "RangeIndex: 50000 entries, 0 to 49999\n",
      "Data columns (total 30 columns):\n",
      " #   Column                            Non-Null Count  Dtype  \n",
      "---  ------                            --------------  -----  \n",
      " 0   ID                                50000 non-null  int64  \n",
      " 1   Age                               50000 non-null  int64  \n",
      " 2   Gender                            50000 non-null  object \n",
      " 3   Marital_Status                    50000 non-null  object \n",
      " 4   Job_Role                          49999 non-null  object \n",
      " 5   Experience_Years                  50000 non-null  int64  \n",
      " 6   Monthly_Salary_INR                50000 non-null  float64\n",
      " 7   Working_Hours_per_Week            50000 non-null  int64  \n",
      " 8   Commute_Time_Hours                49999 non-null  float64\n",
      " 9   Remote_Work                       50000 non-null  bool   \n",
      " 10  Stress_Level                      49999 non-null  float64\n",
      " 11  Health_Issues                     37459 non-null  object \n",
      " 12  Company_Size                      50000 non-null  object \n",
      " 13  Department                        50000 non-null  object \n",
      " 14  Sleep_Hours                       50000 non-null  float64\n",
      " 15  Physical_Activity_Hours_per_Week  50000 non-null  float64\n",
      " 16  Mental_Health_Leave_Taken         49999 non-null  object \n",
      " 17  Manager_Support_Level             50000 non-null  int64  \n",
      " 18  Work_Pressure_Level               49999 non-null  float64\n",
      " 19  Annual_Leaves_Taken               49999 non-null  float64\n",
      " 20  Work_Life_Balance                 49998 non-null  float64\n",
      " 21  Family_Support_Level              50000 non-null  int64  \n",
      " 22  Job_Satisfaction                  50000 non-null  int64  \n",
      " 23  Performance_Rating                49999 non-null  float64\n",
      " 24  Team_Size                         50000 non-null  int64  \n",
      " 25  Training_Opportunities            50000 non-null  bool   \n",
      " 26  Gender_Bias_Experienced           50000 non-null  bool   \n",
      " 27  Discrimination_Experienced        50000 non-null  bool   \n",
      " 28  Burnout_Symptoms                  50000 non-null  object \n",
      " 29  Location                          50000 non-null  object \n",
      "dtypes: bool(4), float64(9), int64(8), object(9)\n",
      "memory usage: 10.1+ MB\n"
     ]
    }
   ],
   "source": [
    "df.info()"
   ]
  },
  {
   "cell_type": "code",
   "execution_count": 4,
   "metadata": {},
   "outputs": [
    {
     "data": {
      "text/plain": [
       "ID                                      0\n",
       "Age                                     0\n",
       "Gender                                  0\n",
       "Marital_Status                          0\n",
       "Job_Role                                1\n",
       "Experience_Years                        0\n",
       "Monthly_Salary_INR                      0\n",
       "Working_Hours_per_Week                  0\n",
       "Commute_Time_Hours                      1\n",
       "Remote_Work                             0\n",
       "Stress_Level                            1\n",
       "Health_Issues                       12541\n",
       "Company_Size                            0\n",
       "Department                              0\n",
       "Sleep_Hours                             0\n",
       "Physical_Activity_Hours_per_Week        0\n",
       "Mental_Health_Leave_Taken               1\n",
       "Manager_Support_Level                   0\n",
       "Work_Pressure_Level                     1\n",
       "Annual_Leaves_Taken                     1\n",
       "Work_Life_Balance                       2\n",
       "Family_Support_Level                    0\n",
       "Job_Satisfaction                        0\n",
       "Performance_Rating                      1\n",
       "Team_Size                               0\n",
       "Training_Opportunities                  0\n",
       "Gender_Bias_Experienced                 0\n",
       "Discrimination_Experienced              0\n",
       "Burnout_Symptoms                        0\n",
       "Location                                0\n",
       "dtype: int64"
      ]
     },
     "execution_count": 4,
     "metadata": {},
     "output_type": "execute_result"
    }
   ],
   "source": [
    "df.isnull().sum()"
   ]
  },
  {
   "cell_type": "code",
   "execution_count": 5,
   "metadata": {},
   "outputs": [],
   "source": [
    "df=df.drop(columns=['Health_Issues'])"
   ]
  },
  {
   "cell_type": "code",
   "execution_count": 6,
   "metadata": {},
   "outputs": [
    {
     "name": "stderr",
     "output_type": "stream",
     "text": [
      "/var/folders/2n/8mc_gc0j7_b8xfff_rzhf5740000gn/T/ipykernel_899/1380464465.py:5: FutureWarning: A value is trying to be set on a copy of a DataFrame or Series through chained assignment using an inplace method.\n",
      "The behavior will change in pandas 3.0. This inplace method will never work because the intermediate object on which we are setting values always behaves as a copy.\n",
      "\n",
      "For example, when doing 'df[col].method(value, inplace=True)', try using 'df.method({col: value}, inplace=True)' or df[col] = df[col].method(value) instead, to perform the operation inplace on the original object.\n",
      "\n",
      "\n",
      "  df[col].fillna(df[col].mean(), inplace=True)\n",
      "/var/folders/2n/8mc_gc0j7_b8xfff_rzhf5740000gn/T/ipykernel_899/1380464465.py:3: FutureWarning: A value is trying to be set on a copy of a DataFrame or Series through chained assignment using an inplace method.\n",
      "The behavior will change in pandas 3.0. This inplace method will never work because the intermediate object on which we are setting values always behaves as a copy.\n",
      "\n",
      "For example, when doing 'df[col].method(value, inplace=True)', try using 'df.method({col: value}, inplace=True)' or df[col] = df[col].method(value) instead, to perform the operation inplace on the original object.\n",
      "\n",
      "\n",
      "  df[col].fillna(df[col].mode()[0],inplace=True)\n"
     ]
    }
   ],
   "source": [
    "for col in df.columns:\n",
    "    if df[col].dtype=='object':\n",
    "        df[col].fillna(df[col].mode()[0],inplace=True)\n",
    "    else:\n",
    "        df[col].fillna(df[col].mean(), inplace=True)"
   ]
  },
  {
   "cell_type": "code",
   "execution_count": 7,
   "metadata": {},
   "outputs": [
    {
     "name": "stdout",
     "output_type": "stream",
     "text": [
      "<class 'pandas.core.frame.DataFrame'>\n",
      "RangeIndex: 50000 entries, 0 to 49999\n",
      "Data columns (total 29 columns):\n",
      " #   Column                            Non-Null Count  Dtype  \n",
      "---  ------                            --------------  -----  \n",
      " 0   ID                                50000 non-null  int64  \n",
      " 1   Age                               50000 non-null  int64  \n",
      " 2   Gender                            50000 non-null  object \n",
      " 3   Marital_Status                    50000 non-null  object \n",
      " 4   Job_Role                          50000 non-null  object \n",
      " 5   Experience_Years                  50000 non-null  int64  \n",
      " 6   Monthly_Salary_INR                50000 non-null  float64\n",
      " 7   Working_Hours_per_Week            50000 non-null  int64  \n",
      " 8   Commute_Time_Hours                50000 non-null  float64\n",
      " 9   Remote_Work                       50000 non-null  bool   \n",
      " 10  Stress_Level                      50000 non-null  float64\n",
      " 11  Company_Size                      50000 non-null  object \n",
      " 12  Department                        50000 non-null  object \n",
      " 13  Sleep_Hours                       50000 non-null  float64\n",
      " 14  Physical_Activity_Hours_per_Week  50000 non-null  float64\n",
      " 15  Mental_Health_Leave_Taken         50000 non-null  object \n",
      " 16  Manager_Support_Level             50000 non-null  int64  \n",
      " 17  Work_Pressure_Level               50000 non-null  float64\n",
      " 18  Annual_Leaves_Taken               50000 non-null  float64\n",
      " 19  Work_Life_Balance                 50000 non-null  float64\n",
      " 20  Family_Support_Level              50000 non-null  int64  \n",
      " 21  Job_Satisfaction                  50000 non-null  int64  \n",
      " 22  Performance_Rating                50000 non-null  float64\n",
      " 23  Team_Size                         50000 non-null  int64  \n",
      " 24  Training_Opportunities            50000 non-null  bool   \n",
      " 25  Gender_Bias_Experienced           50000 non-null  bool   \n",
      " 26  Discrimination_Experienced        50000 non-null  bool   \n",
      " 27  Burnout_Symptoms                  50000 non-null  object \n",
      " 28  Location                          50000 non-null  object \n",
      "dtypes: bool(4), float64(9), int64(8), object(8)\n",
      "memory usage: 9.7+ MB\n"
     ]
    }
   ],
   "source": [
    "df.info()"
   ]
  },
  {
   "cell_type": "code",
   "execution_count": 8,
   "metadata": {},
   "outputs": [],
   "source": [
    "cardinality=df.nunique()"
   ]
  },
  {
   "cell_type": "code",
   "execution_count": 9,
   "metadata": {},
   "outputs": [
    {
     "data": {
      "text/plain": [
       "ID                                  50000\n",
       "Age                                    48\n",
       "Gender                                  3\n",
       "Marital_Status                          4\n",
       "Job_Role                                6\n",
       "Experience_Years                       41\n",
       "Monthly_Salary_INR                  49927\n",
       "Working_Hours_per_Week                 56\n",
       "Commute_Time_Hours                    302\n",
       "Remote_Work                             2\n",
       "Stress_Level                           12\n",
       "Company_Size                            3\n",
       "Department                              6\n",
       "Sleep_Hours                            51\n",
       "Physical_Activity_Hours_per_Week      101\n",
       "Mental_Health_Leave_Taken               6\n",
       "Manager_Support_Level                  11\n",
       "Work_Pressure_Level                    12\n",
       "Annual_Leaves_Taken                    32\n",
       "Work_Life_Balance                      12\n",
       "Family_Support_Level                   11\n",
       "Job_Satisfaction                       11\n",
       "Performance_Rating                     12\n",
       "Team_Size                             100\n",
       "Training_Opportunities                  2\n",
       "Gender_Bias_Experienced                 2\n",
       "Discrimination_Experienced              2\n",
       "Burnout_Symptoms                        4\n",
       "Location                                4\n",
       "dtype: int64"
      ]
     },
     "execution_count": 9,
     "metadata": {},
     "output_type": "execute_result"
    }
   ],
   "source": [
    "cardinality"
   ]
  },
  {
   "cell_type": "code",
   "execution_count": 10,
   "metadata": {},
   "outputs": [],
   "source": [
    "#Object tipidagi ustunlarni label encoding qilamiz. Qolgan ustunlarni one-hot encoding qilamiz\n",
    "\n",
    "for col in df.select_dtypes(include=['object']).columns:\n",
    "    cardinality=df[col].nunique()\n",
    "    if cardinality<=5:\n",
    "        le=LabelEncoder()\n",
    "        df[col]=le.fit_transform(df[col])\n",
    "    else:\n",
    "        df=pd.get_dummies(df, columns=[col], dtype=int, drop_first=True)"
   ]
  },
  {
   "cell_type": "code",
   "execution_count": 11,
   "metadata": {},
   "outputs": [
    {
     "name": "stdout",
     "output_type": "stream",
     "text": [
      "<class 'pandas.core.frame.DataFrame'>\n",
      "RangeIndex: 50000 entries, 0 to 49999\n",
      "Data columns (total 41 columns):\n",
      " #   Column                            Non-Null Count  Dtype  \n",
      "---  ------                            --------------  -----  \n",
      " 0   ID                                50000 non-null  int64  \n",
      " 1   Age                               50000 non-null  int64  \n",
      " 2   Gender                            50000 non-null  int64  \n",
      " 3   Marital_Status                    50000 non-null  int64  \n",
      " 4   Experience_Years                  50000 non-null  int64  \n",
      " 5   Monthly_Salary_INR                50000 non-null  float64\n",
      " 6   Working_Hours_per_Week            50000 non-null  int64  \n",
      " 7   Commute_Time_Hours                50000 non-null  float64\n",
      " 8   Remote_Work                       50000 non-null  bool   \n",
      " 9   Stress_Level                      50000 non-null  float64\n",
      " 10  Company_Size                      50000 non-null  int64  \n",
      " 11  Sleep_Hours                       50000 non-null  float64\n",
      " 12  Physical_Activity_Hours_per_Week  50000 non-null  float64\n",
      " 13  Manager_Support_Level             50000 non-null  int64  \n",
      " 14  Work_Pressure_Level               50000 non-null  float64\n",
      " 15  Annual_Leaves_Taken               50000 non-null  float64\n",
      " 16  Work_Life_Balance                 50000 non-null  float64\n",
      " 17  Family_Support_Level              50000 non-null  int64  \n",
      " 18  Job_Satisfaction                  50000 non-null  int64  \n",
      " 19  Performance_Rating                50000 non-null  float64\n",
      " 20  Team_Size                         50000 non-null  int64  \n",
      " 21  Training_Opportunities            50000 non-null  bool   \n",
      " 22  Gender_Bias_Experienced           50000 non-null  bool   \n",
      " 23  Discrimination_Experienced        50000 non-null  bool   \n",
      " 24  Burnout_Symptoms                  50000 non-null  int64  \n",
      " 25  Location                          50000 non-null  int64  \n",
      " 26  Job_Role_Developer                50000 non-null  int64  \n",
      " 27  Job_Role_HR                       50000 non-null  int64  \n",
      " 28  Job_Role_Manager                  50000 non-null  int64  \n",
      " 29  Job_Role_Sales                    50000 non-null  int64  \n",
      " 30  Job_Role_Support                  50000 non-null  int64  \n",
      " 31  Department_Finance                50000 non-null  int64  \n",
      " 32  Department_HR                     50000 non-null  int64  \n",
      " 33  Department_IT                     50000 non-null  int64  \n",
      " 34  Department_Marketing              50000 non-null  int64  \n",
      " 35  Department_Sales                  50000 non-null  int64  \n",
      " 36  Mental_Health_Leave_Taken_True    50000 non-null  int64  \n",
      " 37  Mental_Health_Leave_Taken_0       50000 non-null  int64  \n",
      " 38  Mental_Health_Leave_Taken_1       50000 non-null  int64  \n",
      " 39  Mental_Health_Leave_Taken_FALSE   50000 non-null  int64  \n",
      " 40  Mental_Health_Leave_Taken_TRUE    50000 non-null  int64  \n",
      "dtypes: bool(4), float64(9), int64(28)\n",
      "memory usage: 14.3 MB\n"
     ]
    }
   ],
   "source": [
    "df.info()"
   ]
  },
  {
   "cell_type": "code",
   "execution_count": 12,
   "metadata": {},
   "outputs": [],
   "source": [
    "#Encoding qilingan ustunlardan tashqari bo'lgan 'bool' tipidagi ustunlarni 'int' ga o'tkazamiz\n",
    "\n",
    "df = df.astype({col: 'int' for col in df.select_dtypes(include=['bool']).columns})"
   ]
  },
  {
   "cell_type": "code",
   "execution_count": 13,
   "metadata": {},
   "outputs": [
    {
     "name": "stdout",
     "output_type": "stream",
     "text": [
      "<class 'pandas.core.frame.DataFrame'>\n",
      "RangeIndex: 50000 entries, 0 to 49999\n",
      "Data columns (total 41 columns):\n",
      " #   Column                            Non-Null Count  Dtype  \n",
      "---  ------                            --------------  -----  \n",
      " 0   ID                                50000 non-null  int64  \n",
      " 1   Age                               50000 non-null  int64  \n",
      " 2   Gender                            50000 non-null  int64  \n",
      " 3   Marital_Status                    50000 non-null  int64  \n",
      " 4   Experience_Years                  50000 non-null  int64  \n",
      " 5   Monthly_Salary_INR                50000 non-null  float64\n",
      " 6   Working_Hours_per_Week            50000 non-null  int64  \n",
      " 7   Commute_Time_Hours                50000 non-null  float64\n",
      " 8   Remote_Work                       50000 non-null  int64  \n",
      " 9   Stress_Level                      50000 non-null  float64\n",
      " 10  Company_Size                      50000 non-null  int64  \n",
      " 11  Sleep_Hours                       50000 non-null  float64\n",
      " 12  Physical_Activity_Hours_per_Week  50000 non-null  float64\n",
      " 13  Manager_Support_Level             50000 non-null  int64  \n",
      " 14  Work_Pressure_Level               50000 non-null  float64\n",
      " 15  Annual_Leaves_Taken               50000 non-null  float64\n",
      " 16  Work_Life_Balance                 50000 non-null  float64\n",
      " 17  Family_Support_Level              50000 non-null  int64  \n",
      " 18  Job_Satisfaction                  50000 non-null  int64  \n",
      " 19  Performance_Rating                50000 non-null  float64\n",
      " 20  Team_Size                         50000 non-null  int64  \n",
      " 21  Training_Opportunities            50000 non-null  int64  \n",
      " 22  Gender_Bias_Experienced           50000 non-null  int64  \n",
      " 23  Discrimination_Experienced        50000 non-null  int64  \n",
      " 24  Burnout_Symptoms                  50000 non-null  int64  \n",
      " 25  Location                          50000 non-null  int64  \n",
      " 26  Job_Role_Developer                50000 non-null  int64  \n",
      " 27  Job_Role_HR                       50000 non-null  int64  \n",
      " 28  Job_Role_Manager                  50000 non-null  int64  \n",
      " 29  Job_Role_Sales                    50000 non-null  int64  \n",
      " 30  Job_Role_Support                  50000 non-null  int64  \n",
      " 31  Department_Finance                50000 non-null  int64  \n",
      " 32  Department_HR                     50000 non-null  int64  \n",
      " 33  Department_IT                     50000 non-null  int64  \n",
      " 34  Department_Marketing              50000 non-null  int64  \n",
      " 35  Department_Sales                  50000 non-null  int64  \n",
      " 36  Mental_Health_Leave_Taken_True    50000 non-null  int64  \n",
      " 37  Mental_Health_Leave_Taken_0       50000 non-null  int64  \n",
      " 38  Mental_Health_Leave_Taken_1       50000 non-null  int64  \n",
      " 39  Mental_Health_Leave_Taken_FALSE   50000 non-null  int64  \n",
      " 40  Mental_Health_Leave_Taken_TRUE    50000 non-null  int64  \n",
      "dtypes: float64(9), int64(32)\n",
      "memory usage: 15.6 MB\n"
     ]
    }
   ],
   "source": [
    "df.info()"
   ]
  },
  {
   "cell_type": "code",
   "execution_count": 14,
   "metadata": {},
   "outputs": [],
   "source": [
    "num_col=df.select_dtypes(include=['int32','float64']).columns"
   ]
  },
  {
   "cell_type": "code",
   "execution_count": 15,
   "metadata": {},
   "outputs": [],
   "source": [
    "scaler=StandardScaler()\n",
    "df[num_col]=scaler.fit_transform(df[num_col])"
   ]
  },
  {
   "cell_type": "code",
   "execution_count": 16,
   "metadata": {},
   "outputs": [
    {
     "data": {
      "text/html": [
       "<div>\n",
       "<style scoped>\n",
       "    .dataframe tbody tr th:only-of-type {\n",
       "        vertical-align: middle;\n",
       "    }\n",
       "\n",
       "    .dataframe tbody tr th {\n",
       "        vertical-align: top;\n",
       "    }\n",
       "\n",
       "    .dataframe thead th {\n",
       "        text-align: right;\n",
       "    }\n",
       "</style>\n",
       "<table border=\"1\" class=\"dataframe\">\n",
       "  <thead>\n",
       "    <tr style=\"text-align: right;\">\n",
       "      <th></th>\n",
       "      <th>ID</th>\n",
       "      <th>Age</th>\n",
       "      <th>Gender</th>\n",
       "      <th>Marital_Status</th>\n",
       "      <th>Experience_Years</th>\n",
       "      <th>Monthly_Salary_INR</th>\n",
       "      <th>Working_Hours_per_Week</th>\n",
       "      <th>Commute_Time_Hours</th>\n",
       "      <th>Remote_Work</th>\n",
       "      <th>Stress_Level</th>\n",
       "      <th>...</th>\n",
       "      <th>Department_Finance</th>\n",
       "      <th>Department_HR</th>\n",
       "      <th>Department_IT</th>\n",
       "      <th>Department_Marketing</th>\n",
       "      <th>Department_Sales</th>\n",
       "      <th>Mental_Health_Leave_Taken_True</th>\n",
       "      <th>Mental_Health_Leave_Taken_0</th>\n",
       "      <th>Mental_Health_Leave_Taken_1</th>\n",
       "      <th>Mental_Health_Leave_Taken_FALSE</th>\n",
       "      <th>Mental_Health_Leave_Taken_TRUE</th>\n",
       "    </tr>\n",
       "  </thead>\n",
       "  <tbody>\n",
       "    <tr>\n",
       "      <th>0</th>\n",
       "      <td>1</td>\n",
       "      <td>56</td>\n",
       "      <td>2</td>\n",
       "      <td>3</td>\n",
       "      <td>5</td>\n",
       "      <td>-0.142634</td>\n",
       "      <td>44</td>\n",
       "      <td>0.253029</td>\n",
       "      <td>1</td>\n",
       "      <td>-1.586409</td>\n",
       "      <td>...</td>\n",
       "      <td>0</td>\n",
       "      <td>0</td>\n",
       "      <td>0</td>\n",
       "      <td>1</td>\n",
       "      <td>0</td>\n",
       "      <td>0</td>\n",
       "      <td>0</td>\n",
       "      <td>0</td>\n",
       "      <td>1</td>\n",
       "      <td>0</td>\n",
       "    </tr>\n",
       "    <tr>\n",
       "      <th>1</th>\n",
       "      <td>2</td>\n",
       "      <td>46</td>\n",
       "      <td>0</td>\n",
       "      <td>2</td>\n",
       "      <td>20</td>\n",
       "      <td>1.065006</td>\n",
       "      <td>54</td>\n",
       "      <td>-1.014654</td>\n",
       "      <td>1</td>\n",
       "      <td>0.632495</td>\n",
       "      <td>...</td>\n",
       "      <td>0</td>\n",
       "      <td>0</td>\n",
       "      <td>1</td>\n",
       "      <td>0</td>\n",
       "      <td>0</td>\n",
       "      <td>0</td>\n",
       "      <td>0</td>\n",
       "      <td>0</td>\n",
       "      <td>0</td>\n",
       "      <td>1</td>\n",
       "    </tr>\n",
       "    <tr>\n",
       "      <th>2</th>\n",
       "      <td>3</td>\n",
       "      <td>32</td>\n",
       "      <td>0</td>\n",
       "      <td>2</td>\n",
       "      <td>10</td>\n",
       "      <td>-1.385168</td>\n",
       "      <td>81</td>\n",
       "      <td>-0.323191</td>\n",
       "      <td>0</td>\n",
       "      <td>0.632495</td>\n",
       "      <td>...</td>\n",
       "      <td>0</td>\n",
       "      <td>1</td>\n",
       "      <td>0</td>\n",
       "      <td>0</td>\n",
       "      <td>0</td>\n",
       "      <td>0</td>\n",
       "      <td>0</td>\n",
       "      <td>0</td>\n",
       "      <td>1</td>\n",
       "      <td>0</td>\n",
       "    </tr>\n",
       "    <tr>\n",
       "      <th>3</th>\n",
       "      <td>4</td>\n",
       "      <td>60</td>\n",
       "      <td>0</td>\n",
       "      <td>0</td>\n",
       "      <td>26</td>\n",
       "      <td>-1.133158</td>\n",
       "      <td>79</td>\n",
       "      <td>0.610285</td>\n",
       "      <td>0</td>\n",
       "      <td>0.315509</td>\n",
       "      <td>...</td>\n",
       "      <td>0</td>\n",
       "      <td>0</td>\n",
       "      <td>1</td>\n",
       "      <td>0</td>\n",
       "      <td>0</td>\n",
       "      <td>0</td>\n",
       "      <td>0</td>\n",
       "      <td>0</td>\n",
       "      <td>0</td>\n",
       "      <td>1</td>\n",
       "    </tr>\n",
       "    <tr>\n",
       "      <th>4</th>\n",
       "      <td>5</td>\n",
       "      <td>25</td>\n",
       "      <td>1</td>\n",
       "      <td>1</td>\n",
       "      <td>29</td>\n",
       "      <td>1.238113</td>\n",
       "      <td>63</td>\n",
       "      <td>-0.058130</td>\n",
       "      <td>1</td>\n",
       "      <td>0.949482</td>\n",
       "      <td>...</td>\n",
       "      <td>0</td>\n",
       "      <td>0</td>\n",
       "      <td>0</td>\n",
       "      <td>0</td>\n",
       "      <td>1</td>\n",
       "      <td>0</td>\n",
       "      <td>0</td>\n",
       "      <td>0</td>\n",
       "      <td>0</td>\n",
       "      <td>1</td>\n",
       "    </tr>\n",
       "  </tbody>\n",
       "</table>\n",
       "<p>5 rows × 41 columns</p>\n",
       "</div>"
      ],
      "text/plain": [
       "   ID  Age  Gender  Marital_Status  Experience_Years  Monthly_Salary_INR  \\\n",
       "0   1   56       2               3                 5           -0.142634   \n",
       "1   2   46       0               2                20            1.065006   \n",
       "2   3   32       0               2                10           -1.385168   \n",
       "3   4   60       0               0                26           -1.133158   \n",
       "4   5   25       1               1                29            1.238113   \n",
       "\n",
       "   Working_Hours_per_Week  Commute_Time_Hours  Remote_Work  Stress_Level  ...  \\\n",
       "0                      44            0.253029            1     -1.586409  ...   \n",
       "1                      54           -1.014654            1      0.632495  ...   \n",
       "2                      81           -0.323191            0      0.632495  ...   \n",
       "3                      79            0.610285            0      0.315509  ...   \n",
       "4                      63           -0.058130            1      0.949482  ...   \n",
       "\n",
       "   Department_Finance  Department_HR  Department_IT  Department_Marketing  \\\n",
       "0                   0              0              0                     1   \n",
       "1                   0              0              1                     0   \n",
       "2                   0              1              0                     0   \n",
       "3                   0              0              1                     0   \n",
       "4                   0              0              0                     0   \n",
       "\n",
       "   Department_Sales  Mental_Health_Leave_Taken_True  \\\n",
       "0                 0                               0   \n",
       "1                 0                               0   \n",
       "2                 0                               0   \n",
       "3                 0                               0   \n",
       "4                 1                               0   \n",
       "\n",
       "   Mental_Health_Leave_Taken_0  Mental_Health_Leave_Taken_1  \\\n",
       "0                            0                            0   \n",
       "1                            0                            0   \n",
       "2                            0                            0   \n",
       "3                            0                            0   \n",
       "4                            0                            0   \n",
       "\n",
       "   Mental_Health_Leave_Taken_FALSE  Mental_Health_Leave_Taken_TRUE  \n",
       "0                                1                               0  \n",
       "1                                0                               1  \n",
       "2                                1                               0  \n",
       "3                                0                               1  \n",
       "4                                0                               1  \n",
       "\n",
       "[5 rows x 41 columns]"
      ]
     },
     "execution_count": 16,
     "metadata": {},
     "output_type": "execute_result"
    }
   ],
   "source": [
    "df.head()"
   ]
  },
  {
   "cell_type": "code",
   "execution_count": 17,
   "metadata": {},
   "outputs": [
    {
     "name": "stdout",
     "output_type": "stream",
     "text": [
      "<class 'pandas.core.frame.DataFrame'>\n",
      "RangeIndex: 50000 entries, 0 to 49999\n",
      "Data columns (total 41 columns):\n",
      " #   Column                            Non-Null Count  Dtype  \n",
      "---  ------                            --------------  -----  \n",
      " 0   ID                                50000 non-null  int64  \n",
      " 1   Age                               50000 non-null  int64  \n",
      " 2   Gender                            50000 non-null  int64  \n",
      " 3   Marital_Status                    50000 non-null  int64  \n",
      " 4   Experience_Years                  50000 non-null  int64  \n",
      " 5   Monthly_Salary_INR                50000 non-null  float64\n",
      " 6   Working_Hours_per_Week            50000 non-null  int64  \n",
      " 7   Commute_Time_Hours                50000 non-null  float64\n",
      " 8   Remote_Work                       50000 non-null  int64  \n",
      " 9   Stress_Level                      50000 non-null  float64\n",
      " 10  Company_Size                      50000 non-null  int64  \n",
      " 11  Sleep_Hours                       50000 non-null  float64\n",
      " 12  Physical_Activity_Hours_per_Week  50000 non-null  float64\n",
      " 13  Manager_Support_Level             50000 non-null  int64  \n",
      " 14  Work_Pressure_Level               50000 non-null  float64\n",
      " 15  Annual_Leaves_Taken               50000 non-null  float64\n",
      " 16  Work_Life_Balance                 50000 non-null  float64\n",
      " 17  Family_Support_Level              50000 non-null  int64  \n",
      " 18  Job_Satisfaction                  50000 non-null  int64  \n",
      " 19  Performance_Rating                50000 non-null  float64\n",
      " 20  Team_Size                         50000 non-null  int64  \n",
      " 21  Training_Opportunities            50000 non-null  int64  \n",
      " 22  Gender_Bias_Experienced           50000 non-null  int64  \n",
      " 23  Discrimination_Experienced        50000 non-null  int64  \n",
      " 24  Burnout_Symptoms                  50000 non-null  int64  \n",
      " 25  Location                          50000 non-null  int64  \n",
      " 26  Job_Role_Developer                50000 non-null  int64  \n",
      " 27  Job_Role_HR                       50000 non-null  int64  \n",
      " 28  Job_Role_Manager                  50000 non-null  int64  \n",
      " 29  Job_Role_Sales                    50000 non-null  int64  \n",
      " 30  Job_Role_Support                  50000 non-null  int64  \n",
      " 31  Department_Finance                50000 non-null  int64  \n",
      " 32  Department_HR                     50000 non-null  int64  \n",
      " 33  Department_IT                     50000 non-null  int64  \n",
      " 34  Department_Marketing              50000 non-null  int64  \n",
      " 35  Department_Sales                  50000 non-null  int64  \n",
      " 36  Mental_Health_Leave_Taken_True    50000 non-null  int64  \n",
      " 37  Mental_Health_Leave_Taken_0       50000 non-null  int64  \n",
      " 38  Mental_Health_Leave_Taken_1       50000 non-null  int64  \n",
      " 39  Mental_Health_Leave_Taken_FALSE   50000 non-null  int64  \n",
      " 40  Mental_Health_Leave_Taken_TRUE    50000 non-null  int64  \n",
      "dtypes: float64(9), int64(32)\n",
      "memory usage: 15.6 MB\n"
     ]
    }
   ],
   "source": [
    "df.info()"
   ]
  },
  {
   "cell_type": "code",
   "execution_count": 18,
   "metadata": {},
   "outputs": [],
   "source": [
    "x=df.drop(columns=['Stress_Level'])   # inputlarni tanlash"
   ]
  },
  {
   "cell_type": "code",
   "execution_count": 19,
   "metadata": {},
   "outputs": [],
   "source": [
    "y=df['Stress_Level']"
   ]
  },
  {
   "cell_type": "code",
   "execution_count": 20,
   "metadata": {},
   "outputs": [],
   "source": [
    "x_train,x_temp,y_train,y_temp=train_test_split(x,y,test_size=0.2,random_state=42)    # Datani qismlarga ajratish\n",
    "x_test,x_val,y_test,y_val=train_test_split(x_temp,y_temp,test_size=0.5,random_state=42)"
   ]
  },
  {
   "cell_type": "code",
   "execution_count": 21,
   "metadata": {},
   "outputs": [],
   "source": [
    "model=LinearRegression()\n",
    "linear_model=model.fit(x_train,y_train)\n",
    "y_pred=linear_model.predict(x_test)\n",
    "mse=mean_squared_error(y_test,y_pred)\n",
    "r2=r2_score(y_test,y_pred)"
   ]
  },
  {
   "cell_type": "code",
   "execution_count": 22,
   "metadata": {},
   "outputs": [
    {
     "data": {
      "text/plain": [
       "1.0043242766722882"
      ]
     },
     "execution_count": 22,
     "metadata": {},
     "output_type": "execute_result"
    }
   ],
   "source": [
    "mse"
   ]
  },
  {
   "cell_type": "code",
   "execution_count": 23,
   "metadata": {},
   "outputs": [
    {
     "data": {
      "text/plain": [
       "-4.992456778940557e-05"
      ]
     },
     "execution_count": 23,
     "metadata": {},
     "output_type": "execute_result"
    }
   ],
   "source": [
    "r2"
   ]
  },
  {
   "cell_type": "code",
   "execution_count": 24,
   "metadata": {},
   "outputs": [
    {
     "name": "stdout",
     "output_type": "stream",
     "text": [
      "Cross-Validation Scores: [1.00259591 1.00545399 1.00870831 1.01005806 1.00688452 0.99416263\n",
      " 0.99126132 1.00272082 0.99110305 0.99168393]\n",
      "Mean CV Score: 1.0004632525648256\n"
     ]
    }
   ],
   "source": [
    "kf = KFold(n_splits=10, shuffle=True, random_state=42)  # 5-Fold CV\n",
    "\n",
    "# Perform Cross-Validation\n",
    "cv_scores = cross_val_score(linear_model, x, y, cv=kf, scoring='neg_mean_squared_error')\n",
    "cv_scores = np.sqrt(-cv_scores)\n",
    "\n",
    "print(\"Cross-Validation Scores:\", cv_scores)\n",
    "print(\"Mean CV Score:\", np.mean(cv_scores))"
   ]
  },
  {
   "cell_type": "code",
   "execution_count": 25,
   "metadata": {},
   "outputs": [
    {
     "name": "stdout",
     "output_type": "stream",
     "text": [
      "-0.003861024107462585\n"
     ]
    }
   ],
   "source": [
    "print(np.mean(cv_scores)-mse)"
   ]
  }
 ],
 "metadata": {
  "kernelspec": {
   "display_name": "Python 3",
   "language": "python",
   "name": "python3"
  },
  "language_info": {
   "codemirror_mode": {
    "name": "ipython",
    "version": 3
   },
   "file_extension": ".py",
   "mimetype": "text/x-python",
   "name": "python",
   "nbconvert_exporter": "python",
   "pygments_lexer": "ipython3",
   "version": "3.9.6"
  }
 },
 "nbformat": 4,
 "nbformat_minor": 2
}
