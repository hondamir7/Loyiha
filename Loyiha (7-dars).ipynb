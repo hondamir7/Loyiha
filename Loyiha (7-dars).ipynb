{
 "cells": [
  {
   "cell_type": "markdown",
   "metadata": {},
   "source": [
    "Encoding"
   ]
  },
  {
   "cell_type": "code",
   "execution_count": 1,
   "metadata": {},
   "outputs": [],
   "source": [
    "import pandas as pd\n",
    "import numpy as np\n",
    "import matplotlib.pyplot as plt\n",
    "import seaborn as sns"
   ]
  },
  {
   "cell_type": "code",
   "execution_count": 2,
   "metadata": {},
   "outputs": [
    {
     "name": "stderr",
     "output_type": "stream",
     "text": [
      "/var/folders/2n/8mc_gc0j7_b8xfff_rzhf5740000gn/T/ipykernel_13904/2349234669.py:1: DtypeWarning: Columns (16) have mixed types. Specify dtype option on import or set low_memory=False.\n",
      "  df=pd.read_csv('Corporate Stress.csv')\n"
     ]
    }
   ],
   "source": [
    "df=pd.read_csv('Corporate Stress.csv')"
   ]
  },
  {
   "cell_type": "code",
   "execution_count": 3,
   "metadata": {},
   "outputs": [
    {
     "name": "stdout",
     "output_type": "stream",
     "text": [
      "<class 'pandas.core.frame.DataFrame'>\n",
      "RangeIndex: 50000 entries, 0 to 49999\n",
      "Data columns (total 30 columns):\n",
      " #   Column                            Non-Null Count  Dtype  \n",
      "---  ------                            --------------  -----  \n",
      " 0   ID                                50000 non-null  int64  \n",
      " 1   Age                               50000 non-null  int64  \n",
      " 2   Gender                            50000 non-null  object \n",
      " 3   Marital_Status                    50000 non-null  object \n",
      " 4   Job_Role                          49999 non-null  object \n",
      " 5   Experience_Years                  50000 non-null  int64  \n",
      " 6   Monthly_Salary_INR                50000 non-null  float64\n",
      " 7   Working_Hours_per_Week            50000 non-null  int64  \n",
      " 8   Commute_Time_Hours                49999 non-null  float64\n",
      " 9   Remote_Work                       50000 non-null  bool   \n",
      " 10  Stress_Level                      49999 non-null  float64\n",
      " 11  Health_Issues                     37459 non-null  object \n",
      " 12  Company_Size                      50000 non-null  object \n",
      " 13  Department                        50000 non-null  object \n",
      " 14  Sleep_Hours                       50000 non-null  float64\n",
      " 15  Physical_Activity_Hours_per_Week  50000 non-null  float64\n",
      " 16  Mental_Health_Leave_Taken         49999 non-null  object \n",
      " 17  Manager_Support_Level             50000 non-null  int64  \n",
      " 18  Work_Pressure_Level               49999 non-null  float64\n",
      " 19  Annual_Leaves_Taken               49999 non-null  float64\n",
      " 20  Work_Life_Balance                 49998 non-null  float64\n",
      " 21  Family_Support_Level              50000 non-null  int64  \n",
      " 22  Job_Satisfaction                  50000 non-null  int64  \n",
      " 23  Performance_Rating                49999 non-null  float64\n",
      " 24  Team_Size                         50000 non-null  int64  \n",
      " 25  Training_Opportunities            50000 non-null  bool   \n",
      " 26  Gender_Bias_Experienced           50000 non-null  bool   \n",
      " 27  Discrimination_Experienced        50000 non-null  bool   \n",
      " 28  Burnout_Symptoms                  50000 non-null  object \n",
      " 29  Location                          50000 non-null  object \n",
      "dtypes: bool(4), float64(9), int64(8), object(9)\n",
      "memory usage: 10.1+ MB\n"
     ]
    }
   ],
   "source": [
    "df.info()"
   ]
  },
  {
   "cell_type": "markdown",
   "metadata": {},
   "source": [
    "MISSING VALUES"
   ]
  },
  {
   "cell_type": "code",
   "execution_count": 4,
   "metadata": {},
   "outputs": [
    {
     "data": {
      "text/plain": [
       "ID                                      0\n",
       "Age                                     0\n",
       "Gender                                  0\n",
       "Marital_Status                          0\n",
       "Job_Role                                1\n",
       "Experience_Years                        0\n",
       "Monthly_Salary_INR                      0\n",
       "Working_Hours_per_Week                  0\n",
       "Commute_Time_Hours                      1\n",
       "Remote_Work                             0\n",
       "Stress_Level                            1\n",
       "Health_Issues                       12541\n",
       "Company_Size                            0\n",
       "Department                              0\n",
       "Sleep_Hours                             0\n",
       "Physical_Activity_Hours_per_Week        0\n",
       "Mental_Health_Leave_Taken               1\n",
       "Manager_Support_Level                   0\n",
       "Work_Pressure_Level                     1\n",
       "Annual_Leaves_Taken                     1\n",
       "Work_Life_Balance                       2\n",
       "Family_Support_Level                    0\n",
       "Job_Satisfaction                        0\n",
       "Performance_Rating                      1\n",
       "Team_Size                               0\n",
       "Training_Opportunities                  0\n",
       "Gender_Bias_Experienced                 0\n",
       "Discrimination_Experienced              0\n",
       "Burnout_Symptoms                        0\n",
       "Location                                0\n",
       "dtype: int64"
      ]
     },
     "execution_count": 4,
     "metadata": {},
     "output_type": "execute_result"
    }
   ],
   "source": [
    "df.isnull().sum()"
   ]
  },
  {
   "cell_type": "code",
   "execution_count": 5,
   "metadata": {},
   "outputs": [
    {
     "name": "stdout",
     "output_type": "stream",
     "text": [
      "<class 'pandas.core.frame.DataFrame'>\n",
      "RangeIndex: 50000 entries, 0 to 49999\n",
      "Data columns (total 29 columns):\n",
      " #   Column                            Non-Null Count  Dtype  \n",
      "---  ------                            --------------  -----  \n",
      " 0   ID                                50000 non-null  int64  \n",
      " 1   Age                               50000 non-null  int64  \n",
      " 2   Gender                            50000 non-null  object \n",
      " 3   Marital_Status                    50000 non-null  object \n",
      " 4   Job_Role                          49999 non-null  object \n",
      " 5   Experience_Years                  50000 non-null  int64  \n",
      " 6   Monthly_Salary_INR                50000 non-null  float64\n",
      " 7   Working_Hours_per_Week            50000 non-null  int64  \n",
      " 8   Commute_Time_Hours                49999 non-null  float64\n",
      " 9   Remote_Work                       50000 non-null  bool   \n",
      " 10  Stress_Level                      49999 non-null  float64\n",
      " 11  Company_Size                      50000 non-null  object \n",
      " 12  Department                        50000 non-null  object \n",
      " 13  Sleep_Hours                       50000 non-null  float64\n",
      " 14  Physical_Activity_Hours_per_Week  50000 non-null  float64\n",
      " 15  Mental_Health_Leave_Taken         49999 non-null  object \n",
      " 16  Manager_Support_Level             50000 non-null  int64  \n",
      " 17  Work_Pressure_Level               49999 non-null  float64\n",
      " 18  Annual_Leaves_Taken               49999 non-null  float64\n",
      " 19  Work_Life_Balance                 49998 non-null  float64\n",
      " 20  Family_Support_Level              50000 non-null  int64  \n",
      " 21  Job_Satisfaction                  50000 non-null  int64  \n",
      " 22  Performance_Rating                49999 non-null  float64\n",
      " 23  Team_Size                         50000 non-null  int64  \n",
      " 24  Training_Opportunities            50000 non-null  bool   \n",
      " 25  Gender_Bias_Experienced           50000 non-null  bool   \n",
      " 26  Discrimination_Experienced        50000 non-null  bool   \n",
      " 27  Burnout_Symptoms                  50000 non-null  object \n",
      " 28  Location                          50000 non-null  object \n",
      "dtypes: bool(4), float64(9), int64(8), object(8)\n",
      "memory usage: 9.7+ MB\n"
     ]
    }
   ],
   "source": [
    "df = df.drop(columns=['Health_Issues'])\n",
    "df.info()"
   ]
  },
  {
   "cell_type": "code",
   "execution_count": 6,
   "metadata": {},
   "outputs": [
    {
     "name": "stderr",
     "output_type": "stream",
     "text": [
      "/var/folders/2n/8mc_gc0j7_b8xfff_rzhf5740000gn/T/ipykernel_13904/3569134084.py:4: FutureWarning: A value is trying to be set on a copy of a DataFrame or Series through chained assignment using an inplace method.\n",
      "The behavior will change in pandas 3.0. This inplace method will never work because the intermediate object on which we are setting values always behaves as a copy.\n",
      "\n",
      "For example, when doing 'df[col].method(value, inplace=True)', try using 'df.method({col: value}, inplace=True)' or df[col] = df[col].method(value) instead, to perform the operation inplace on the original object.\n",
      "\n",
      "\n",
      "  df[col].fillna(df[col].mode()[0], inplace=True)\n",
      "/var/folders/2n/8mc_gc0j7_b8xfff_rzhf5740000gn/T/ipykernel_13904/3569134084.py:6: FutureWarning: A value is trying to be set on a copy of a DataFrame or Series through chained assignment using an inplace method.\n",
      "The behavior will change in pandas 3.0. This inplace method will never work because the intermediate object on which we are setting values always behaves as a copy.\n",
      "\n",
      "For example, when doing 'df[col].method(value, inplace=True)', try using 'df.method({col: value}, inplace=True)' or df[col] = df[col].method(value) instead, to perform the operation inplace on the original object.\n",
      "\n",
      "\n",
      "  df[col].fillna(df[col].mean(), inplace=True)\n"
     ]
    }
   ],
   "source": [
    "missing_col=df.isnull().sum()>0\n",
    "for col in df.columns[missing_col]:\n",
    "    if df[col].dtype=='object':\n",
    "        df[col].fillna(df[col].mode()[0], inplace=True)\n",
    "    else:\n",
    "        df[col].fillna(df[col].mean(), inplace=True)"
   ]
  },
  {
   "cell_type": "code",
   "execution_count": 7,
   "metadata": {},
   "outputs": [
    {
     "name": "stdout",
     "output_type": "stream",
     "text": [
      "<class 'pandas.core.frame.DataFrame'>\n",
      "RangeIndex: 50000 entries, 0 to 49999\n",
      "Data columns (total 29 columns):\n",
      " #   Column                            Non-Null Count  Dtype  \n",
      "---  ------                            --------------  -----  \n",
      " 0   ID                                50000 non-null  int64  \n",
      " 1   Age                               50000 non-null  int64  \n",
      " 2   Gender                            50000 non-null  object \n",
      " 3   Marital_Status                    50000 non-null  object \n",
      " 4   Job_Role                          50000 non-null  object \n",
      " 5   Experience_Years                  50000 non-null  int64  \n",
      " 6   Monthly_Salary_INR                50000 non-null  float64\n",
      " 7   Working_Hours_per_Week            50000 non-null  int64  \n",
      " 8   Commute_Time_Hours                50000 non-null  float64\n",
      " 9   Remote_Work                       50000 non-null  bool   \n",
      " 10  Stress_Level                      50000 non-null  float64\n",
      " 11  Company_Size                      50000 non-null  object \n",
      " 12  Department                        50000 non-null  object \n",
      " 13  Sleep_Hours                       50000 non-null  float64\n",
      " 14  Physical_Activity_Hours_per_Week  50000 non-null  float64\n",
      " 15  Mental_Health_Leave_Taken         50000 non-null  object \n",
      " 16  Manager_Support_Level             50000 non-null  int64  \n",
      " 17  Work_Pressure_Level               50000 non-null  float64\n",
      " 18  Annual_Leaves_Taken               50000 non-null  float64\n",
      " 19  Work_Life_Balance                 50000 non-null  float64\n",
      " 20  Family_Support_Level              50000 non-null  int64  \n",
      " 21  Job_Satisfaction                  50000 non-null  int64  \n",
      " 22  Performance_Rating                50000 non-null  float64\n",
      " 23  Team_Size                         50000 non-null  int64  \n",
      " 24  Training_Opportunities            50000 non-null  bool   \n",
      " 25  Gender_Bias_Experienced           50000 non-null  bool   \n",
      " 26  Discrimination_Experienced        50000 non-null  bool   \n",
      " 27  Burnout_Symptoms                  50000 non-null  object \n",
      " 28  Location                          50000 non-null  object \n",
      "dtypes: bool(4), float64(9), int64(8), object(8)\n",
      "memory usage: 9.7+ MB\n"
     ]
    }
   ],
   "source": [
    "df.info()"
   ]
  },
  {
   "cell_type": "markdown",
   "metadata": {},
   "source": [
    "ENCODING"
   ]
  },
  {
   "cell_type": "code",
   "execution_count": 8,
   "metadata": {},
   "outputs": [],
   "source": [
    "categorical_col=df.select_dtypes(include=['object', 'category']).columns.to_list()"
   ]
  },
  {
   "cell_type": "code",
   "execution_count": 9,
   "metadata": {},
   "outputs": [
    {
     "data": {
      "text/plain": [
       "Gender                       3\n",
       "Marital_Status               4\n",
       "Job_Role                     6\n",
       "Company_Size                 3\n",
       "Department                   6\n",
       "Mental_Health_Leave_Taken    6\n",
       "Burnout_Symptoms             4\n",
       "Location                     4\n",
       "dtype: int64"
      ]
     },
     "execution_count": 9,
     "metadata": {},
     "output_type": "execute_result"
    }
   ],
   "source": [
    "cardinality=df[categorical_col].nunique()\n",
    "cardinality"
   ]
  },
  {
   "cell_type": "code",
   "execution_count": 10,
   "metadata": {},
   "outputs": [],
   "source": [
    "high_cardinality_columns=[col for col, card in cardinality.items() if card > 10]\n",
    "low_cardinality_columns=[col for col, card in cardinality.items() if card <= 10]"
   ]
  },
  {
   "cell_type": "code",
   "execution_count": 11,
   "metadata": {},
   "outputs": [
    {
     "data": {
      "text/plain": [
       "[]"
      ]
     },
     "execution_count": 11,
     "metadata": {},
     "output_type": "execute_result"
    }
   ],
   "source": [
    "high_cardinality_columns"
   ]
  },
  {
   "cell_type": "code",
   "execution_count": 12,
   "metadata": {},
   "outputs": [
    {
     "data": {
      "text/plain": [
       "['Gender',\n",
       " 'Marital_Status',\n",
       " 'Job_Role',\n",
       " 'Company_Size',\n",
       " 'Department',\n",
       " 'Mental_Health_Leave_Taken',\n",
       " 'Burnout_Symptoms',\n",
       " 'Location']"
      ]
     },
     "execution_count": 12,
     "metadata": {},
     "output_type": "execute_result"
    }
   ],
   "source": [
    "low_cardinality_columns"
   ]
  },
  {
   "cell_type": "code",
   "execution_count": 13,
   "metadata": {},
   "outputs": [
    {
     "name": "stdout",
     "output_type": "stream",
     "text": [
      "<class 'pandas.core.frame.DataFrame'>\n",
      "RangeIndex: 50000 entries, 0 to 49999\n",
      "Data columns (total 29 columns):\n",
      " #   Column                            Non-Null Count  Dtype  \n",
      "---  ------                            --------------  -----  \n",
      " 0   ID                                50000 non-null  int64  \n",
      " 1   Age                               50000 non-null  int64  \n",
      " 2   Gender                            50000 non-null  object \n",
      " 3   Marital_Status                    50000 non-null  object \n",
      " 4   Job_Role                          50000 non-null  object \n",
      " 5   Experience_Years                  50000 non-null  int64  \n",
      " 6   Monthly_Salary_INR                50000 non-null  float64\n",
      " 7   Working_Hours_per_Week            50000 non-null  int64  \n",
      " 8   Commute_Time_Hours                50000 non-null  float64\n",
      " 9   Remote_Work                       50000 non-null  bool   \n",
      " 10  Stress_Level                      50000 non-null  float64\n",
      " 11  Company_Size                      50000 non-null  object \n",
      " 12  Department                        50000 non-null  object \n",
      " 13  Sleep_Hours                       50000 non-null  float64\n",
      " 14  Physical_Activity_Hours_per_Week  50000 non-null  float64\n",
      " 15  Mental_Health_Leave_Taken         50000 non-null  object \n",
      " 16  Manager_Support_Level             50000 non-null  int64  \n",
      " 17  Work_Pressure_Level               50000 non-null  float64\n",
      " 18  Annual_Leaves_Taken               50000 non-null  float64\n",
      " 19  Work_Life_Balance                 50000 non-null  float64\n",
      " 20  Family_Support_Level              50000 non-null  int64  \n",
      " 21  Job_Satisfaction                  50000 non-null  int64  \n",
      " 22  Performance_Rating                50000 non-null  float64\n",
      " 23  Team_Size                         50000 non-null  int64  \n",
      " 24  Training_Opportunities            50000 non-null  bool   \n",
      " 25  Gender_Bias_Experienced           50000 non-null  bool   \n",
      " 26  Discrimination_Experienced        50000 non-null  bool   \n",
      " 27  Burnout_Symptoms                  50000 non-null  object \n",
      " 28  Location                          50000 non-null  object \n",
      "dtypes: bool(4), float64(9), int64(8), object(8)\n",
      "memory usage: 9.7+ MB\n"
     ]
    }
   ],
   "source": [
    "df.info()"
   ]
  },
  {
   "cell_type": "markdown",
   "metadata": {},
   "source": [
    "ONEHOTENCODING - OneHotEncoder"
   ]
  },
  {
   "cell_type": "code",
   "execution_count": 15,
   "metadata": {},
   "outputs": [],
   "source": [
    "from sklearn.preprocessing import OneHotEncoder\n",
    "one_hot=OneHotEncoder(sparse_output=False, drop='first')"
   ]
  },
  {
   "cell_type": "code",
   "execution_count": 16,
   "metadata": {},
   "outputs": [
    {
     "name": "stdout",
     "output_type": "stream",
     "text": [
      "<class 'pandas.core.frame.DataFrame'>\n",
      "RangeIndex: 50000 entries, 0 to 49999\n",
      "Data columns (total 29 columns):\n",
      " #   Column                            Non-Null Count  Dtype  \n",
      "---  ------                            --------------  -----  \n",
      " 0   ID                                50000 non-null  int64  \n",
      " 1   Age                               50000 non-null  int64  \n",
      " 2   Gender                            50000 non-null  object \n",
      " 3   Marital_Status                    50000 non-null  object \n",
      " 4   Job_Role                          50000 non-null  object \n",
      " 5   Experience_Years                  50000 non-null  int64  \n",
      " 6   Monthly_Salary_INR                50000 non-null  float64\n",
      " 7   Working_Hours_per_Week            50000 non-null  int64  \n",
      " 8   Commute_Time_Hours                50000 non-null  float64\n",
      " 9   Remote_Work                       50000 non-null  bool   \n",
      " 10  Stress_Level                      50000 non-null  float64\n",
      " 11  Company_Size                      50000 non-null  object \n",
      " 12  Department                        50000 non-null  object \n",
      " 13  Sleep_Hours                       50000 non-null  float64\n",
      " 14  Physical_Activity_Hours_per_Week  50000 non-null  float64\n",
      " 15  Mental_Health_Leave_Taken         50000 non-null  object \n",
      " 16  Manager_Support_Level             50000 non-null  int64  \n",
      " 17  Work_Pressure_Level               50000 non-null  float64\n",
      " 18  Annual_Leaves_Taken               50000 non-null  float64\n",
      " 19  Work_Life_Balance                 50000 non-null  float64\n",
      " 20  Family_Support_Level              50000 non-null  int64  \n",
      " 21  Job_Satisfaction                  50000 non-null  int64  \n",
      " 22  Performance_Rating                50000 non-null  float64\n",
      " 23  Team_Size                         50000 non-null  int64  \n",
      " 24  Training_Opportunities            50000 non-null  bool   \n",
      " 25  Gender_Bias_Experienced           50000 non-null  bool   \n",
      " 26  Discrimination_Experienced        50000 non-null  bool   \n",
      " 27  Burnout_Symptoms                  50000 non-null  object \n",
      " 28  Location                          50000 non-null  object \n",
      "dtypes: bool(4), float64(9), int64(8), object(8)\n",
      "memory usage: 9.7+ MB\n"
     ]
    }
   ],
   "source": [
    "df.info()"
   ]
  },
  {
   "cell_type": "code",
   "execution_count": 17,
   "metadata": {},
   "outputs": [],
   "source": [
    "df = df.astype({col: 'int' for col in df.select_dtypes(include=['bool']).columns})"
   ]
  },
  {
   "cell_type": "code",
   "execution_count": 18,
   "metadata": {},
   "outputs": [],
   "source": [
    "df = df.astype({col: 'str' for col in df.select_dtypes(include=['object']).columns})"
   ]
  },
  {
   "cell_type": "code",
   "execution_count": 19,
   "metadata": {},
   "outputs": [],
   "source": [
    "df_encoded=one_hot.fit_transform(df[categorical_col])"
   ]
  },
  {
   "cell_type": "code",
   "execution_count": 20,
   "metadata": {},
   "outputs": [],
   "source": [
    "encoded_df = pd.DataFrame(df_encoded, columns=one_hot.get_feature_names_out(categorical_col))\n"
   ]
  },
  {
   "cell_type": "code",
   "execution_count": 21,
   "metadata": {},
   "outputs": [],
   "source": [
    "df_encoded = df.drop(columns=categorical_col).reset_index(drop=True)\n",
    "df_encoded = pd.concat([df_encoded, encoded_df], axis=1)"
   ]
  },
  {
   "cell_type": "code",
   "execution_count": 22,
   "metadata": {},
   "outputs": [
    {
     "name": "stdout",
     "output_type": "stream",
     "text": [
      "<class 'pandas.core.frame.DataFrame'>\n",
      "RangeIndex: 50000 entries, 0 to 49999\n",
      "Data columns (total 49 columns):\n",
      " #   Column                            Non-Null Count  Dtype  \n",
      "---  ------                            --------------  -----  \n",
      " 0   ID                                50000 non-null  int64  \n",
      " 1   Age                               50000 non-null  int64  \n",
      " 2   Experience_Years                  50000 non-null  int64  \n",
      " 3   Monthly_Salary_INR                50000 non-null  float64\n",
      " 4   Working_Hours_per_Week            50000 non-null  int64  \n",
      " 5   Commute_Time_Hours                50000 non-null  float64\n",
      " 6   Remote_Work                       50000 non-null  int64  \n",
      " 7   Stress_Level                      50000 non-null  float64\n",
      " 8   Sleep_Hours                       50000 non-null  float64\n",
      " 9   Physical_Activity_Hours_per_Week  50000 non-null  float64\n",
      " 10  Manager_Support_Level             50000 non-null  int64  \n",
      " 11  Work_Pressure_Level               50000 non-null  float64\n",
      " 12  Annual_Leaves_Taken               50000 non-null  float64\n",
      " 13  Work_Life_Balance                 50000 non-null  float64\n",
      " 14  Family_Support_Level              50000 non-null  int64  \n",
      " 15  Job_Satisfaction                  50000 non-null  int64  \n",
      " 16  Performance_Rating                50000 non-null  float64\n",
      " 17  Team_Size                         50000 non-null  int64  \n",
      " 18  Training_Opportunities            50000 non-null  int64  \n",
      " 19  Gender_Bias_Experienced           50000 non-null  int64  \n",
      " 20  Discrimination_Experienced        50000 non-null  int64  \n",
      " 21  Gender_Male                       50000 non-null  float64\n",
      " 22  Gender_Non-Binary                 50000 non-null  float64\n",
      " 23  Marital_Status_Married            50000 non-null  float64\n",
      " 24  Marital_Status_Single             50000 non-null  float64\n",
      " 25  Marital_Status_Widowed            50000 non-null  float64\n",
      " 26  Job_Role_Developer                50000 non-null  float64\n",
      " 27  Job_Role_HR                       50000 non-null  float64\n",
      " 28  Job_Role_Manager                  50000 non-null  float64\n",
      " 29  Job_Role_Sales                    50000 non-null  float64\n",
      " 30  Job_Role_Support                  50000 non-null  float64\n",
      " 31  Company_Size_Medium               50000 non-null  float64\n",
      " 32  Company_Size_Small                50000 non-null  float64\n",
      " 33  Department_Finance                50000 non-null  float64\n",
      " 34  Department_HR                     50000 non-null  float64\n",
      " 35  Department_IT                     50000 non-null  float64\n",
      " 36  Department_Marketing              50000 non-null  float64\n",
      " 37  Department_Sales                  50000 non-null  float64\n",
      " 38  Mental_Health_Leave_Taken_1       50000 non-null  float64\n",
      " 39  Mental_Health_Leave_Taken_FALSE   50000 non-null  float64\n",
      " 40  Mental_Health_Leave_Taken_False   50000 non-null  float64\n",
      " 41  Mental_Health_Leave_Taken_TRUE    50000 non-null  float64\n",
      " 42  Mental_Health_Leave_Taken_True    50000 non-null  float64\n",
      " 43  Burnout_Symptoms_No               50000 non-null  float64\n",
      " 44  Burnout_Symptoms_Occasional       50000 non-null  float64\n",
      " 45  Burnout_Symptoms_Yes              50000 non-null  float64\n",
      " 46  Location_Tier-1                   50000 non-null  float64\n",
      " 47  Location_Tier-2                   50000 non-null  float64\n",
      " 48  Location_Tier-3                   50000 non-null  float64\n",
      "dtypes: float64(37), int64(12)\n",
      "memory usage: 18.7 MB\n"
     ]
    }
   ],
   "source": [
    "df_encoded.info()"
   ]
  },
  {
   "cell_type": "markdown",
   "metadata": {},
   "source": [
    "ONEHOTENCODING - get_dummies        #Restart+Cleaning"
   ]
  },
  {
   "cell_type": "code",
   "execution_count": 14,
   "metadata": {},
   "outputs": [
    {
     "name": "stdout",
     "output_type": "stream",
     "text": [
      "<class 'pandas.core.frame.DataFrame'>\n",
      "RangeIndex: 50000 entries, 0 to 49999\n",
      "Data columns (total 29 columns):\n",
      " #   Column                            Non-Null Count  Dtype  \n",
      "---  ------                            --------------  -----  \n",
      " 0   ID                                50000 non-null  int64  \n",
      " 1   Age                               50000 non-null  int64  \n",
      " 2   Gender                            50000 non-null  object \n",
      " 3   Marital_Status                    50000 non-null  object \n",
      " 4   Job_Role                          50000 non-null  object \n",
      " 5   Experience_Years                  50000 non-null  int64  \n",
      " 6   Monthly_Salary_INR                50000 non-null  float64\n",
      " 7   Working_Hours_per_Week            50000 non-null  int64  \n",
      " 8   Commute_Time_Hours                50000 non-null  float64\n",
      " 9   Remote_Work                       50000 non-null  bool   \n",
      " 10  Stress_Level                      50000 non-null  float64\n",
      " 11  Company_Size                      50000 non-null  object \n",
      " 12  Department                        50000 non-null  object \n",
      " 13  Sleep_Hours                       50000 non-null  float64\n",
      " 14  Physical_Activity_Hours_per_Week  50000 non-null  float64\n",
      " 15  Mental_Health_Leave_Taken         50000 non-null  object \n",
      " 16  Manager_Support_Level             50000 non-null  int64  \n",
      " 17  Work_Pressure_Level               50000 non-null  float64\n",
      " 18  Annual_Leaves_Taken               50000 non-null  float64\n",
      " 19  Work_Life_Balance                 50000 non-null  float64\n",
      " 20  Family_Support_Level              50000 non-null  int64  \n",
      " 21  Job_Satisfaction                  50000 non-null  int64  \n",
      " 22  Performance_Rating                50000 non-null  float64\n",
      " 23  Team_Size                         50000 non-null  int64  \n",
      " 24  Training_Opportunities            50000 non-null  bool   \n",
      " 25  Gender_Bias_Experienced           50000 non-null  bool   \n",
      " 26  Discrimination_Experienced        50000 non-null  bool   \n",
      " 27  Burnout_Symptoms                  50000 non-null  object \n",
      " 28  Location                          50000 non-null  object \n",
      "dtypes: bool(4), float64(9), int64(8), object(8)\n",
      "memory usage: 9.7+ MB\n"
     ]
    }
   ],
   "source": [
    "df.info()"
   ]
  },
  {
   "cell_type": "code",
   "execution_count": 15,
   "metadata": {},
   "outputs": [],
   "source": [
    "df_one_hot = pd.get_dummies(df[categorical_col])"
   ]
  },
  {
   "cell_type": "code",
   "execution_count": 16,
   "metadata": {},
   "outputs": [],
   "source": [
    "df = df.drop(columns=categorical_col).join(df_one_hot)"
   ]
  },
  {
   "cell_type": "code",
   "execution_count": 17,
   "metadata": {},
   "outputs": [],
   "source": [
    "df = df.astype({col: 'int' for col in df.select_dtypes(include=['bool']).columns})"
   ]
  },
  {
   "cell_type": "code",
   "execution_count": 18,
   "metadata": {},
   "outputs": [
    {
     "name": "stdout",
     "output_type": "stream",
     "text": [
      "<class 'pandas.core.frame.DataFrame'>\n",
      "RangeIndex: 50000 entries, 0 to 49999\n",
      "Data columns (total 57 columns):\n",
      " #   Column                            Non-Null Count  Dtype  \n",
      "---  ------                            --------------  -----  \n",
      " 0   ID                                50000 non-null  int64  \n",
      " 1   Age                               50000 non-null  int64  \n",
      " 2   Experience_Years                  50000 non-null  int64  \n",
      " 3   Monthly_Salary_INR                50000 non-null  float64\n",
      " 4   Working_Hours_per_Week            50000 non-null  int64  \n",
      " 5   Commute_Time_Hours                50000 non-null  float64\n",
      " 6   Remote_Work                       50000 non-null  int64  \n",
      " 7   Stress_Level                      50000 non-null  float64\n",
      " 8   Sleep_Hours                       50000 non-null  float64\n",
      " 9   Physical_Activity_Hours_per_Week  50000 non-null  float64\n",
      " 10  Manager_Support_Level             50000 non-null  int64  \n",
      " 11  Work_Pressure_Level               50000 non-null  float64\n",
      " 12  Annual_Leaves_Taken               50000 non-null  float64\n",
      " 13  Work_Life_Balance                 50000 non-null  float64\n",
      " 14  Family_Support_Level              50000 non-null  int64  \n",
      " 15  Job_Satisfaction                  50000 non-null  int64  \n",
      " 16  Performance_Rating                50000 non-null  float64\n",
      " 17  Team_Size                         50000 non-null  int64  \n",
      " 18  Training_Opportunities            50000 non-null  int64  \n",
      " 19  Gender_Bias_Experienced           50000 non-null  int64  \n",
      " 20  Discrimination_Experienced        50000 non-null  int64  \n",
      " 21  Gender_Female                     50000 non-null  int64  \n",
      " 22  Gender_Male                       50000 non-null  int64  \n",
      " 23  Gender_Non-Binary                 50000 non-null  int64  \n",
      " 24  Marital_Status_Divorced           50000 non-null  int64  \n",
      " 25  Marital_Status_Married            50000 non-null  int64  \n",
      " 26  Marital_Status_Single             50000 non-null  int64  \n",
      " 27  Marital_Status_Widowed            50000 non-null  int64  \n",
      " 28  Job_Role_Analyst                  50000 non-null  int64  \n",
      " 29  Job_Role_Developer                50000 non-null  int64  \n",
      " 30  Job_Role_HR                       50000 non-null  int64  \n",
      " 31  Job_Role_Manager                  50000 non-null  int64  \n",
      " 32  Job_Role_Sales                    50000 non-null  int64  \n",
      " 33  Job_Role_Support                  50000 non-null  int64  \n",
      " 34  Company_Size_Large                50000 non-null  int64  \n",
      " 35  Company_Size_Medium               50000 non-null  int64  \n",
      " 36  Company_Size_Small                50000 non-null  int64  \n",
      " 37  Department_Admin                  50000 non-null  int64  \n",
      " 38  Department_Finance                50000 non-null  int64  \n",
      " 39  Department_HR                     50000 non-null  int64  \n",
      " 40  Department_IT                     50000 non-null  int64  \n",
      " 41  Department_Marketing              50000 non-null  int64  \n",
      " 42  Department_Sales                  50000 non-null  int64  \n",
      " 43  Mental_Health_Leave_Taken_False   50000 non-null  int64  \n",
      " 44  Mental_Health_Leave_Taken_True    50000 non-null  int64  \n",
      " 45  Mental_Health_Leave_Taken_0       50000 non-null  int64  \n",
      " 46  Mental_Health_Leave_Taken_1       50000 non-null  int64  \n",
      " 47  Mental_Health_Leave_Taken_FALSE   50000 non-null  int64  \n",
      " 48  Mental_Health_Leave_Taken_TRUE    50000 non-null  int64  \n",
      " 49  Burnout_Symptoms_3                50000 non-null  int64  \n",
      " 50  Burnout_Symptoms_No               50000 non-null  int64  \n",
      " 51  Burnout_Symptoms_Occasional       50000 non-null  int64  \n",
      " 52  Burnout_Symptoms_Yes              50000 non-null  int64  \n",
      " 53  Location_Metro                    50000 non-null  int64  \n",
      " 54  Location_Tier-1                   50000 non-null  int64  \n",
      " 55  Location_Tier-2                   50000 non-null  int64  \n",
      " 56  Location_Tier-3                   50000 non-null  int64  \n",
      "dtypes: float64(9), int64(48)\n",
      "memory usage: 21.7 MB\n"
     ]
    }
   ],
   "source": [
    "df.info()"
   ]
  },
  {
   "cell_type": "markdown",
   "metadata": {},
   "source": [
    "LABEL ENCODING      #Restart+Cleaning"
   ]
  },
  {
   "cell_type": "code",
   "execution_count": 14,
   "metadata": {},
   "outputs": [],
   "source": [
    "from sklearn.preprocessing import LabelEncoder\n",
    "label_encoder = LabelEncoder()"
   ]
  },
  {
   "cell_type": "code",
   "execution_count": 15,
   "metadata": {},
   "outputs": [
    {
     "name": "stdout",
     "output_type": "stream",
     "text": [
      "<class 'pandas.core.frame.DataFrame'>\n",
      "RangeIndex: 50000 entries, 0 to 49999\n",
      "Data columns (total 29 columns):\n",
      " #   Column                            Non-Null Count  Dtype  \n",
      "---  ------                            --------------  -----  \n",
      " 0   ID                                50000 non-null  int64  \n",
      " 1   Age                               50000 non-null  int64  \n",
      " 2   Gender                            50000 non-null  object \n",
      " 3   Marital_Status                    50000 non-null  object \n",
      " 4   Job_Role                          50000 non-null  object \n",
      " 5   Experience_Years                  50000 non-null  int64  \n",
      " 6   Monthly_Salary_INR                50000 non-null  float64\n",
      " 7   Working_Hours_per_Week            50000 non-null  int64  \n",
      " 8   Commute_Time_Hours                50000 non-null  float64\n",
      " 9   Remote_Work                       50000 non-null  bool   \n",
      " 10  Stress_Level                      50000 non-null  float64\n",
      " 11  Company_Size                      50000 non-null  object \n",
      " 12  Department                        50000 non-null  object \n",
      " 13  Sleep_Hours                       50000 non-null  float64\n",
      " 14  Physical_Activity_Hours_per_Week  50000 non-null  float64\n",
      " 15  Mental_Health_Leave_Taken         50000 non-null  object \n",
      " 16  Manager_Support_Level             50000 non-null  int64  \n",
      " 17  Work_Pressure_Level               50000 non-null  float64\n",
      " 18  Annual_Leaves_Taken               50000 non-null  float64\n",
      " 19  Work_Life_Balance                 50000 non-null  float64\n",
      " 20  Family_Support_Level              50000 non-null  int64  \n",
      " 21  Job_Satisfaction                  50000 non-null  int64  \n",
      " 22  Performance_Rating                50000 non-null  float64\n",
      " 23  Team_Size                         50000 non-null  int64  \n",
      " 24  Training_Opportunities            50000 non-null  bool   \n",
      " 25  Gender_Bias_Experienced           50000 non-null  bool   \n",
      " 26  Discrimination_Experienced        50000 non-null  bool   \n",
      " 27  Burnout_Symptoms                  50000 non-null  object \n",
      " 28  Location                          50000 non-null  object \n",
      "dtypes: bool(4), float64(9), int64(8), object(8)\n",
      "memory usage: 9.7+ MB\n"
     ]
    }
   ],
   "source": [
    "df.info()"
   ]
  },
  {
   "cell_type": "code",
   "execution_count": 16,
   "metadata": {},
   "outputs": [],
   "source": [
    "df = df.astype({col: 'int' for col in df.select_dtypes(include=['bool']).columns})"
   ]
  },
  {
   "cell_type": "code",
   "execution_count": 17,
   "metadata": {},
   "outputs": [
    {
     "data": {
      "text/plain": [
       "[('Mental_Health_Leave_Taken',\n",
       "  array([<class 'str'>, <class 'bool'>], dtype=object))]"
      ]
     },
     "execution_count": 17,
     "metadata": {},
     "output_type": "execute_result"
    }
   ],
   "source": [
    "mixed_columns = []\n",
    "for col in df.columns:\n",
    "    unique_types = df[col].apply(type).unique()\n",
    "    if len(unique_types) > 1:\n",
    "        mixed_columns.append((col, unique_types))\n",
    "\n",
    "mixed_columns"
   ]
  },
  {
   "cell_type": "code",
   "execution_count": 18,
   "metadata": {},
   "outputs": [],
   "source": [
    "df['Mental_Health_Leave_Taken']=pd.to_numeric(df['Mental_Health_Leave_Taken'], errors='coerce')"
   ]
  },
  {
   "cell_type": "code",
   "execution_count": 19,
   "metadata": {},
   "outputs": [],
   "source": [
    "df[categorical_col]=df[categorical_col].apply(label_encoder.fit_transform)"
   ]
  },
  {
   "cell_type": "code",
   "execution_count": 20,
   "metadata": {},
   "outputs": [
    {
     "name": "stdout",
     "output_type": "stream",
     "text": [
      "<class 'pandas.core.frame.DataFrame'>\n",
      "RangeIndex: 50000 entries, 0 to 49999\n",
      "Data columns (total 29 columns):\n",
      " #   Column                            Non-Null Count  Dtype  \n",
      "---  ------                            --------------  -----  \n",
      " 0   ID                                50000 non-null  int64  \n",
      " 1   Age                               50000 non-null  int64  \n",
      " 2   Gender                            50000 non-null  int64  \n",
      " 3   Marital_Status                    50000 non-null  int64  \n",
      " 4   Job_Role                          50000 non-null  int64  \n",
      " 5   Experience_Years                  50000 non-null  int64  \n",
      " 6   Monthly_Salary_INR                50000 non-null  float64\n",
      " 7   Working_Hours_per_Week            50000 non-null  int64  \n",
      " 8   Commute_Time_Hours                50000 non-null  float64\n",
      " 9   Remote_Work                       50000 non-null  int64  \n",
      " 10  Stress_Level                      50000 non-null  float64\n",
      " 11  Company_Size                      50000 non-null  int64  \n",
      " 12  Department                        50000 non-null  int64  \n",
      " 13  Sleep_Hours                       50000 non-null  float64\n",
      " 14  Physical_Activity_Hours_per_Week  50000 non-null  float64\n",
      " 15  Mental_Health_Leave_Taken         50000 non-null  int64  \n",
      " 16  Manager_Support_Level             50000 non-null  int64  \n",
      " 17  Work_Pressure_Level               50000 non-null  float64\n",
      " 18  Annual_Leaves_Taken               50000 non-null  float64\n",
      " 19  Work_Life_Balance                 50000 non-null  float64\n",
      " 20  Family_Support_Level              50000 non-null  int64  \n",
      " 21  Job_Satisfaction                  50000 non-null  int64  \n",
      " 22  Performance_Rating                50000 non-null  float64\n",
      " 23  Team_Size                         50000 non-null  int64  \n",
      " 24  Training_Opportunities            50000 non-null  int64  \n",
      " 25  Gender_Bias_Experienced           50000 non-null  int64  \n",
      " 26  Discrimination_Experienced        50000 non-null  int64  \n",
      " 27  Burnout_Symptoms                  50000 non-null  int64  \n",
      " 28  Location                          50000 non-null  int64  \n",
      "dtypes: float64(9), int64(20)\n",
      "memory usage: 11.1 MB\n"
     ]
    }
   ],
   "source": [
    "df.info()"
   ]
  },
  {
   "cell_type": "markdown",
   "metadata": {},
   "source": [
    "FREQUENCE ENCODING        #Restart+Cleaning"
   ]
  },
  {
   "cell_type": "code",
   "execution_count": 14,
   "metadata": {},
   "outputs": [
    {
     "name": "stdout",
     "output_type": "stream",
     "text": [
      "<class 'pandas.core.frame.DataFrame'>\n",
      "RangeIndex: 50000 entries, 0 to 49999\n",
      "Data columns (total 29 columns):\n",
      " #   Column                            Non-Null Count  Dtype  \n",
      "---  ------                            --------------  -----  \n",
      " 0   ID                                50000 non-null  int64  \n",
      " 1   Age                               50000 non-null  int64  \n",
      " 2   Gender                            50000 non-null  object \n",
      " 3   Marital_Status                    50000 non-null  object \n",
      " 4   Job_Role                          50000 non-null  object \n",
      " 5   Experience_Years                  50000 non-null  int64  \n",
      " 6   Monthly_Salary_INR                50000 non-null  float64\n",
      " 7   Working_Hours_per_Week            50000 non-null  int64  \n",
      " 8   Commute_Time_Hours                50000 non-null  float64\n",
      " 9   Remote_Work                       50000 non-null  bool   \n",
      " 10  Stress_Level                      50000 non-null  float64\n",
      " 11  Company_Size                      50000 non-null  object \n",
      " 12  Department                        50000 non-null  object \n",
      " 13  Sleep_Hours                       50000 non-null  float64\n",
      " 14  Physical_Activity_Hours_per_Week  50000 non-null  float64\n",
      " 15  Mental_Health_Leave_Taken         50000 non-null  object \n",
      " 16  Manager_Support_Level             50000 non-null  int64  \n",
      " 17  Work_Pressure_Level               50000 non-null  float64\n",
      " 18  Annual_Leaves_Taken               50000 non-null  float64\n",
      " 19  Work_Life_Balance                 50000 non-null  float64\n",
      " 20  Family_Support_Level              50000 non-null  int64  \n",
      " 21  Job_Satisfaction                  50000 non-null  int64  \n",
      " 22  Performance_Rating                50000 non-null  float64\n",
      " 23  Team_Size                         50000 non-null  int64  \n",
      " 24  Training_Opportunities            50000 non-null  bool   \n",
      " 25  Gender_Bias_Experienced           50000 non-null  bool   \n",
      " 26  Discrimination_Experienced        50000 non-null  bool   \n",
      " 27  Burnout_Symptoms                  50000 non-null  object \n",
      " 28  Location                          50000 non-null  object \n",
      "dtypes: bool(4), float64(9), int64(8), object(8)\n",
      "memory usage: 9.7+ MB\n"
     ]
    }
   ],
   "source": [
    "df.info()"
   ]
  },
  {
   "cell_type": "code",
   "execution_count": 15,
   "metadata": {},
   "outputs": [],
   "source": [
    "df = df.astype({col: 'int' for col in df.select_dtypes(include=['bool']).columns})"
   ]
  },
  {
   "cell_type": "code",
   "execution_count": 16,
   "metadata": {},
   "outputs": [],
   "source": [
    "df[categorical_col]=df[categorical_col].apply(lambda col: col.map(col.value_counts()))"
   ]
  },
  {
   "cell_type": "code",
   "execution_count": 17,
   "metadata": {},
   "outputs": [
    {
     "name": "stdout",
     "output_type": "stream",
     "text": [
      "<class 'pandas.core.frame.DataFrame'>\n",
      "RangeIndex: 50000 entries, 0 to 49999\n",
      "Data columns (total 29 columns):\n",
      " #   Column                            Non-Null Count  Dtype  \n",
      "---  ------                            --------------  -----  \n",
      " 0   ID                                50000 non-null  int64  \n",
      " 1   Age                               50000 non-null  int64  \n",
      " 2   Gender                            50000 non-null  int64  \n",
      " 3   Marital_Status                    50000 non-null  int64  \n",
      " 4   Job_Role                          50000 non-null  int64  \n",
      " 5   Experience_Years                  50000 non-null  int64  \n",
      " 6   Monthly_Salary_INR                50000 non-null  float64\n",
      " 7   Working_Hours_per_Week            50000 non-null  int64  \n",
      " 8   Commute_Time_Hours                50000 non-null  float64\n",
      " 9   Remote_Work                       50000 non-null  int64  \n",
      " 10  Stress_Level                      50000 non-null  float64\n",
      " 11  Company_Size                      50000 non-null  int64  \n",
      " 12  Department                        50000 non-null  int64  \n",
      " 13  Sleep_Hours                       50000 non-null  float64\n",
      " 14  Physical_Activity_Hours_per_Week  50000 non-null  float64\n",
      " 15  Mental_Health_Leave_Taken         50000 non-null  int64  \n",
      " 16  Manager_Support_Level             50000 non-null  int64  \n",
      " 17  Work_Pressure_Level               50000 non-null  float64\n",
      " 18  Annual_Leaves_Taken               50000 non-null  float64\n",
      " 19  Work_Life_Balance                 50000 non-null  float64\n",
      " 20  Family_Support_Level              50000 non-null  int64  \n",
      " 21  Job_Satisfaction                  50000 non-null  int64  \n",
      " 22  Performance_Rating                50000 non-null  float64\n",
      " 23  Team_Size                         50000 non-null  int64  \n",
      " 24  Training_Opportunities            50000 non-null  int64  \n",
      " 25  Gender_Bias_Experienced           50000 non-null  int64  \n",
      " 26  Discrimination_Experienced        50000 non-null  int64  \n",
      " 27  Burnout_Symptoms                  50000 non-null  int64  \n",
      " 28  Location                          50000 non-null  int64  \n",
      "dtypes: float64(9), int64(20)\n",
      "memory usage: 11.1 MB\n"
     ]
    }
   ],
   "source": [
    "df.info()"
   ]
  },
  {
   "cell_type": "markdown",
   "metadata": {},
   "source": [
    "TARGET ENCODING         #Restart+Cleaning"
   ]
  },
  {
   "cell_type": "code",
   "execution_count": 14,
   "metadata": {},
   "outputs": [
    {
     "name": "stdout",
     "output_type": "stream",
     "text": [
      "<class 'pandas.core.frame.DataFrame'>\n",
      "RangeIndex: 50000 entries, 0 to 49999\n",
      "Data columns (total 29 columns):\n",
      " #   Column                            Non-Null Count  Dtype  \n",
      "---  ------                            --------------  -----  \n",
      " 0   ID                                50000 non-null  int64  \n",
      " 1   Age                               50000 non-null  int64  \n",
      " 2   Gender                            50000 non-null  object \n",
      " 3   Marital_Status                    50000 non-null  object \n",
      " 4   Job_Role                          50000 non-null  object \n",
      " 5   Experience_Years                  50000 non-null  int64  \n",
      " 6   Monthly_Salary_INR                50000 non-null  float64\n",
      " 7   Working_Hours_per_Week            50000 non-null  int64  \n",
      " 8   Commute_Time_Hours                50000 non-null  float64\n",
      " 9   Remote_Work                       50000 non-null  bool   \n",
      " 10  Stress_Level                      50000 non-null  float64\n",
      " 11  Company_Size                      50000 non-null  object \n",
      " 12  Department                        50000 non-null  object \n",
      " 13  Sleep_Hours                       50000 non-null  float64\n",
      " 14  Physical_Activity_Hours_per_Week  50000 non-null  float64\n",
      " 15  Mental_Health_Leave_Taken         50000 non-null  object \n",
      " 16  Manager_Support_Level             50000 non-null  int64  \n",
      " 17  Work_Pressure_Level               50000 non-null  float64\n",
      " 18  Annual_Leaves_Taken               50000 non-null  float64\n",
      " 19  Work_Life_Balance                 50000 non-null  float64\n",
      " 20  Family_Support_Level              50000 non-null  int64  \n",
      " 21  Job_Satisfaction                  50000 non-null  int64  \n",
      " 22  Performance_Rating                50000 non-null  float64\n",
      " 23  Team_Size                         50000 non-null  int64  \n",
      " 24  Training_Opportunities            50000 non-null  bool   \n",
      " 25  Gender_Bias_Experienced           50000 non-null  bool   \n",
      " 26  Discrimination_Experienced        50000 non-null  bool   \n",
      " 27  Burnout_Symptoms                  50000 non-null  object \n",
      " 28  Location                          50000 non-null  object \n",
      "dtypes: bool(4), float64(9), int64(8), object(8)\n",
      "memory usage: 9.7+ MB\n"
     ]
    }
   ],
   "source": [
    "df.info()"
   ]
  },
  {
   "cell_type": "code",
   "execution_count": 15,
   "metadata": {},
   "outputs": [],
   "source": [
    "import pandas as pd\n",
    "import category_encoders as ce"
   ]
  },
  {
   "cell_type": "code",
   "execution_count": 16,
   "metadata": {},
   "outputs": [
    {
     "data": {
      "text/plain": [
       "['Gender',\n",
       " 'Marital_Status',\n",
       " 'Job_Role',\n",
       " 'Company_Size',\n",
       " 'Department',\n",
       " 'Mental_Health_Leave_Taken',\n",
       " 'Burnout_Symptoms',\n",
       " 'Location']"
      ]
     },
     "execution_count": 16,
     "metadata": {},
     "output_type": "execute_result"
    }
   ],
   "source": [
    "categorical_col"
   ]
  },
  {
   "cell_type": "code",
   "execution_count": 17,
   "metadata": {},
   "outputs": [
    {
     "data": {
      "text/plain": [
       "Gender\n",
       "Female        16769\n",
       "Male          16718\n",
       "Non-Binary    16513\n",
       "Name: count, dtype: int64"
      ]
     },
     "execution_count": 17,
     "metadata": {},
     "output_type": "execute_result"
    }
   ],
   "source": [
    "df['Gender'].value_counts()"
   ]
  },
  {
   "cell_type": "code",
   "execution_count": 19,
   "metadata": {},
   "outputs": [],
   "source": [
    "df['Gender']=df['Gender'].map({'Female':2,'Male':1, 'Non-Binary':0})"
   ]
  },
  {
   "cell_type": "code",
   "execution_count": 20,
   "metadata": {},
   "outputs": [],
   "source": [
    "df[categorical_col]=df[categorical_col].apply(lambda col: col.map(df.groupby(col)['Gender'].mean()))"
   ]
  },
  {
   "cell_type": "code",
   "execution_count": 22,
   "metadata": {},
   "outputs": [],
   "source": [
    "df = df.astype({col: 'int' for col in df.select_dtypes(include=['bool']).columns})"
   ]
  },
  {
   "cell_type": "code",
   "execution_count": 24,
   "metadata": {},
   "outputs": [
    {
     "name": "stdout",
     "output_type": "stream",
     "text": [
      "<class 'pandas.core.frame.DataFrame'>\n",
      "RangeIndex: 50000 entries, 0 to 49999\n",
      "Data columns (total 29 columns):\n",
      " #   Column                            Non-Null Count  Dtype  \n",
      "---  ------                            --------------  -----  \n",
      " 0   ID                                50000 non-null  int64  \n",
      " 1   Age                               50000 non-null  int64  \n",
      " 2   Gender                            50000 non-null  float64\n",
      " 3   Marital_Status                    50000 non-null  float64\n",
      " 4   Job_Role                          50000 non-null  float64\n",
      " 5   Experience_Years                  50000 non-null  int64  \n",
      " 6   Monthly_Salary_INR                50000 non-null  float64\n",
      " 7   Working_Hours_per_Week            50000 non-null  int64  \n",
      " 8   Commute_Time_Hours                50000 non-null  float64\n",
      " 9   Remote_Work                       50000 non-null  int64  \n",
      " 10  Stress_Level                      50000 non-null  float64\n",
      " 11  Company_Size                      50000 non-null  float64\n",
      " 12  Department                        50000 non-null  float64\n",
      " 13  Sleep_Hours                       50000 non-null  float64\n",
      " 14  Physical_Activity_Hours_per_Week  50000 non-null  float64\n",
      " 15  Mental_Health_Leave_Taken         50000 non-null  float64\n",
      " 16  Manager_Support_Level             50000 non-null  int64  \n",
      " 17  Work_Pressure_Level               50000 non-null  float64\n",
      " 18  Annual_Leaves_Taken               50000 non-null  float64\n",
      " 19  Work_Life_Balance                 50000 non-null  float64\n",
      " 20  Family_Support_Level              50000 non-null  int64  \n",
      " 21  Job_Satisfaction                  50000 non-null  int64  \n",
      " 22  Performance_Rating                50000 non-null  float64\n",
      " 23  Team_Size                         50000 non-null  int64  \n",
      " 24  Training_Opportunities            50000 non-null  int64  \n",
      " 25  Gender_Bias_Experienced           50000 non-null  int64  \n",
      " 26  Discrimination_Experienced        50000 non-null  int64  \n",
      " 27  Burnout_Symptoms                  50000 non-null  float64\n",
      " 28  Location                          50000 non-null  float64\n",
      "dtypes: float64(17), int64(12)\n",
      "memory usage: 11.1 MB\n"
     ]
    }
   ],
   "source": [
    "df.info()"
   ]
  },
  {
   "cell_type": "code",
   "execution_count": null,
   "metadata": {},
   "outputs": [],
   "source": []
  }
 ],
 "metadata": {
  "kernelspec": {
   "display_name": "Python 3",
   "language": "python",
   "name": "python3"
  },
  "language_info": {
   "codemirror_mode": {
    "name": "ipython",
    "version": 3
   },
   "file_extension": ".py",
   "mimetype": "text/x-python",
   "name": "python",
   "nbconvert_exporter": "python",
   "pygments_lexer": "ipython3",
   "version": "3.9.6"
  }
 },
 "nbformat": 4,
 "nbformat_minor": 2
}
