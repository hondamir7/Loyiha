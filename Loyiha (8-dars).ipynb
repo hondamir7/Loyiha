{
 "cells": [
  {
   "cell_type": "code",
   "execution_count": 4,
   "metadata": {},
   "outputs": [],
   "source": [
    "import pandas as pd\n",
    "import numpy as np\n",
    "import matplotlib.pyplot as plt\n",
    "import seaborn as sns\n",
    "from sklearn.preprocessing import StandardScaler\n",
    "from sklearn.preprocessing import LabelEncoder\n",
    "from sklearn.preprocessing import RobustScaler\n",
    "from sklearn.preprocessing import MinMaxScaler"
   ]
  },
  {
   "cell_type": "code",
   "execution_count": 2,
   "metadata": {},
   "outputs": [],
   "source": [
    "df=pd.read_csv('Top Expensive Leagues.csv')"
   ]
  },
  {
   "cell_type": "code",
   "execution_count": 3,
   "metadata": {},
   "outputs": [
    {
     "name": "stdout",
     "output_type": "stream",
     "text": [
      "<class 'pandas.core.frame.DataFrame'>\n",
      "RangeIndex: 700 entries, 0 to 699\n",
      "Data columns (total 10 columns):\n",
      " #   Column                       Non-Null Count  Dtype  \n",
      "---  ------                       --------------  -----  \n",
      " 0   League ID                    700 non-null    object \n",
      " 1   League Name                  700 non-null    object \n",
      " 2   Country                      700 non-null    object \n",
      " 3   Sport                        700 non-null    object \n",
      " 4   Revenue (USD)                700 non-null    float64\n",
      " 5   Average Player Salary (USD)  700 non-null    object \n",
      " 6   Top Team                     700 non-null    object \n",
      " 7   Total Teams                  700 non-null    int64  \n",
      " 8   Founded Year                 700 non-null    float64\n",
      " 9   Viewership                   697 non-null    float64\n",
      "dtypes: float64(3), int64(1), object(6)\n",
      "memory usage: 54.8+ KB\n"
     ]
    }
   ],
   "source": [
    "df.info()"
   ]
  },
  {
   "cell_type": "code",
   "execution_count": 4,
   "metadata": {},
   "outputs": [
    {
     "data": {
      "text/plain": [
       "League ID                      0\n",
       "League Name                    0\n",
       "Country                        0\n",
       "Sport                          0\n",
       "Revenue (USD)                  0\n",
       "Average Player Salary (USD)    0\n",
       "Top Team                       0\n",
       "Total Teams                    0\n",
       "Founded Year                   0\n",
       "Viewership                     3\n",
       "dtype: int64"
      ]
     },
     "execution_count": 4,
     "metadata": {},
     "output_type": "execute_result"
    }
   ],
   "source": [
    "df.isnull().sum()"
   ]
  },
  {
   "cell_type": "code",
   "execution_count": 5,
   "metadata": {},
   "outputs": [
    {
     "name": "stderr",
     "output_type": "stream",
     "text": [
      "/var/folders/2n/8mc_gc0j7_b8xfff_rzhf5740000gn/T/ipykernel_2747/3569134084.py:6: FutureWarning: A value is trying to be set on a copy of a DataFrame or Series through chained assignment using an inplace method.\n",
      "The behavior will change in pandas 3.0. This inplace method will never work because the intermediate object on which we are setting values always behaves as a copy.\n",
      "\n",
      "For example, when doing 'df[col].method(value, inplace=True)', try using 'df.method({col: value}, inplace=True)' or df[col] = df[col].method(value) instead, to perform the operation inplace on the original object.\n",
      "\n",
      "\n",
      "  df[col].fillna(df[col].mean(), inplace=True)\n"
     ]
    }
   ],
   "source": [
    "missing_col=df.isnull().sum()>0\n",
    "for col in df.columns[missing_col]:\n",
    "    if df[col].dtype=='object':\n",
    "        df[col].fillna(df[col].mode()[0], inplace=True)\n",
    "    else:\n",
    "        df[col].fillna(df[col].mean(), inplace=True)"
   ]
  },
  {
   "cell_type": "code",
   "execution_count": 6,
   "metadata": {},
   "outputs": [
    {
     "data": {
      "text/plain": [
       "League ID                      0\n",
       "League Name                    0\n",
       "Country                        0\n",
       "Sport                          0\n",
       "Revenue (USD)                  0\n",
       "Average Player Salary (USD)    0\n",
       "Top Team                       0\n",
       "Total Teams                    0\n",
       "Founded Year                   0\n",
       "Viewership                     0\n",
       "dtype: int64"
      ]
     },
     "execution_count": 6,
     "metadata": {},
     "output_type": "execute_result"
    }
   ],
   "source": [
    "df.isnull().sum()"
   ]
  },
  {
   "cell_type": "markdown",
   "metadata": {},
   "source": [
    "ENCODING"
   ]
  },
  {
   "cell_type": "code",
   "execution_count": 7,
   "metadata": {},
   "outputs": [],
   "source": [
    "categorical_col=df.select_dtypes(include=['object', 'category']).columns.to_list()"
   ]
  },
  {
   "cell_type": "markdown",
   "metadata": {},
   "source": [
    "LABEL_ENCODING"
   ]
  },
  {
   "cell_type": "code",
   "execution_count": 8,
   "metadata": {},
   "outputs": [],
   "source": [
    "from sklearn.preprocessing import LabelEncoder\n",
    "label_encoder = LabelEncoder()"
   ]
  },
  {
   "cell_type": "code",
   "execution_count": 9,
   "metadata": {},
   "outputs": [],
   "source": [
    "df[categorical_col] = df[categorical_col].apply(label_encoder.fit_transform)"
   ]
  },
  {
   "cell_type": "code",
   "execution_count": 10,
   "metadata": {},
   "outputs": [
    {
     "name": "stdout",
     "output_type": "stream",
     "text": [
      "<class 'pandas.core.frame.DataFrame'>\n",
      "RangeIndex: 700 entries, 0 to 699\n",
      "Data columns (total 10 columns):\n",
      " #   Column                       Non-Null Count  Dtype  \n",
      "---  ------                       --------------  -----  \n",
      " 0   League ID                    700 non-null    int64  \n",
      " 1   League Name                  700 non-null    int64  \n",
      " 2   Country                      700 non-null    int64  \n",
      " 3   Sport                        700 non-null    int64  \n",
      " 4   Revenue (USD)                700 non-null    float64\n",
      " 5   Average Player Salary (USD)  700 non-null    int64  \n",
      " 6   Top Team                     700 non-null    int64  \n",
      " 7   Total Teams                  700 non-null    int64  \n",
      " 8   Founded Year                 700 non-null    float64\n",
      " 9   Viewership                   700 non-null    float64\n",
      "dtypes: float64(3), int64(7)\n",
      "memory usage: 54.8 KB\n"
     ]
    }
   ],
   "source": [
    "df.info()"
   ]
  },
  {
   "cell_type": "markdown",
   "metadata": {},
   "source": [
    "SCALLING"
   ]
  },
  {
   "cell_type": "code",
   "execution_count": 11,
   "metadata": {},
   "outputs": [],
   "source": [
    "from sklearn.preprocessing import LabelEncoder, MinMaxScaler, StandardScaler, RobustScaler"
   ]
  },
  {
   "cell_type": "markdown",
   "metadata": {},
   "source": [
    "MIN-MAX SCALING"
   ]
  },
  {
   "cell_type": "code",
   "execution_count": 13,
   "metadata": {},
   "outputs": [
    {
     "data": {
      "text/html": [
       "<div>\n",
       "<style scoped>\n",
       "    .dataframe tbody tr th:only-of-type {\n",
       "        vertical-align: middle;\n",
       "    }\n",
       "\n",
       "    .dataframe tbody tr th {\n",
       "        vertical-align: top;\n",
       "    }\n",
       "\n",
       "    .dataframe thead th {\n",
       "        text-align: right;\n",
       "    }\n",
       "</style>\n",
       "<table border=\"1\" class=\"dataframe\">\n",
       "  <thead>\n",
       "    <tr style=\"text-align: right;\">\n",
       "      <th></th>\n",
       "      <th>League ID</th>\n",
       "      <th>League Name</th>\n",
       "      <th>Country</th>\n",
       "      <th>Sport</th>\n",
       "      <th>Revenue (USD)</th>\n",
       "      <th>Average Player Salary (USD)</th>\n",
       "      <th>Top Team</th>\n",
       "      <th>Total Teams</th>\n",
       "      <th>Founded Year</th>\n",
       "      <th>Viewership</th>\n",
       "    </tr>\n",
       "  </thead>\n",
       "  <tbody>\n",
       "    <tr>\n",
       "      <th>0</th>\n",
       "      <td>0</td>\n",
       "      <td>6</td>\n",
       "      <td>0</td>\n",
       "      <td>3</td>\n",
       "      <td>5.275330e+09</td>\n",
       "      <td>74</td>\n",
       "      <td>15</td>\n",
       "      <td>16</td>\n",
       "      <td>1886.0</td>\n",
       "      <td>485.90</td>\n",
       "    </tr>\n",
       "    <tr>\n",
       "      <th>1</th>\n",
       "      <td>1</td>\n",
       "      <td>7</td>\n",
       "      <td>3</td>\n",
       "      <td>0</td>\n",
       "      <td>7.088640e+09</td>\n",
       "      <td>418</td>\n",
       "      <td>12</td>\n",
       "      <td>13</td>\n",
       "      <td>1977.0</td>\n",
       "      <td>135.01</td>\n",
       "    </tr>\n",
       "    <tr>\n",
       "      <th>2</th>\n",
       "      <td>2</td>\n",
       "      <td>1</td>\n",
       "      <td>0</td>\n",
       "      <td>0</td>\n",
       "      <td>7.930520e+09</td>\n",
       "      <td>179</td>\n",
       "      <td>8</td>\n",
       "      <td>13</td>\n",
       "      <td>1979.0</td>\n",
       "      <td>157.49</td>\n",
       "    </tr>\n",
       "    <tr>\n",
       "      <th>3</th>\n",
       "      <td>3</td>\n",
       "      <td>2</td>\n",
       "      <td>5</td>\n",
       "      <td>0</td>\n",
       "      <td>4.972890e+09</td>\n",
       "      <td>146</td>\n",
       "      <td>4</td>\n",
       "      <td>22</td>\n",
       "      <td>1999.0</td>\n",
       "      <td>245.71</td>\n",
       "    </tr>\n",
       "    <tr>\n",
       "      <th>4</th>\n",
       "      <td>4</td>\n",
       "      <td>7</td>\n",
       "      <td>4</td>\n",
       "      <td>1</td>\n",
       "      <td>6.265740e+09</td>\n",
       "      <td>439</td>\n",
       "      <td>13</td>\n",
       "      <td>16</td>\n",
       "      <td>1963.0</td>\n",
       "      <td>52.83</td>\n",
       "    </tr>\n",
       "  </tbody>\n",
       "</table>\n",
       "</div>"
      ],
      "text/plain": [
       "   League ID  League Name  Country  Sport  Revenue (USD)  \\\n",
       "0          0            6        0      3   5.275330e+09   \n",
       "1          1            7        3      0   7.088640e+09   \n",
       "2          2            1        0      0   7.930520e+09   \n",
       "3          3            2        5      0   4.972890e+09   \n",
       "4          4            7        4      1   6.265740e+09   \n",
       "\n",
       "   Average Player Salary (USD)  Top Team  Total Teams  Founded Year  \\\n",
       "0                           74        15           16        1886.0   \n",
       "1                          418        12           13        1977.0   \n",
       "2                          179         8           13        1979.0   \n",
       "3                          146         4           22        1999.0   \n",
       "4                          439        13           16        1963.0   \n",
       "\n",
       "   Viewership  \n",
       "0      485.90  \n",
       "1      135.01  \n",
       "2      157.49  \n",
       "3      245.71  \n",
       "4       52.83  "
      ]
     },
     "execution_count": 13,
     "metadata": {},
     "output_type": "execute_result"
    }
   ],
   "source": [
    "df.head()"
   ]
  },
  {
   "cell_type": "code",
   "execution_count": 14,
   "metadata": {},
   "outputs": [
    {
     "name": "stdout",
     "output_type": "stream",
     "text": [
      "   League ID  League Name   Country     Sport  Revenue (USD)  \\\n",
      "0   0.000000     0.857143  0.000000  1.000000       0.659089   \n",
      "1   0.001431     1.000000  0.500000  0.000000       0.886221   \n",
      "2   0.002861     0.142857  0.000000  0.000000       0.991673   \n",
      "3   0.004292     0.285714  0.833333  0.000000       0.621206   \n",
      "4   0.005722     1.000000  0.666667  0.333333       0.783146   \n",
      "\n",
      "   Average Player Salary (USD)  Top Team  Total Teams  Founded Year  \\\n",
      "0                     0.137037  0.576923     0.002981      0.927561   \n",
      "1                     0.774074  0.461538     0.001490      0.975677   \n",
      "2                     0.331481  0.307692     0.001490      0.976735   \n",
      "3                     0.270370  0.153846     0.005961      0.987310   \n",
      "4                     0.812963  0.500000     0.002981      0.968275   \n",
      "\n",
      "   Viewership  \n",
      "0    0.971768  \n",
      "1    0.266703  \n",
      "2    0.311873  \n",
      "3    0.489139  \n",
      "4    0.101573  \n"
     ]
    }
   ],
   "source": [
    "min_max_scaler = MinMaxScaler()\n",
    "df_scaled = pd.DataFrame(min_max_scaler.fit_transform(df), columns=df.columns)\n",
    "\n",
    "print(df_scaled.head())"
   ]
  },
  {
   "cell_type": "code",
   "execution_count": 16,
   "metadata": {},
   "outputs": [
    {
     "data": {
      "text/html": [
       "<div>\n",
       "<style scoped>\n",
       "    .dataframe tbody tr th:only-of-type {\n",
       "        vertical-align: middle;\n",
       "    }\n",
       "\n",
       "    .dataframe tbody tr th {\n",
       "        vertical-align: top;\n",
       "    }\n",
       "\n",
       "    .dataframe thead th {\n",
       "        text-align: right;\n",
       "    }\n",
       "</style>\n",
       "<table border=\"1\" class=\"dataframe\">\n",
       "  <thead>\n",
       "    <tr style=\"text-align: right;\">\n",
       "      <th></th>\n",
       "      <th>League ID</th>\n",
       "      <th>League Name</th>\n",
       "      <th>Country</th>\n",
       "      <th>Sport</th>\n",
       "      <th>Revenue (USD)</th>\n",
       "      <th>Average Player Salary (USD)</th>\n",
       "      <th>Top Team</th>\n",
       "      <th>Total Teams</th>\n",
       "      <th>Founded Year</th>\n",
       "      <th>Viewership</th>\n",
       "    </tr>\n",
       "  </thead>\n",
       "  <tbody>\n",
       "    <tr>\n",
       "      <th>0</th>\n",
       "      <td>0.000000</td>\n",
       "      <td>0.857143</td>\n",
       "      <td>0.000000</td>\n",
       "      <td>1.000000</td>\n",
       "      <td>0.659089</td>\n",
       "      <td>0.137037</td>\n",
       "      <td>0.576923</td>\n",
       "      <td>0.002981</td>\n",
       "      <td>0.927561</td>\n",
       "      <td>0.971768</td>\n",
       "    </tr>\n",
       "    <tr>\n",
       "      <th>1</th>\n",
       "      <td>0.001431</td>\n",
       "      <td>1.000000</td>\n",
       "      <td>0.500000</td>\n",
       "      <td>0.000000</td>\n",
       "      <td>0.886221</td>\n",
       "      <td>0.774074</td>\n",
       "      <td>0.461538</td>\n",
       "      <td>0.001490</td>\n",
       "      <td>0.975677</td>\n",
       "      <td>0.266703</td>\n",
       "    </tr>\n",
       "    <tr>\n",
       "      <th>2</th>\n",
       "      <td>0.002861</td>\n",
       "      <td>0.142857</td>\n",
       "      <td>0.000000</td>\n",
       "      <td>0.000000</td>\n",
       "      <td>0.991673</td>\n",
       "      <td>0.331481</td>\n",
       "      <td>0.307692</td>\n",
       "      <td>0.001490</td>\n",
       "      <td>0.976735</td>\n",
       "      <td>0.311873</td>\n",
       "    </tr>\n",
       "    <tr>\n",
       "      <th>3</th>\n",
       "      <td>0.004292</td>\n",
       "      <td>0.285714</td>\n",
       "      <td>0.833333</td>\n",
       "      <td>0.000000</td>\n",
       "      <td>0.621206</td>\n",
       "      <td>0.270370</td>\n",
       "      <td>0.153846</td>\n",
       "      <td>0.005961</td>\n",
       "      <td>0.987310</td>\n",
       "      <td>0.489139</td>\n",
       "    </tr>\n",
       "    <tr>\n",
       "      <th>4</th>\n",
       "      <td>0.005722</td>\n",
       "      <td>1.000000</td>\n",
       "      <td>0.666667</td>\n",
       "      <td>0.333333</td>\n",
       "      <td>0.783146</td>\n",
       "      <td>0.812963</td>\n",
       "      <td>0.500000</td>\n",
       "      <td>0.002981</td>\n",
       "      <td>0.968275</td>\n",
       "      <td>0.101573</td>\n",
       "    </tr>\n",
       "  </tbody>\n",
       "</table>\n",
       "</div>"
      ],
      "text/plain": [
       "   League ID  League Name   Country     Sport  Revenue (USD)  \\\n",
       "0   0.000000     0.857143  0.000000  1.000000       0.659089   \n",
       "1   0.001431     1.000000  0.500000  0.000000       0.886221   \n",
       "2   0.002861     0.142857  0.000000  0.000000       0.991673   \n",
       "3   0.004292     0.285714  0.833333  0.000000       0.621206   \n",
       "4   0.005722     1.000000  0.666667  0.333333       0.783146   \n",
       "\n",
       "   Average Player Salary (USD)  Top Team  Total Teams  Founded Year  \\\n",
       "0                     0.137037  0.576923     0.002981      0.927561   \n",
       "1                     0.774074  0.461538     0.001490      0.975677   \n",
       "2                     0.331481  0.307692     0.001490      0.976735   \n",
       "3                     0.270370  0.153846     0.005961      0.987310   \n",
       "4                     0.812963  0.500000     0.002981      0.968275   \n",
       "\n",
       "   Viewership  \n",
       "0    0.971768  \n",
       "1    0.266703  \n",
       "2    0.311873  \n",
       "3    0.489139  \n",
       "4    0.101573  "
      ]
     },
     "execution_count": 16,
     "metadata": {},
     "output_type": "execute_result"
    }
   ],
   "source": [
    "df_scaled.head()"
   ]
  },
  {
   "cell_type": "markdown",
   "metadata": {},
   "source": [
    "STANDARD SCALING    #Restart+Encoding+Cleaning"
   ]
  },
  {
   "cell_type": "code",
   "execution_count": 13,
   "metadata": {},
   "outputs": [
    {
     "name": "stdout",
     "output_type": "stream",
     "text": [
      "Standard Scaled DataFrame:\n",
      "   League ID  League Name   Country     Sport  Revenue (USD)  \\\n",
      "0  -1.729578     1.035002 -1.507441  1.293781       0.461642   \n",
      "1  -1.724629     1.464464  0.013763 -1.383007       1.298311   \n",
      "2  -1.719681    -1.112305 -1.507441 -1.383007       1.686759   \n",
      "3  -1.714732    -0.682844  1.027900 -1.383007       0.322094   \n",
      "4  -1.709783     1.464464  0.520831 -0.490745       0.918621   \n",
      "\n",
      "   Average Player Salary (USD)  Top Team  Total Teams  Founded Year  \\\n",
      "0                    -1.270306  0.038856    -0.106994     -0.512943   \n",
      "1                     0.940247 -0.399843    -0.130928      0.265422   \n",
      "2                    -0.595573 -0.984775    -0.130928      0.282529   \n",
      "3                    -0.807632 -1.569708    -0.059127      0.453598   \n",
      "4                     1.075194 -0.253610    -0.106994      0.145674   \n",
      "\n",
      "   Viewership  \n",
      "0    1.644673  \n",
      "1   -0.863742  \n",
      "2   -0.703038  \n",
      "3   -0.072378  \n",
      "4   -1.451224  \n"
     ]
    }
   ],
   "source": [
    "s_scaler = StandardScaler()\n",
    "df_scaled = pd.DataFrame(s_scaler.fit_transform(df), columns=df.columns)\n",
    "\n",
    "print(\"Standard Scaled DataFrame:\")\n",
    "print(df_scaled.head())"
   ]
  },
  {
   "cell_type": "code",
   "execution_count": 14,
   "metadata": {},
   "outputs": [
    {
     "data": {
      "text/html": [
       "<div>\n",
       "<style scoped>\n",
       "    .dataframe tbody tr th:only-of-type {\n",
       "        vertical-align: middle;\n",
       "    }\n",
       "\n",
       "    .dataframe tbody tr th {\n",
       "        vertical-align: top;\n",
       "    }\n",
       "\n",
       "    .dataframe thead th {\n",
       "        text-align: right;\n",
       "    }\n",
       "</style>\n",
       "<table border=\"1\" class=\"dataframe\">\n",
       "  <thead>\n",
       "    <tr style=\"text-align: right;\">\n",
       "      <th></th>\n",
       "      <th>League ID</th>\n",
       "      <th>League Name</th>\n",
       "      <th>Country</th>\n",
       "      <th>Sport</th>\n",
       "      <th>Revenue (USD)</th>\n",
       "      <th>Average Player Salary (USD)</th>\n",
       "      <th>Top Team</th>\n",
       "      <th>Total Teams</th>\n",
       "      <th>Founded Year</th>\n",
       "      <th>Viewership</th>\n",
       "    </tr>\n",
       "  </thead>\n",
       "  <tbody>\n",
       "    <tr>\n",
       "      <th>0</th>\n",
       "      <td>-1.729578</td>\n",
       "      <td>1.035002</td>\n",
       "      <td>-1.507441</td>\n",
       "      <td>1.293781</td>\n",
       "      <td>0.461642</td>\n",
       "      <td>-1.270306</td>\n",
       "      <td>0.038856</td>\n",
       "      <td>-0.106994</td>\n",
       "      <td>-0.512943</td>\n",
       "      <td>1.644673</td>\n",
       "    </tr>\n",
       "    <tr>\n",
       "      <th>1</th>\n",
       "      <td>-1.724629</td>\n",
       "      <td>1.464464</td>\n",
       "      <td>0.013763</td>\n",
       "      <td>-1.383007</td>\n",
       "      <td>1.298311</td>\n",
       "      <td>0.940247</td>\n",
       "      <td>-0.399843</td>\n",
       "      <td>-0.130928</td>\n",
       "      <td>0.265422</td>\n",
       "      <td>-0.863742</td>\n",
       "    </tr>\n",
       "    <tr>\n",
       "      <th>2</th>\n",
       "      <td>-1.719681</td>\n",
       "      <td>-1.112305</td>\n",
       "      <td>-1.507441</td>\n",
       "      <td>-1.383007</td>\n",
       "      <td>1.686759</td>\n",
       "      <td>-0.595573</td>\n",
       "      <td>-0.984775</td>\n",
       "      <td>-0.130928</td>\n",
       "      <td>0.282529</td>\n",
       "      <td>-0.703038</td>\n",
       "    </tr>\n",
       "    <tr>\n",
       "      <th>3</th>\n",
       "      <td>-1.714732</td>\n",
       "      <td>-0.682844</td>\n",
       "      <td>1.027900</td>\n",
       "      <td>-1.383007</td>\n",
       "      <td>0.322094</td>\n",
       "      <td>-0.807632</td>\n",
       "      <td>-1.569708</td>\n",
       "      <td>-0.059127</td>\n",
       "      <td>0.453598</td>\n",
       "      <td>-0.072378</td>\n",
       "    </tr>\n",
       "    <tr>\n",
       "      <th>4</th>\n",
       "      <td>-1.709783</td>\n",
       "      <td>1.464464</td>\n",
       "      <td>0.520831</td>\n",
       "      <td>-0.490745</td>\n",
       "      <td>0.918621</td>\n",
       "      <td>1.075194</td>\n",
       "      <td>-0.253610</td>\n",
       "      <td>-0.106994</td>\n",
       "      <td>0.145674</td>\n",
       "      <td>-1.451224</td>\n",
       "    </tr>\n",
       "  </tbody>\n",
       "</table>\n",
       "</div>"
      ],
      "text/plain": [
       "   League ID  League Name   Country     Sport  Revenue (USD)  \\\n",
       "0  -1.729578     1.035002 -1.507441  1.293781       0.461642   \n",
       "1  -1.724629     1.464464  0.013763 -1.383007       1.298311   \n",
       "2  -1.719681    -1.112305 -1.507441 -1.383007       1.686759   \n",
       "3  -1.714732    -0.682844  1.027900 -1.383007       0.322094   \n",
       "4  -1.709783     1.464464  0.520831 -0.490745       0.918621   \n",
       "\n",
       "   Average Player Salary (USD)  Top Team  Total Teams  Founded Year  \\\n",
       "0                    -1.270306  0.038856    -0.106994     -0.512943   \n",
       "1                     0.940247 -0.399843    -0.130928      0.265422   \n",
       "2                    -0.595573 -0.984775    -0.130928      0.282529   \n",
       "3                    -0.807632 -1.569708    -0.059127      0.453598   \n",
       "4                     1.075194 -0.253610    -0.106994      0.145674   \n",
       "\n",
       "   Viewership  \n",
       "0    1.644673  \n",
       "1   -0.863742  \n",
       "2   -0.703038  \n",
       "3   -0.072378  \n",
       "4   -1.451224  "
      ]
     },
     "execution_count": 14,
     "metadata": {},
     "output_type": "execute_result"
    }
   ],
   "source": [
    "df_scaled.head()"
   ]
  },
  {
   "cell_type": "markdown",
   "metadata": {},
   "source": [
    "ROBUST SCALING      #Restart+Encoding+Cleaning"
   ]
  },
  {
   "cell_type": "code",
   "execution_count": 12,
   "metadata": {},
   "outputs": [
    {
     "name": "stdout",
     "output_type": "stream",
     "text": [
      "Robust Scaled DataFrame:\n",
      "   League ID  League Name  Country  Sport  Revenue (USD)  \\\n",
      "0  -1.000000         0.50    -0.75    0.5       0.269249   \n",
      "1  -0.997139         0.75     0.00   -1.0       0.773401   \n",
      "2  -0.994278        -0.75    -0.75   -1.0       1.007467   \n",
      "3  -0.991416        -0.50     0.50   -1.0       0.185163   \n",
      "4  -0.988555         0.75     0.25   -0.5       0.544611   \n",
      "\n",
      "   Average Player Salary (USD)  Top Team  Total Teams  Founded Year  \\\n",
      "0                    -0.725436  0.000000    -0.416667     -0.930556   \n",
      "1                     0.538108 -0.272727    -0.666667      0.333333   \n",
      "2                    -0.339761 -0.636364    -0.666667      0.361111   \n",
      "3                    -0.460973 -1.000000     0.083333      0.638889   \n",
      "4                     0.615243 -0.181818    -0.416667      0.138889   \n",
      "\n",
      "   Viewership  \n",
      "0    0.970175  \n",
      "1   -0.489935  \n",
      "2   -0.396392  \n",
      "3   -0.029295  \n",
      "4   -0.831899  \n"
     ]
    }
   ],
   "source": [
    "r_scaler = RobustScaler()\n",
    "df_scaled = pd.DataFrame(r_scaler.fit_transform(df), columns=df.columns)\n",
    "\n",
    "print(\"Robust Scaled DataFrame:\")\n",
    "print(df_scaled.head())"
   ]
  },
  {
   "cell_type": "code",
   "execution_count": 13,
   "metadata": {},
   "outputs": [
    {
     "data": {
      "text/html": [
       "<div>\n",
       "<style scoped>\n",
       "    .dataframe tbody tr th:only-of-type {\n",
       "        vertical-align: middle;\n",
       "    }\n",
       "\n",
       "    .dataframe tbody tr th {\n",
       "        vertical-align: top;\n",
       "    }\n",
       "\n",
       "    .dataframe thead th {\n",
       "        text-align: right;\n",
       "    }\n",
       "</style>\n",
       "<table border=\"1\" class=\"dataframe\">\n",
       "  <thead>\n",
       "    <tr style=\"text-align: right;\">\n",
       "      <th></th>\n",
       "      <th>League ID</th>\n",
       "      <th>League Name</th>\n",
       "      <th>Country</th>\n",
       "      <th>Sport</th>\n",
       "      <th>Revenue (USD)</th>\n",
       "      <th>Average Player Salary (USD)</th>\n",
       "      <th>Top Team</th>\n",
       "      <th>Total Teams</th>\n",
       "      <th>Founded Year</th>\n",
       "      <th>Viewership</th>\n",
       "    </tr>\n",
       "  </thead>\n",
       "  <tbody>\n",
       "    <tr>\n",
       "      <th>0</th>\n",
       "      <td>-1.000000</td>\n",
       "      <td>0.50</td>\n",
       "      <td>-0.75</td>\n",
       "      <td>0.5</td>\n",
       "      <td>0.269249</td>\n",
       "      <td>-0.725436</td>\n",
       "      <td>0.000000</td>\n",
       "      <td>-0.416667</td>\n",
       "      <td>-0.930556</td>\n",
       "      <td>0.970175</td>\n",
       "    </tr>\n",
       "    <tr>\n",
       "      <th>1</th>\n",
       "      <td>-0.997139</td>\n",
       "      <td>0.75</td>\n",
       "      <td>0.00</td>\n",
       "      <td>-1.0</td>\n",
       "      <td>0.773401</td>\n",
       "      <td>0.538108</td>\n",
       "      <td>-0.272727</td>\n",
       "      <td>-0.666667</td>\n",
       "      <td>0.333333</td>\n",
       "      <td>-0.489935</td>\n",
       "    </tr>\n",
       "    <tr>\n",
       "      <th>2</th>\n",
       "      <td>-0.994278</td>\n",
       "      <td>-0.75</td>\n",
       "      <td>-0.75</td>\n",
       "      <td>-1.0</td>\n",
       "      <td>1.007467</td>\n",
       "      <td>-0.339761</td>\n",
       "      <td>-0.636364</td>\n",
       "      <td>-0.666667</td>\n",
       "      <td>0.361111</td>\n",
       "      <td>-0.396392</td>\n",
       "    </tr>\n",
       "    <tr>\n",
       "      <th>3</th>\n",
       "      <td>-0.991416</td>\n",
       "      <td>-0.50</td>\n",
       "      <td>0.50</td>\n",
       "      <td>-1.0</td>\n",
       "      <td>0.185163</td>\n",
       "      <td>-0.460973</td>\n",
       "      <td>-1.000000</td>\n",
       "      <td>0.083333</td>\n",
       "      <td>0.638889</td>\n",
       "      <td>-0.029295</td>\n",
       "    </tr>\n",
       "    <tr>\n",
       "      <th>4</th>\n",
       "      <td>-0.988555</td>\n",
       "      <td>0.75</td>\n",
       "      <td>0.25</td>\n",
       "      <td>-0.5</td>\n",
       "      <td>0.544611</td>\n",
       "      <td>0.615243</td>\n",
       "      <td>-0.181818</td>\n",
       "      <td>-0.416667</td>\n",
       "      <td>0.138889</td>\n",
       "      <td>-0.831899</td>\n",
       "    </tr>\n",
       "  </tbody>\n",
       "</table>\n",
       "</div>"
      ],
      "text/plain": [
       "   League ID  League Name  Country  Sport  Revenue (USD)  \\\n",
       "0  -1.000000         0.50    -0.75    0.5       0.269249   \n",
       "1  -0.997139         0.75     0.00   -1.0       0.773401   \n",
       "2  -0.994278        -0.75    -0.75   -1.0       1.007467   \n",
       "3  -0.991416        -0.50     0.50   -1.0       0.185163   \n",
       "4  -0.988555         0.75     0.25   -0.5       0.544611   \n",
       "\n",
       "   Average Player Salary (USD)  Top Team  Total Teams  Founded Year  \\\n",
       "0                    -0.725436  0.000000    -0.416667     -0.930556   \n",
       "1                     0.538108 -0.272727    -0.666667      0.333333   \n",
       "2                    -0.339761 -0.636364    -0.666667      0.361111   \n",
       "3                    -0.460973 -1.000000     0.083333      0.638889   \n",
       "4                     0.615243 -0.181818    -0.416667      0.138889   \n",
       "\n",
       "   Viewership  \n",
       "0    0.970175  \n",
       "1   -0.489935  \n",
       "2   -0.396392  \n",
       "3   -0.029295  \n",
       "4   -0.831899  "
      ]
     },
     "execution_count": 13,
     "metadata": {},
     "output_type": "execute_result"
    }
   ],
   "source": [
    "df_scaled.head()"
   ]
  }
 ],
 "metadata": {
  "kernelspec": {
   "display_name": "Python 3",
   "language": "python",
   "name": "python3"
  },
  "language_info": {
   "codemirror_mode": {
    "name": "ipython",
    "version": 3
   },
   "file_extension": ".py",
   "mimetype": "text/x-python",
   "name": "python",
   "nbconvert_exporter": "python",
   "pygments_lexer": "ipython3",
   "version": "3.9.6"
  }
 },
 "nbformat": 4,
 "nbformat_minor": 2
}
