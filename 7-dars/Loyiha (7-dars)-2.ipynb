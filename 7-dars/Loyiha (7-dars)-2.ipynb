{
 "cells": [
  {
   "cell_type": "code",
   "execution_count": 2,
   "metadata": {},
   "outputs": [],
   "source": [
    "#Kutubxonalarni import qilamiz\n",
    "\n",
    "import pandas as pd\n",
    "import numpy as np"
   ]
  },
  {
   "cell_type": "code",
   "execution_count": 3,
   "metadata": {},
   "outputs": [
    {
     "name": "stderr",
     "output_type": "stream",
     "text": [
      "/var/folders/2n/8mc_gc0j7_b8xfff_rzhf5740000gn/T/ipykernel_22313/1792476056.py:3: DtypeWarning: Columns (16) have mixed types. Specify dtype option on import or set low_memory=False.\n",
      "  df=pd.read_csv('Corporate Stress.csv')\n"
     ]
    }
   ],
   "source": [
    "#Datani yuklab olamiz\n",
    "\n",
    "df=pd.read_csv('Corporate Stress.csv')"
   ]
  },
  {
   "cell_type": "code",
   "execution_count": 4,
   "metadata": {},
   "outputs": [
    {
     "name": "stdout",
     "output_type": "stream",
     "text": [
      "<class 'pandas.core.frame.DataFrame'>\n",
      "RangeIndex: 50000 entries, 0 to 49999\n",
      "Data columns (total 30 columns):\n",
      " #   Column                            Non-Null Count  Dtype  \n",
      "---  ------                            --------------  -----  \n",
      " 0   ID                                50000 non-null  int64  \n",
      " 1   Age                               50000 non-null  int64  \n",
      " 2   Gender                            50000 non-null  object \n",
      " 3   Marital_Status                    50000 non-null  object \n",
      " 4   Job_Role                          49999 non-null  object \n",
      " 5   Experience_Years                  50000 non-null  int64  \n",
      " 6   Monthly_Salary_INR                50000 non-null  float64\n",
      " 7   Working_Hours_per_Week            50000 non-null  int64  \n",
      " 8   Commute_Time_Hours                49999 non-null  float64\n",
      " 9   Remote_Work                       50000 non-null  bool   \n",
      " 10  Stress_Level                      49999 non-null  float64\n",
      " 11  Health_Issues                     37459 non-null  object \n",
      " 12  Company_Size                      50000 non-null  object \n",
      " 13  Department                        50000 non-null  object \n",
      " 14  Sleep_Hours                       50000 non-null  float64\n",
      " 15  Physical_Activity_Hours_per_Week  50000 non-null  float64\n",
      " 16  Mental_Health_Leave_Taken         49999 non-null  object \n",
      " 17  Manager_Support_Level             50000 non-null  int64  \n",
      " 18  Work_Pressure_Level               49999 non-null  float64\n",
      " 19  Annual_Leaves_Taken               49999 non-null  float64\n",
      " 20  Work_Life_Balance                 49998 non-null  float64\n",
      " 21  Family_Support_Level              50000 non-null  int64  \n",
      " 22  Job_Satisfaction                  50000 non-null  int64  \n",
      " 23  Performance_Rating                49999 non-null  float64\n",
      " 24  Team_Size                         50000 non-null  int64  \n",
      " 25  Training_Opportunities            50000 non-null  bool   \n",
      " 26  Gender_Bias_Experienced           50000 non-null  bool   \n",
      " 27  Discrimination_Experienced        50000 non-null  bool   \n",
      " 28  Burnout_Symptoms                  50000 non-null  object \n",
      " 29  Location                          50000 non-null  object \n",
      "dtypes: bool(4), float64(9), int64(8), object(9)\n",
      "memory usage: 10.1+ MB\n"
     ]
    }
   ],
   "source": [
    "df.info()"
   ]
  },
  {
   "cell_type": "code",
   "execution_count": 5,
   "metadata": {},
   "outputs": [
    {
     "data": {
      "text/plain": [
       "ID                                      0\n",
       "Age                                     0\n",
       "Gender                                  0\n",
       "Marital_Status                          0\n",
       "Job_Role                                1\n",
       "Experience_Years                        0\n",
       "Monthly_Salary_INR                      0\n",
       "Working_Hours_per_Week                  0\n",
       "Commute_Time_Hours                      1\n",
       "Remote_Work                             0\n",
       "Stress_Level                            1\n",
       "Health_Issues                       12541\n",
       "Company_Size                            0\n",
       "Department                              0\n",
       "Sleep_Hours                             0\n",
       "Physical_Activity_Hours_per_Week        0\n",
       "Mental_Health_Leave_Taken               1\n",
       "Manager_Support_Level                   0\n",
       "Work_Pressure_Level                     1\n",
       "Annual_Leaves_Taken                     1\n",
       "Work_Life_Balance                       2\n",
       "Family_Support_Level                    0\n",
       "Job_Satisfaction                        0\n",
       "Performance_Rating                      1\n",
       "Team_Size                               0\n",
       "Training_Opportunities                  0\n",
       "Gender_Bias_Experienced                 0\n",
       "Discrimination_Experienced              0\n",
       "Burnout_Symptoms                        0\n",
       "Location                                0\n",
       "dtype: int64"
      ]
     },
     "execution_count": 5,
     "metadata": {},
     "output_type": "execute_result"
    }
   ],
   "source": [
    "#Tushib qolgan qiymatlarni ko'rish\n",
    "\n",
    "df.isnull().sum()"
   ]
  },
  {
   "cell_type": "code",
   "execution_count": 6,
   "metadata": {},
   "outputs": [],
   "source": [
    "#'Health_Issues' ustunni o'chiramiz\n",
    "\n",
    "df=df.drop(columns=['Health_Issues'])"
   ]
  },
  {
   "cell_type": "code",
   "execution_count": 7,
   "metadata": {},
   "outputs": [
    {
     "data": {
      "text/plain": [
       "ID                                  0\n",
       "Age                                 0\n",
       "Gender                              0\n",
       "Marital_Status                      0\n",
       "Job_Role                            1\n",
       "Experience_Years                    0\n",
       "Monthly_Salary_INR                  0\n",
       "Working_Hours_per_Week              0\n",
       "Commute_Time_Hours                  1\n",
       "Remote_Work                         0\n",
       "Stress_Level                        1\n",
       "Company_Size                        0\n",
       "Department                          0\n",
       "Sleep_Hours                         0\n",
       "Physical_Activity_Hours_per_Week    0\n",
       "Mental_Health_Leave_Taken           1\n",
       "Manager_Support_Level               0\n",
       "Work_Pressure_Level                 1\n",
       "Annual_Leaves_Taken                 1\n",
       "Work_Life_Balance                   2\n",
       "Family_Support_Level                0\n",
       "Job_Satisfaction                    0\n",
       "Performance_Rating                  1\n",
       "Team_Size                           0\n",
       "Training_Opportunities              0\n",
       "Gender_Bias_Experienced             0\n",
       "Discrimination_Experienced          0\n",
       "Burnout_Symptoms                    0\n",
       "Location                            0\n",
       "dtype: int64"
      ]
     },
     "execution_count": 7,
     "metadata": {},
     "output_type": "execute_result"
    }
   ],
   "source": [
    "df.isnull().sum()"
   ]
  },
  {
   "cell_type": "code",
   "execution_count": 8,
   "metadata": {},
   "outputs": [
    {
     "name": "stderr",
     "output_type": "stream",
     "text": [
      "/var/folders/2n/8mc_gc0j7_b8xfff_rzhf5740000gn/T/ipykernel_22313/776943518.py:7: FutureWarning: A value is trying to be set on a copy of a DataFrame or Series through chained assignment using an inplace method.\n",
      "The behavior will change in pandas 3.0. This inplace method will never work because the intermediate object on which we are setting values always behaves as a copy.\n",
      "\n",
      "For example, when doing 'df[col].method(value, inplace=True)', try using 'df.method({col: value}, inplace=True)' or df[col] = df[col].method(value) instead, to perform the operation inplace on the original object.\n",
      "\n",
      "\n",
      "  df[col].fillna(df[col].mean(), inplace=True)\n",
      "/var/folders/2n/8mc_gc0j7_b8xfff_rzhf5740000gn/T/ipykernel_22313/776943518.py:5: FutureWarning: A value is trying to be set on a copy of a DataFrame or Series through chained assignment using an inplace method.\n",
      "The behavior will change in pandas 3.0. This inplace method will never work because the intermediate object on which we are setting values always behaves as a copy.\n",
      "\n",
      "For example, when doing 'df[col].method(value, inplace=True)', try using 'df.method({col: value}, inplace=True)' or df[col] = df[col].method(value) instead, to perform the operation inplace on the original object.\n",
      "\n",
      "\n",
      "  df[col].fillna(df[col].mode()[0], inplace=True)\n"
     ]
    }
   ],
   "source": [
    "#Tushib qolgan qiymatlarni to'ldiramiz\n",
    "\n",
    "for col in df.columns:\n",
    "    if df[col].dtype=='object':\n",
    "        df[col].fillna(df[col].mode()[0], inplace=True)\n",
    "    else:\n",
    "        df[col].fillna(df[col].mean(), inplace=True)"
   ]
  },
  {
   "cell_type": "code",
   "execution_count": 9,
   "metadata": {},
   "outputs": [
    {
     "data": {
      "text/plain": [
       "ID                                  0\n",
       "Age                                 0\n",
       "Gender                              0\n",
       "Marital_Status                      0\n",
       "Job_Role                            0\n",
       "Experience_Years                    0\n",
       "Monthly_Salary_INR                  0\n",
       "Working_Hours_per_Week              0\n",
       "Commute_Time_Hours                  0\n",
       "Remote_Work                         0\n",
       "Stress_Level                        0\n",
       "Company_Size                        0\n",
       "Department                          0\n",
       "Sleep_Hours                         0\n",
       "Physical_Activity_Hours_per_Week    0\n",
       "Mental_Health_Leave_Taken           0\n",
       "Manager_Support_Level               0\n",
       "Work_Pressure_Level                 0\n",
       "Annual_Leaves_Taken                 0\n",
       "Work_Life_Balance                   0\n",
       "Family_Support_Level                0\n",
       "Job_Satisfaction                    0\n",
       "Performance_Rating                  0\n",
       "Team_Size                           0\n",
       "Training_Opportunities              0\n",
       "Gender_Bias_Experienced             0\n",
       "Discrimination_Experienced          0\n",
       "Burnout_Symptoms                    0\n",
       "Location                            0\n",
       "dtype: int64"
      ]
     },
     "execution_count": 9,
     "metadata": {},
     "output_type": "execute_result"
    }
   ],
   "source": [
    "df.isnull().sum()"
   ]
  },
  {
   "cell_type": "code",
   "execution_count": 10,
   "metadata": {},
   "outputs": [
    {
     "name": "stdout",
     "output_type": "stream",
     "text": [
      "<class 'pandas.core.frame.DataFrame'>\n",
      "RangeIndex: 50000 entries, 0 to 49999\n",
      "Data columns (total 29 columns):\n",
      " #   Column                            Non-Null Count  Dtype  \n",
      "---  ------                            --------------  -----  \n",
      " 0   ID                                50000 non-null  int64  \n",
      " 1   Age                               50000 non-null  int64  \n",
      " 2   Gender                            50000 non-null  object \n",
      " 3   Marital_Status                    50000 non-null  object \n",
      " 4   Job_Role                          50000 non-null  object \n",
      " 5   Experience_Years                  50000 non-null  int64  \n",
      " 6   Monthly_Salary_INR                50000 non-null  float64\n",
      " 7   Working_Hours_per_Week            50000 non-null  int64  \n",
      " 8   Commute_Time_Hours                50000 non-null  float64\n",
      " 9   Remote_Work                       50000 non-null  bool   \n",
      " 10  Stress_Level                      50000 non-null  float64\n",
      " 11  Company_Size                      50000 non-null  object \n",
      " 12  Department                        50000 non-null  object \n",
      " 13  Sleep_Hours                       50000 non-null  float64\n",
      " 14  Physical_Activity_Hours_per_Week  50000 non-null  float64\n",
      " 15  Mental_Health_Leave_Taken         50000 non-null  object \n",
      " 16  Manager_Support_Level             50000 non-null  int64  \n",
      " 17  Work_Pressure_Level               50000 non-null  float64\n",
      " 18  Annual_Leaves_Taken               50000 non-null  float64\n",
      " 19  Work_Life_Balance                 50000 non-null  float64\n",
      " 20  Family_Support_Level              50000 non-null  int64  \n",
      " 21  Job_Satisfaction                  50000 non-null  int64  \n",
      " 22  Performance_Rating                50000 non-null  float64\n",
      " 23  Team_Size                         50000 non-null  int64  \n",
      " 24  Training_Opportunities            50000 non-null  bool   \n",
      " 25  Gender_Bias_Experienced           50000 non-null  bool   \n",
      " 26  Discrimination_Experienced        50000 non-null  bool   \n",
      " 27  Burnout_Symptoms                  50000 non-null  object \n",
      " 28  Location                          50000 non-null  object \n",
      "dtypes: bool(4), float64(9), int64(8), object(8)\n",
      "memory usage: 9.7+ MB\n"
     ]
    }
   ],
   "source": [
    "df.info()"
   ]
  },
  {
   "cell_type": "code",
   "execution_count": 11,
   "metadata": {},
   "outputs": [],
   "source": [
    "df_encoded=df.copy()"
   ]
  },
  {
   "cell_type": "code",
   "execution_count": 12,
   "metadata": {},
   "outputs": [],
   "source": [
    "#Label Encoderni import qilamiz\n",
    "\n",
    "from sklearn.preprocessing import LabelEncoder"
   ]
  },
  {
   "cell_type": "code",
   "execution_count": 13,
   "metadata": {},
   "outputs": [],
   "source": [
    "#Object tipidagi ustunlarni label encoding qilamiz. Qolgan ustunlarni one-hot encoding qilamiz\n",
    "\n",
    "for col in df_encoded.select_dtypes(include=['object']).columns:\n",
    "    cardinality=df_encoded[col].nunique()\n",
    "    if cardinality<=5:\n",
    "        le=LabelEncoder()\n",
    "        df_encoded[col]=le.fit_transform(df_encoded[col])\n",
    "    else:\n",
    "        df_encoded=pd.get_dummies(df_encoded, columns=[col], dtype=int, drop_first=True)"
   ]
  },
  {
   "cell_type": "code",
   "execution_count": 14,
   "metadata": {},
   "outputs": [
    {
     "name": "stdout",
     "output_type": "stream",
     "text": [
      "<class 'pandas.core.frame.DataFrame'>\n",
      "RangeIndex: 50000 entries, 0 to 49999\n",
      "Data columns (total 41 columns):\n",
      " #   Column                            Non-Null Count  Dtype  \n",
      "---  ------                            --------------  -----  \n",
      " 0   ID                                50000 non-null  int64  \n",
      " 1   Age                               50000 non-null  int64  \n",
      " 2   Gender                            50000 non-null  int64  \n",
      " 3   Marital_Status                    50000 non-null  int64  \n",
      " 4   Experience_Years                  50000 non-null  int64  \n",
      " 5   Monthly_Salary_INR                50000 non-null  float64\n",
      " 6   Working_Hours_per_Week            50000 non-null  int64  \n",
      " 7   Commute_Time_Hours                50000 non-null  float64\n",
      " 8   Remote_Work                       50000 non-null  bool   \n",
      " 9   Stress_Level                      50000 non-null  float64\n",
      " 10  Company_Size                      50000 non-null  int64  \n",
      " 11  Sleep_Hours                       50000 non-null  float64\n",
      " 12  Physical_Activity_Hours_per_Week  50000 non-null  float64\n",
      " 13  Manager_Support_Level             50000 non-null  int64  \n",
      " 14  Work_Pressure_Level               50000 non-null  float64\n",
      " 15  Annual_Leaves_Taken               50000 non-null  float64\n",
      " 16  Work_Life_Balance                 50000 non-null  float64\n",
      " 17  Family_Support_Level              50000 non-null  int64  \n",
      " 18  Job_Satisfaction                  50000 non-null  int64  \n",
      " 19  Performance_Rating                50000 non-null  float64\n",
      " 20  Team_Size                         50000 non-null  int64  \n",
      " 21  Training_Opportunities            50000 non-null  bool   \n",
      " 22  Gender_Bias_Experienced           50000 non-null  bool   \n",
      " 23  Discrimination_Experienced        50000 non-null  bool   \n",
      " 24  Burnout_Symptoms                  50000 non-null  int64  \n",
      " 25  Location                          50000 non-null  int64  \n",
      " 26  Job_Role_Developer                50000 non-null  int64  \n",
      " 27  Job_Role_HR                       50000 non-null  int64  \n",
      " 28  Job_Role_Manager                  50000 non-null  int64  \n",
      " 29  Job_Role_Sales                    50000 non-null  int64  \n",
      " 30  Job_Role_Support                  50000 non-null  int64  \n",
      " 31  Department_Finance                50000 non-null  int64  \n",
      " 32  Department_HR                     50000 non-null  int64  \n",
      " 33  Department_IT                     50000 non-null  int64  \n",
      " 34  Department_Marketing              50000 non-null  int64  \n",
      " 35  Department_Sales                  50000 non-null  int64  \n",
      " 36  Mental_Health_Leave_Taken_True    50000 non-null  int64  \n",
      " 37  Mental_Health_Leave_Taken_0       50000 non-null  int64  \n",
      " 38  Mental_Health_Leave_Taken_1       50000 non-null  int64  \n",
      " 39  Mental_Health_Leave_Taken_FALSE   50000 non-null  int64  \n",
      " 40  Mental_Health_Leave_Taken_TRUE    50000 non-null  int64  \n",
      "dtypes: bool(4), float64(9), int64(28)\n",
      "memory usage: 14.3 MB\n"
     ]
    }
   ],
   "source": [
    "df_encoded.info()"
   ]
  },
  {
   "cell_type": "code",
   "execution_count": 15,
   "metadata": {},
   "outputs": [],
   "source": [
    "#Encoding qilingan ustunlardan tashqari bo'lgan 'bool' tipidagi ustunlarni 'int' ga o'tkazamiz\n",
    "\n",
    "df_encoded = df_encoded.astype({col: 'int' for col in df_encoded.select_dtypes(include=['bool']).columns})"
   ]
  },
  {
   "cell_type": "code",
   "execution_count": 18,
   "metadata": {},
   "outputs": [
    {
     "name": "stdout",
     "output_type": "stream",
     "text": [
      "<class 'pandas.core.frame.DataFrame'>\n",
      "RangeIndex: 50000 entries, 0 to 49999\n",
      "Data columns (total 41 columns):\n",
      " #   Column                            Non-Null Count  Dtype  \n",
      "---  ------                            --------------  -----  \n",
      " 0   ID                                50000 non-null  int64  \n",
      " 1   Age                               50000 non-null  int64  \n",
      " 2   Gender                            50000 non-null  int64  \n",
      " 3   Marital_Status                    50000 non-null  int64  \n",
      " 4   Experience_Years                  50000 non-null  int64  \n",
      " 5   Monthly_Salary_INR                50000 non-null  float64\n",
      " 6   Working_Hours_per_Week            50000 non-null  int64  \n",
      " 7   Commute_Time_Hours                50000 non-null  float64\n",
      " 8   Remote_Work                       50000 non-null  int64  \n",
      " 9   Stress_Level                      50000 non-null  float64\n",
      " 10  Company_Size                      50000 non-null  int64  \n",
      " 11  Sleep_Hours                       50000 non-null  float64\n",
      " 12  Physical_Activity_Hours_per_Week  50000 non-null  float64\n",
      " 13  Manager_Support_Level             50000 non-null  int64  \n",
      " 14  Work_Pressure_Level               50000 non-null  float64\n",
      " 15  Annual_Leaves_Taken               50000 non-null  float64\n",
      " 16  Work_Life_Balance                 50000 non-null  float64\n",
      " 17  Family_Support_Level              50000 non-null  int64  \n",
      " 18  Job_Satisfaction                  50000 non-null  int64  \n",
      " 19  Performance_Rating                50000 non-null  float64\n",
      " 20  Team_Size                         50000 non-null  int64  \n",
      " 21  Training_Opportunities            50000 non-null  int64  \n",
      " 22  Gender_Bias_Experienced           50000 non-null  int64  \n",
      " 23  Discrimination_Experienced        50000 non-null  int64  \n",
      " 24  Burnout_Symptoms                  50000 non-null  int64  \n",
      " 25  Location                          50000 non-null  int64  \n",
      " 26  Job_Role_Developer                50000 non-null  int64  \n",
      " 27  Job_Role_HR                       50000 non-null  int64  \n",
      " 28  Job_Role_Manager                  50000 non-null  int64  \n",
      " 29  Job_Role_Sales                    50000 non-null  int64  \n",
      " 30  Job_Role_Support                  50000 non-null  int64  \n",
      " 31  Department_Finance                50000 non-null  int64  \n",
      " 32  Department_HR                     50000 non-null  int64  \n",
      " 33  Department_IT                     50000 non-null  int64  \n",
      " 34  Department_Marketing              50000 non-null  int64  \n",
      " 35  Department_Sales                  50000 non-null  int64  \n",
      " 36  Mental_Health_Leave_Taken_True    50000 non-null  int64  \n",
      " 37  Mental_Health_Leave_Taken_0       50000 non-null  int64  \n",
      " 38  Mental_Health_Leave_Taken_1       50000 non-null  int64  \n",
      " 39  Mental_Health_Leave_Taken_FALSE   50000 non-null  int64  \n",
      " 40  Mental_Health_Leave_Taken_TRUE    50000 non-null  int64  \n",
      "dtypes: float64(9), int64(32)\n",
      "memory usage: 15.6 MB\n"
     ]
    }
   ],
   "source": [
    "df_encoded.info()"
   ]
  }
 ],
 "metadata": {
  "kernelspec": {
   "display_name": "Python 3",
   "language": "python",
   "name": "python3"
  },
  "language_info": {
   "codemirror_mode": {
    "name": "ipython",
    "version": 3
   },
   "file_extension": ".py",
   "mimetype": "text/x-python",
   "name": "python",
   "nbconvert_exporter": "python",
   "pygments_lexer": "ipython3",
   "version": "3.9.6"
  }
 },
 "nbformat": 4,
 "nbformat_minor": 2
}
