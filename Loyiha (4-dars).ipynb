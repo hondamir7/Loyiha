{
 "cells": [
  {
   "cell_type": "code",
   "execution_count": 1,
   "metadata": {},
   "outputs": [],
   "source": [
    "import pandas as pd\n",
    "import numpy as np\n",
    "import matplotlib.pyplot as plt\n",
    "import seaborn as sns"
   ]
  },
  {
   "cell_type": "code",
   "execution_count": 2,
   "metadata": {},
   "outputs": [
    {
     "name": "stdout",
     "output_type": "stream",
     "text": [
      "<class 'pandas.core.frame.DataFrame'>\n",
      "RangeIndex: 50000 entries, 0 to 49999\n",
      "Data columns (total 30 columns):\n",
      " #   Column                            Non-Null Count  Dtype  \n",
      "---  ------                            --------------  -----  \n",
      " 0   ID                                50000 non-null  int64  \n",
      " 1   Age                               50000 non-null  int64  \n",
      " 2   Gender                            50000 non-null  object \n",
      " 3   Marital_Status                    50000 non-null  object \n",
      " 4   Job_Role                          49999 non-null  object \n",
      " 5   Experience_Years                  50000 non-null  int64  \n",
      " 6   Monthly_Salary_INR                50000 non-null  float64\n",
      " 7   Working_Hours_per_Week            50000 non-null  int64  \n",
      " 8   Commute_Time_Hours                49999 non-null  float64\n",
      " 9   Remote_Work                       50000 non-null  bool   \n",
      " 10  Stress_Level                      49999 non-null  float64\n",
      " 11  Health_Issues                     37459 non-null  object \n",
      " 12  Company_Size                      50000 non-null  object \n",
      " 13  Department                        50000 non-null  object \n",
      " 14  Sleep_Hours                       50000 non-null  float64\n",
      " 15  Physical_Activity_Hours_per_Week  50000 non-null  float64\n",
      " 16  Mental_Health_Leave_Taken         49999 non-null  object \n",
      " 17  Manager_Support_Level             50000 non-null  int64  \n",
      " 18  Work_Pressure_Level               49999 non-null  float64\n",
      " 19  Annual_Leaves_Taken               49999 non-null  float64\n",
      " 20  Work_Life_Balance                 49998 non-null  float64\n",
      " 21  Family_Support_Level              50000 non-null  int64  \n",
      " 22  Job_Satisfaction                  50000 non-null  int64  \n",
      " 23  Performance_Rating                49999 non-null  float64\n",
      " 24  Team_Size                         50000 non-null  int64  \n",
      " 25  Training_Opportunities            50000 non-null  bool   \n",
      " 26  Gender_Bias_Experienced           50000 non-null  bool   \n",
      " 27  Discrimination_Experienced        50000 non-null  bool   \n",
      " 28  Burnout_Symptoms                  50000 non-null  object \n",
      " 29  Location                          50000 non-null  object \n",
      "dtypes: bool(4), float64(9), int64(8), object(9)\n",
      "memory usage: 10.1+ MB\n"
     ]
    },
    {
     "name": "stderr",
     "output_type": "stream",
     "text": [
      "/var/folders/2n/8mc_gc0j7_b8xfff_rzhf5740000gn/T/ipykernel_21361/2808422374.py:1: DtypeWarning: Columns (16) have mixed types. Specify dtype option on import or set low_memory=False.\n",
      "  df=pd.read_csv('Corporate Stress.csv')\n"
     ]
    }
   ],
   "source": [
    "df=pd.read_csv('Corporate Stress.csv')\n",
    "\n",
    "df.info()"
   ]
  },
  {
   "cell_type": "markdown",
   "metadata": {},
   "source": [
    "MISSING VALUES"
   ]
  },
  {
   "cell_type": "code",
   "execution_count": 3,
   "metadata": {},
   "outputs": [
    {
     "data": {
      "text/plain": [
       "ID                                      0\n",
       "Age                                     0\n",
       "Gender                                  0\n",
       "Marital_Status                          0\n",
       "Job_Role                                1\n",
       "Experience_Years                        0\n",
       "Monthly_Salary_INR                      0\n",
       "Working_Hours_per_Week                  0\n",
       "Commute_Time_Hours                      1\n",
       "Remote_Work                             0\n",
       "Stress_Level                            1\n",
       "Health_Issues                       12541\n",
       "Company_Size                            0\n",
       "Department                              0\n",
       "Sleep_Hours                             0\n",
       "Physical_Activity_Hours_per_Week        0\n",
       "Mental_Health_Leave_Taken               1\n",
       "Manager_Support_Level                   0\n",
       "Work_Pressure_Level                     1\n",
       "Annual_Leaves_Taken                     1\n",
       "Work_Life_Balance                       2\n",
       "Family_Support_Level                    0\n",
       "Job_Satisfaction                        0\n",
       "Performance_Rating                      1\n",
       "Team_Size                               0\n",
       "Training_Opportunities                  0\n",
       "Gender_Bias_Experienced                 0\n",
       "Discrimination_Experienced              0\n",
       "Burnout_Symptoms                        0\n",
       "Location                                0\n",
       "dtype: int64"
      ]
     },
     "execution_count": 3,
     "metadata": {},
     "output_type": "execute_result"
    }
   ],
   "source": [
    "df.isnull().sum()"
   ]
  },
  {
   "cell_type": "code",
   "execution_count": 4,
   "metadata": {},
   "outputs": [],
   "source": [
    "df=df.dropna()"
   ]
  },
  {
   "cell_type": "code",
   "execution_count": 5,
   "metadata": {},
   "outputs": [
    {
     "name": "stdout",
     "output_type": "stream",
     "text": [
      "<class 'pandas.core.frame.DataFrame'>\n",
      "Index: 37452 entries, 2 to 49999\n",
      "Data columns (total 30 columns):\n",
      " #   Column                            Non-Null Count  Dtype  \n",
      "---  ------                            --------------  -----  \n",
      " 0   ID                                37452 non-null  int64  \n",
      " 1   Age                               37452 non-null  int64  \n",
      " 2   Gender                            37452 non-null  object \n",
      " 3   Marital_Status                    37452 non-null  object \n",
      " 4   Job_Role                          37452 non-null  object \n",
      " 5   Experience_Years                  37452 non-null  int64  \n",
      " 6   Monthly_Salary_INR                37452 non-null  float64\n",
      " 7   Working_Hours_per_Week            37452 non-null  int64  \n",
      " 8   Commute_Time_Hours                37452 non-null  float64\n",
      " 9   Remote_Work                       37452 non-null  bool   \n",
      " 10  Stress_Level                      37452 non-null  float64\n",
      " 11  Health_Issues                     37452 non-null  object \n",
      " 12  Company_Size                      37452 non-null  object \n",
      " 13  Department                        37452 non-null  object \n",
      " 14  Sleep_Hours                       37452 non-null  float64\n",
      " 15  Physical_Activity_Hours_per_Week  37452 non-null  float64\n",
      " 16  Mental_Health_Leave_Taken         37452 non-null  object \n",
      " 17  Manager_Support_Level             37452 non-null  int64  \n",
      " 18  Work_Pressure_Level               37452 non-null  float64\n",
      " 19  Annual_Leaves_Taken               37452 non-null  float64\n",
      " 20  Work_Life_Balance                 37452 non-null  float64\n",
      " 21  Family_Support_Level              37452 non-null  int64  \n",
      " 22  Job_Satisfaction                  37452 non-null  int64  \n",
      " 23  Performance_Rating                37452 non-null  float64\n",
      " 24  Team_Size                         37452 non-null  int64  \n",
      " 25  Training_Opportunities            37452 non-null  bool   \n",
      " 26  Gender_Bias_Experienced           37452 non-null  bool   \n",
      " 27  Discrimination_Experienced        37452 non-null  bool   \n",
      " 28  Burnout_Symptoms                  37452 non-null  object \n",
      " 29  Location                          37452 non-null  object \n",
      "dtypes: bool(4), float64(9), int64(8), object(9)\n",
      "memory usage: 7.9+ MB\n"
     ]
    }
   ],
   "source": [
    "df.info()"
   ]
  },
  {
   "cell_type": "markdown",
   "metadata": {},
   "source": [
    "ENCODING"
   ]
  },
  {
   "cell_type": "code",
   "execution_count": 6,
   "metadata": {},
   "outputs": [
    {
     "data": {
      "text/plain": [
       "Index(['Gender', 'Marital_Status', 'Job_Role', 'Remote_Work', 'Health_Issues',\n",
       "       'Company_Size', 'Department', 'Mental_Health_Leave_Taken',\n",
       "       'Training_Opportunities', 'Gender_Bias_Experienced',\n",
       "       'Discrimination_Experienced', 'Burnout_Symptoms', 'Location'],\n",
       "      dtype='object')"
      ]
     },
     "execution_count": 6,
     "metadata": {},
     "output_type": "execute_result"
    }
   ],
   "source": [
    "categorical_col = df.select_dtypes(include=['object', 'category', 'bool']).columns\n",
    "\n",
    "categorical_col"
   ]
  },
  {
   "cell_type": "markdown",
   "metadata": {},
   "source": [
    "ONE-HOT ENCODING - get_dummies"
   ]
  },
  {
   "cell_type": "code",
   "execution_count": 7,
   "metadata": {},
   "outputs": [],
   "source": [
    "df = pd.get_dummies(df, columns=categorical_col, dtype=int)"
   ]
  },
  {
   "cell_type": "code",
   "execution_count": 8,
   "metadata": {},
   "outputs": [
    {
     "name": "stdout",
     "output_type": "stream",
     "text": [
      "<class 'pandas.core.frame.DataFrame'>\n",
      "Index: 37452 entries, 2 to 49999\n",
      "Data columns (total 63 columns):\n",
      " #   Column                            Non-Null Count  Dtype  \n",
      "---  ------                            --------------  -----  \n",
      " 0   ID                                37452 non-null  int64  \n",
      " 1   Age                               37452 non-null  int64  \n",
      " 2   Experience_Years                  37452 non-null  int64  \n",
      " 3   Monthly_Salary_INR                37452 non-null  float64\n",
      " 4   Working_Hours_per_Week            37452 non-null  int64  \n",
      " 5   Commute_Time_Hours                37452 non-null  float64\n",
      " 6   Stress_Level                      37452 non-null  float64\n",
      " 7   Sleep_Hours                       37452 non-null  float64\n",
      " 8   Physical_Activity_Hours_per_Week  37452 non-null  float64\n",
      " 9   Manager_Support_Level             37452 non-null  int64  \n",
      " 10  Work_Pressure_Level               37452 non-null  float64\n",
      " 11  Annual_Leaves_Taken               37452 non-null  float64\n",
      " 12  Work_Life_Balance                 37452 non-null  float64\n",
      " 13  Family_Support_Level              37452 non-null  int64  \n",
      " 14  Job_Satisfaction                  37452 non-null  int64  \n",
      " 15  Performance_Rating                37452 non-null  float64\n",
      " 16  Team_Size                         37452 non-null  int64  \n",
      " 17  Gender_Female                     37452 non-null  int64  \n",
      " 18  Gender_Male                       37452 non-null  int64  \n",
      " 19  Gender_Non-Binary                 37452 non-null  int64  \n",
      " 20  Marital_Status_Divorced           37452 non-null  int64  \n",
      " 21  Marital_Status_Married            37452 non-null  int64  \n",
      " 22  Marital_Status_Single             37452 non-null  int64  \n",
      " 23  Marital_Status_Widowed            37452 non-null  int64  \n",
      " 24  Job_Role_Analyst                  37452 non-null  int64  \n",
      " 25  Job_Role_Developer                37452 non-null  int64  \n",
      " 26  Job_Role_HR                       37452 non-null  int64  \n",
      " 27  Job_Role_Manager                  37452 non-null  int64  \n",
      " 28  Job_Role_Sales                    37452 non-null  int64  \n",
      " 29  Job_Role_Support                  37452 non-null  int64  \n",
      " 30  Remote_Work_False                 37452 non-null  int64  \n",
      " 31  Remote_Work_True                  37452 non-null  int64  \n",
      " 32  Health_Issues_Both                37452 non-null  int64  \n",
      " 33  Health_Issues_Mental              37452 non-null  int64  \n",
      " 34  Health_Issues_Physical            37452 non-null  int64  \n",
      " 35  Company_Size_Large                37452 non-null  int64  \n",
      " 36  Company_Size_Medium               37452 non-null  int64  \n",
      " 37  Company_Size_Small                37452 non-null  int64  \n",
      " 38  Department_Admin                  37452 non-null  int64  \n",
      " 39  Department_Finance                37452 non-null  int64  \n",
      " 40  Department_HR                     37452 non-null  int64  \n",
      " 41  Department_IT                     37452 non-null  int64  \n",
      " 42  Department_Marketing              37452 non-null  int64  \n",
      " 43  Department_Sales                  37452 non-null  int64  \n",
      " 44  Mental_Health_Leave_Taken_False   37452 non-null  int64  \n",
      " 45  Mental_Health_Leave_Taken_True    37452 non-null  int64  \n",
      " 46  Mental_Health_Leave_Taken_1       37452 non-null  int64  \n",
      " 47  Mental_Health_Leave_Taken_FALSE   37452 non-null  int64  \n",
      " 48  Mental_Health_Leave_Taken_TRUE    37452 non-null  int64  \n",
      " 49  Training_Opportunities_False      37452 non-null  int64  \n",
      " 50  Training_Opportunities_True       37452 non-null  int64  \n",
      " 51  Gender_Bias_Experienced_False     37452 non-null  int64  \n",
      " 52  Gender_Bias_Experienced_True      37452 non-null  int64  \n",
      " 53  Discrimination_Experienced_False  37452 non-null  int64  \n",
      " 54  Discrimination_Experienced_True   37452 non-null  int64  \n",
      " 55  Burnout_Symptoms_3                37452 non-null  int64  \n",
      " 56  Burnout_Symptoms_No               37452 non-null  int64  \n",
      " 57  Burnout_Symptoms_Occasional       37452 non-null  int64  \n",
      " 58  Burnout_Symptoms_Yes              37452 non-null  int64  \n",
      " 59  Location_Metro                    37452 non-null  int64  \n",
      " 60  Location_Tier-1                   37452 non-null  int64  \n",
      " 61  Location_Tier-2                   37452 non-null  int64  \n",
      " 62  Location_Tier-3                   37452 non-null  int64  \n",
      "dtypes: float64(9), int64(54)\n",
      "memory usage: 18.3 MB\n"
     ]
    }
   ],
   "source": [
    "df.info()"
   ]
  },
  {
   "cell_type": "markdown",
   "metadata": {},
   "source": [
    "LABEL ENCODING"
   ]
  },
  {
   "cell_type": "code",
   "execution_count": 9,
   "metadata": {},
   "outputs": [],
   "source": [
    "from sklearn.preprocessing import LabelEncoder"
   ]
  },
  {
   "cell_type": "code",
   "execution_count": 10,
   "metadata": {},
   "outputs": [],
   "source": [
    "encoder=LabelEncoder()"
   ]
  },
  {
   "cell_type": "code",
   "execution_count": 11,
   "metadata": {},
   "outputs": [
    {
     "name": "stdout",
     "output_type": "stream",
     "text": [
      "<class 'pandas.core.frame.DataFrame'>\n",
      "RangeIndex: 50000 entries, 0 to 49999\n",
      "Data columns (total 29 columns):\n",
      " #   Column                            Non-Null Count  Dtype  \n",
      "---  ------                            --------------  -----  \n",
      " 0   ID                                50000 non-null  int64  \n",
      " 1   Age                               50000 non-null  int64  \n",
      " 2   Gender                            50000 non-null  object \n",
      " 3   Marital_Status                    50000 non-null  object \n",
      " 4   Job_Role                          50000 non-null  object \n",
      " 5   Experience_Years                  50000 non-null  int64  \n",
      " 6   Monthly_Salary_INR                50000 non-null  float64\n",
      " 7   Working_Hours_per_Week            50000 non-null  int64  \n",
      " 8   Commute_Time_Hours                50000 non-null  float64\n",
      " 9   Remote_Work                       50000 non-null  bool   \n",
      " 10  Stress_Level                      50000 non-null  float64\n",
      " 11  Company_Size                      50000 non-null  object \n",
      " 12  Department                        50000 non-null  object \n",
      " 13  Sleep_Hours                       50000 non-null  float64\n",
      " 14  Physical_Activity_Hours_per_Week  50000 non-null  float64\n",
      " 15  Mental_Health_Leave_Taken         50000 non-null  object \n",
      " 16  Manager_Support_Level             50000 non-null  int64  \n",
      " 17  Work_Pressure_Level               50000 non-null  float64\n",
      " 18  Annual_Leaves_Taken               50000 non-null  float64\n",
      " 19  Work_Life_Balance                 50000 non-null  float64\n",
      " 20  Family_Support_Level              50000 non-null  int64  \n",
      " 21  Job_Satisfaction                  50000 non-null  int64  \n",
      " 22  Performance_Rating                50000 non-null  float64\n",
      " 23  Team_Size                         50000 non-null  int64  \n",
      " 24  Training_Opportunities            50000 non-null  bool   \n",
      " 25  Gender_Bias_Experienced           50000 non-null  bool   \n",
      " 26  Discrimination_Experienced        50000 non-null  bool   \n",
      " 27  Burnout_Symptoms                  50000 non-null  object \n",
      " 28  Location                          50000 non-null  object \n",
      "dtypes: bool(4), float64(9), int64(8), object(8)\n",
      "memory usage: 9.7+ MB\n"
     ]
    }
   ],
   "source": [
    "df.info()"
   ]
  },
  {
   "cell_type": "code",
   "execution_count": 12,
   "metadata": {},
   "outputs": [],
   "source": [
    "df[categorical_col] = df[categorical_col].astype(str)"
   ]
  },
  {
   "cell_type": "code",
   "execution_count": 13,
   "metadata": {},
   "outputs": [
    {
     "name": "stdout",
     "output_type": "stream",
     "text": [
      "<class 'pandas.core.frame.DataFrame'>\n",
      "RangeIndex: 50000 entries, 0 to 49999\n",
      "Data columns (total 29 columns):\n",
      " #   Column                            Non-Null Count  Dtype  \n",
      "---  ------                            --------------  -----  \n",
      " 0   ID                                50000 non-null  int64  \n",
      " 1   Age                               50000 non-null  int64  \n",
      " 2   Gender                            50000 non-null  object \n",
      " 3   Marital_Status                    50000 non-null  object \n",
      " 4   Job_Role                          50000 non-null  object \n",
      " 5   Experience_Years                  50000 non-null  int64  \n",
      " 6   Monthly_Salary_INR                50000 non-null  float64\n",
      " 7   Working_Hours_per_Week            50000 non-null  int64  \n",
      " 8   Commute_Time_Hours                50000 non-null  float64\n",
      " 9   Remote_Work                       50000 non-null  object \n",
      " 10  Stress_Level                      50000 non-null  float64\n",
      " 11  Company_Size                      50000 non-null  object \n",
      " 12  Department                        50000 non-null  object \n",
      " 13  Sleep_Hours                       50000 non-null  float64\n",
      " 14  Physical_Activity_Hours_per_Week  50000 non-null  float64\n",
      " 15  Mental_Health_Leave_Taken         50000 non-null  object \n",
      " 16  Manager_Support_Level             50000 non-null  int64  \n",
      " 17  Work_Pressure_Level               50000 non-null  float64\n",
      " 18  Annual_Leaves_Taken               50000 non-null  float64\n",
      " 19  Work_Life_Balance                 50000 non-null  float64\n",
      " 20  Family_Support_Level              50000 non-null  int64  \n",
      " 21  Job_Satisfaction                  50000 non-null  int64  \n",
      " 22  Performance_Rating                50000 non-null  float64\n",
      " 23  Team_Size                         50000 non-null  int64  \n",
      " 24  Training_Opportunities            50000 non-null  object \n",
      " 25  Gender_Bias_Experienced           50000 non-null  object \n",
      " 26  Discrimination_Experienced        50000 non-null  object \n",
      " 27  Burnout_Symptoms                  50000 non-null  object \n",
      " 28  Location                          50000 non-null  object \n",
      "dtypes: float64(9), int64(8), object(12)\n",
      "memory usage: 11.1+ MB\n"
     ]
    }
   ],
   "source": [
    "df.info()"
   ]
  },
  {
   "cell_type": "code",
   "execution_count": null,
   "metadata": {},
   "outputs": [],
   "source": [
    "for col in categorical_col:\n",
    "    df[col]=encoder.fit_transform(df[col])\n",
    "\n",
    "#Chunki Label_Encoder bir martada faqat bitta ustun bilan ishlaydi"
   ]
  },
  {
   "cell_type": "code",
   "execution_count": 16,
   "metadata": {},
   "outputs": [
    {
     "name": "stdout",
     "output_type": "stream",
     "text": [
      "<class 'pandas.core.frame.DataFrame'>\n",
      "RangeIndex: 50000 entries, 0 to 49999\n",
      "Data columns (total 29 columns):\n",
      " #   Column                            Non-Null Count  Dtype  \n",
      "---  ------                            --------------  -----  \n",
      " 0   ID                                50000 non-null  int64  \n",
      " 1   Age                               50000 non-null  int64  \n",
      " 2   Gender                            50000 non-null  int64  \n",
      " 3   Marital_Status                    50000 non-null  int64  \n",
      " 4   Job_Role                          50000 non-null  int64  \n",
      " 5   Experience_Years                  50000 non-null  int64  \n",
      " 6   Monthly_Salary_INR                50000 non-null  float64\n",
      " 7   Working_Hours_per_Week            50000 non-null  int64  \n",
      " 8   Commute_Time_Hours                50000 non-null  float64\n",
      " 9   Remote_Work                       50000 non-null  int64  \n",
      " 10  Stress_Level                      50000 non-null  float64\n",
      " 11  Company_Size                      50000 non-null  int64  \n",
      " 12  Department                        50000 non-null  int64  \n",
      " 13  Sleep_Hours                       50000 non-null  float64\n",
      " 14  Physical_Activity_Hours_per_Week  50000 non-null  float64\n",
      " 15  Mental_Health_Leave_Taken         50000 non-null  int64  \n",
      " 16  Manager_Support_Level             50000 non-null  int64  \n",
      " 17  Work_Pressure_Level               50000 non-null  float64\n",
      " 18  Annual_Leaves_Taken               50000 non-null  float64\n",
      " 19  Work_Life_Balance                 50000 non-null  float64\n",
      " 20  Family_Support_Level              50000 non-null  int64  \n",
      " 21  Job_Satisfaction                  50000 non-null  int64  \n",
      " 22  Performance_Rating                50000 non-null  float64\n",
      " 23  Team_Size                         50000 non-null  int64  \n",
      " 24  Training_Opportunities            50000 non-null  int64  \n",
      " 25  Gender_Bias_Experienced           50000 non-null  int64  \n",
      " 26  Discrimination_Experienced        50000 non-null  int64  \n",
      " 27  Burnout_Symptoms                  50000 non-null  int64  \n",
      " 28  Location                          50000 non-null  int64  \n",
      "dtypes: float64(9), int64(20)\n",
      "memory usage: 11.1 MB\n"
     ]
    }
   ],
   "source": [
    "df.info()"
   ]
  },
  {
   "cell_type": "markdown",
   "metadata": {},
   "source": [
    "TARGET ENCODING"
   ]
  },
  {
   "cell_type": "code",
   "execution_count": 7,
   "metadata": {},
   "outputs": [
    {
     "name": "stdout",
     "output_type": "stream",
     "text": [
      "<class 'pandas.core.frame.DataFrame'>\n",
      "Index: 37452 entries, 2 to 49999\n",
      "Data columns (total 30 columns):\n",
      " #   Column                            Non-Null Count  Dtype  \n",
      "---  ------                            --------------  -----  \n",
      " 0   ID                                37452 non-null  int64  \n",
      " 1   Age                               37452 non-null  int64  \n",
      " 2   Gender                            37452 non-null  object \n",
      " 3   Marital_Status                    37452 non-null  object \n",
      " 4   Job_Role                          37452 non-null  object \n",
      " 5   Experience_Years                  37452 non-null  int64  \n",
      " 6   Monthly_Salary_INR                37452 non-null  float64\n",
      " 7   Working_Hours_per_Week            37452 non-null  int64  \n",
      " 8   Commute_Time_Hours                37452 non-null  float64\n",
      " 9   Remote_Work                       37452 non-null  bool   \n",
      " 10  Stress_Level                      37452 non-null  float64\n",
      " 11  Health_Issues                     37452 non-null  object \n",
      " 12  Company_Size                      37452 non-null  object \n",
      " 13  Department                        37452 non-null  object \n",
      " 14  Sleep_Hours                       37452 non-null  float64\n",
      " 15  Physical_Activity_Hours_per_Week  37452 non-null  float64\n",
      " 16  Mental_Health_Leave_Taken         37452 non-null  object \n",
      " 17  Manager_Support_Level             37452 non-null  int64  \n",
      " 18  Work_Pressure_Level               37452 non-null  float64\n",
      " 19  Annual_Leaves_Taken               37452 non-null  float64\n",
      " 20  Work_Life_Balance                 37452 non-null  float64\n",
      " 21  Family_Support_Level              37452 non-null  int64  \n",
      " 22  Job_Satisfaction                  37452 non-null  int64  \n",
      " 23  Performance_Rating                37452 non-null  float64\n",
      " 24  Team_Size                         37452 non-null  int64  \n",
      " 25  Training_Opportunities            37452 non-null  bool   \n",
      " 26  Gender_Bias_Experienced           37452 non-null  bool   \n",
      " 27  Discrimination_Experienced        37452 non-null  bool   \n",
      " 28  Burnout_Symptoms                  37452 non-null  object \n",
      " 29  Location                          37452 non-null  object \n",
      "dtypes: bool(4), float64(9), int64(8), object(9)\n",
      "memory usage: 7.9+ MB\n"
     ]
    }
   ],
   "source": [
    "df.info()"
   ]
  },
  {
   "cell_type": "code",
   "execution_count": null,
   "metadata": {},
   "outputs": [],
   "source": [
    "for col in categorical_col:\n",
    "    df[col] = df.groupby(col)['Stress_Level'].transform('mean')"
   ]
  },
  {
   "cell_type": "code",
   "execution_count": 9,
   "metadata": {},
   "outputs": [
    {
     "name": "stdout",
     "output_type": "stream",
     "text": [
      "<class 'pandas.core.frame.DataFrame'>\n",
      "Index: 37452 entries, 2 to 49999\n",
      "Data columns (total 30 columns):\n",
      " #   Column                            Non-Null Count  Dtype  \n",
      "---  ------                            --------------  -----  \n",
      " 0   ID                                37452 non-null  int64  \n",
      " 1   Age                               37452 non-null  int64  \n",
      " 2   Gender                            37452 non-null  float64\n",
      " 3   Marital_Status                    37452 non-null  float64\n",
      " 4   Job_Role                          37452 non-null  float64\n",
      " 5   Experience_Years                  37452 non-null  int64  \n",
      " 6   Monthly_Salary_INR                37452 non-null  float64\n",
      " 7   Working_Hours_per_Week            37452 non-null  int64  \n",
      " 8   Commute_Time_Hours                37452 non-null  float64\n",
      " 9   Remote_Work                       37452 non-null  float64\n",
      " 10  Stress_Level                      37452 non-null  float64\n",
      " 11  Health_Issues                     37452 non-null  float64\n",
      " 12  Company_Size                      37452 non-null  float64\n",
      " 13  Department                        37452 non-null  float64\n",
      " 14  Sleep_Hours                       37452 non-null  float64\n",
      " 15  Physical_Activity_Hours_per_Week  37452 non-null  float64\n",
      " 16  Mental_Health_Leave_Taken         37452 non-null  float64\n",
      " 17  Manager_Support_Level             37452 non-null  int64  \n",
      " 18  Work_Pressure_Level               37452 non-null  float64\n",
      " 19  Annual_Leaves_Taken               37452 non-null  float64\n",
      " 20  Work_Life_Balance                 37452 non-null  float64\n",
      " 21  Family_Support_Level              37452 non-null  int64  \n",
      " 22  Job_Satisfaction                  37452 non-null  int64  \n",
      " 23  Performance_Rating                37452 non-null  float64\n",
      " 24  Team_Size                         37452 non-null  int64  \n",
      " 25  Training_Opportunities            37452 non-null  float64\n",
      " 26  Gender_Bias_Experienced           37452 non-null  float64\n",
      " 27  Discrimination_Experienced        37452 non-null  float64\n",
      " 28  Burnout_Symptoms                  37452 non-null  float64\n",
      " 29  Location                          37452 non-null  float64\n",
      "dtypes: float64(22), int64(8)\n",
      "memory usage: 8.9 MB\n"
     ]
    }
   ],
   "source": [
    "df.info()"
   ]
  }
 ],
 "metadata": {
  "kernelspec": {
   "display_name": "Python 3",
   "language": "python",
   "name": "python3"
  },
  "language_info": {
   "codemirror_mode": {
    "name": "ipython",
    "version": 3
   },
   "file_extension": ".py",
   "mimetype": "text/x-python",
   "name": "python",
   "nbconvert_exporter": "python",
   "pygments_lexer": "ipython3",
   "version": "3.9.6"
  }
 },
 "nbformat": 4,
 "nbformat_minor": 2
}
